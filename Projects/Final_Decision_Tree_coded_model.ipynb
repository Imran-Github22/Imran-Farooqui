{
  "nbformat": 4,
  "nbformat_minor": 0,
  "metadata": {
    "colab": {
      "name": "Final Decision-Tree-coded-model.ipynb",
      "provenance": [],
      "collapsed_sections": []
    },
    "kernelspec": {
      "display_name": "Python 3",
      "language": "python",
      "name": "python3"
    },
    "language_info": {
      "codemirror_mode": {
        "name": "ipython",
        "version": 3
      },
      "file_extension": ".py",
      "mimetype": "text/x-python",
      "name": "python",
      "nbconvert_exporter": "python",
      "pygments_lexer": "ipython3",
      "version": "3.8.5"
    }
  },
  "cells": [
    {
      "cell_type": "markdown",
      "source": [
        "#Decision Tree Model - Final Project"
      ],
      "metadata": {
        "id": "QFMegxGixz5T"
      }
    },
    {
      "cell_type": "markdown",
      "source": [
        "##Introduction\n",
        "I would use the data analysis processes and techniques in this project. I would start by briefly answering the following questons:\n",
        "\n",
        "### What are the processes of the Data Analysis?\n",
        "The Data Analysis is a process of collecting, transforming, cleaning, and modelling the data for the required information.\n",
        "\n",
        "### List 5 of the main challenges for Data Analysis?\n",
        "1.\tFinding what you want or defining the question.\n",
        "2.\tCollecting the data.\n",
        "3.\tCleaning and transforming the data.\n",
        "4.\tAnalysing the data.\n",
        "5.\tInterpreting the results.\n",
        "\n",
        "### Coding a simple decision tree\n",
        "---\n",
        "\n",
        "In this final project of this course, I am going to work with a dataset, using the idea of a decision tree class.  I am going to simplify the model and use Python code to make a simple decision tree classification model.  I will do this for two reasons:\n",
        "*   writing the code is often good for helping to understand what is going on under the bonnet of a library function\n",
        "*   it is a good coding exercise for practice as it mostly depends on calculations and if..elif..else statements\n",
        "\n",
        "In this project, I am going to code a decision tree which will use the calculated probabilities to make decisions about whether a row of given data would be classified as Iris-virginica, or not, based on sepal and petal dimensions.  It is easier to classify between two values (Iris-virginica or not).  Later, using this information, species would be further predicted by probabilities of error.\n",
        "\n",
        "![Iris-petals and sepals](https://www.math.umd.edu/~petersd/666/html/iris_with_labels.jpg)\n",
        "\n"
      ],
      "metadata": {
        "id": "kZb21_x4LYAB"
      }
    },
    {
      "cell_type": "markdown",
      "source": [
        "## The workflow:\n",
        "\n",
        "*   Collecting and investigating the data\n",
        "*   Cleaning the data\n",
        "*  divide the data set into 70% of the rows for training and 30% for testing  (we can increase the size of the training set later)\n",
        "*  find the mean for each of the 4 size columns\n",
        "*  calculate the proportion of each column that are on or above mean that are of a species (ie proportion of petal-lengths on or above mean that are Iris-virginica)\n",
        "*  infer the proportion of each that are not of that species (using 1 - proportion above).  In both cases we are looking to find if either of these is 1, which could be infered as definitely not that species. \n",
        "*  calculate a Gini Index that will indicate the probability that a prediction will be incorrect\n",
        "*  use the results of the Gini Index to model a decision tree\n",
        "*  code the decision tree model into a function that will return whether or not a row in the test set is predicted to be of species Iris-virginica\n",
        "*  use the decision tree function to predict, for each row in the test set, if the species will be Iris-virginicia or not, using a set of nested if statements to classify\n",
        "*  compare the predicted values against the actual values in the test set - what proportion were predicted correctly?"
      ],
      "metadata": {
        "id": "Wm9v-_F2NAtE"
      }
    },
    {
      "cell_type": "markdown",
      "metadata": {
        "id": "4iR8g8h_Ol0j"
      },
      "source": [
        "### Investigating the iris data set\n",
        "---\n",
        "Let's start by looking at the data.  We are going to use a data set that contains data on iris flowers.\n",
        "\n",
        "First, need to load the data at this location: https://raw.githubusercontent.com/jbrownlee/Datasets/master/iris.csv into a dataframe called iris_data\n",
        "\n",
        "Since, the columns in the CSV file do not have headings, when reading the file, need to add column headings like this:\n",
        "```\n",
        "url = \"https://raw.githubusercontent.com/jbrownlee/Datasets/master/iris.csv\"\n",
        "names = ['sepal-length', 'sepal-width', 'petal-length', 'petal-width', 'species']\n",
        "iris_data = pd.read_csv(url, name=names)\n",
        "```\n"
      ]
    },
    {
      "cell_type": "code",
      "metadata": {
        "id": "eGZuOLPYPgL5"
      },
      "source": [
        "import pandas as pd\n",
        "import numpy as np\n",
        "import matplotlib.pyplot as plt\n",
        "import seaborn as sns\n",
        "import warnings\n",
        "warnings.filterwarnings('ignore')\n",
        "\n",
        "url = \"https://raw.githubusercontent.com/jbrownlee/Datasets/master/iris.csv\"\n",
        "column_names = ['sepal-length', 'sepal-width', 'petal-length', 'petal-width', 'species']\n",
        "\n",
        "# Columns for the encoding\n",
        "dimension_columns = column_names[:-1]\n",
        "\n",
        "def load_data_frame(url, columns):\n",
        "  df = pd.read_csv(url, names=column_names)\n",
        "  return df\n",
        "\n",
        "iris_data = load_data_frame(url, column_names)"
      ],
      "execution_count": 1,
      "outputs": []
    },
    {
      "cell_type": "markdown",
      "source": [
        "###Information and Statistics:\n",
        "The loaded data information shows, if the data has successfully been loaded into the DataFrame, and if it needs any data cleaning and wrangling. The statistical information was aquired and the 5 point summary statistics information decribing the maximum, minimum, upper-quartile and lower-quartile values were checked. Additionaly the median was obtained and was included to the information generated through the builtin Pandas DataFrame.describe() function."
      ],
      "metadata": {
        "id": "bsN0LqcpjWEB"
      }
    },
    {
      "cell_type": "code",
      "source": [
        "# The funcion displays information of the raw data-set and the calculated median\n",
        "def show_info(df):\n",
        "  # Task 1 - Show Column info (how many columns, what type of data, any missing data?)\n",
        "  display(df.info())\n",
        "  print('')\n",
        "\n",
        "  # Task 2 - The first 10 and the last 10 records to show the type of values included\n",
        "  display(df.head(10))\n",
        "  print('')\n",
        "  display(df.tail(10))\n",
        "  print('')\n",
        "\n",
        "  #Task 3 - Find out how many unique values there are in the species column\n",
        "  unique_val_species = df['species'].unique()\n",
        "  print(f'Unique Species = {len(unique_val_species)}, {unique_val_species}')\n",
        "  print('')\n",
        "\n",
        "  #Task 4 - Calculate and show stats\n",
        "  describe_df = df.describe()\n",
        "\n",
        "  median_dict = dict(df[['sepal-length', 'sepal-width', 'petal-length'\\\n",
        "                                    , 'petal-width']].median(), index=['median'])\n",
        "  stats_df = pd.DataFrame.from_records(median_dict, index=['median'])\n",
        "  stats_df.drop(columns=['index'], inplace=True)\n",
        "  stats_df = pd.concat([describe_df, stats_df])\n",
        "  return stats_df\n",
        "\n",
        "show_info(iris_data)"
      ],
      "metadata": {
        "colab": {
          "base_uri": "https://localhost:8080/",
          "height": 1000
        },
        "id": "dy3Vk9Rbhn-k",
        "outputId": "12445544-7a53-4117-8838-068e4b0de5ab"
      },
      "execution_count": 2,
      "outputs": [
        {
          "output_type": "stream",
          "name": "stdout",
          "text": [
            "<class 'pandas.core.frame.DataFrame'>\n",
            "RangeIndex: 150 entries, 0 to 149\n",
            "Data columns (total 5 columns):\n",
            " #   Column        Non-Null Count  Dtype  \n",
            "---  ------        --------------  -----  \n",
            " 0   sepal-length  150 non-null    float64\n",
            " 1   sepal-width   150 non-null    float64\n",
            " 2   petal-length  150 non-null    float64\n",
            " 3   petal-width   150 non-null    float64\n",
            " 4   species       150 non-null    object \n",
            "dtypes: float64(4), object(1)\n",
            "memory usage: 6.0+ KB\n"
          ]
        },
        {
          "output_type": "display_data",
          "data": {
            "text/plain": [
              "None"
            ]
          },
          "metadata": {}
        },
        {
          "output_type": "stream",
          "name": "stdout",
          "text": [
            "\n"
          ]
        },
        {
          "output_type": "display_data",
          "data": {
            "text/plain": [
              "   sepal-length  sepal-width  petal-length  petal-width      species\n",
              "0           5.1          3.5           1.4          0.2  Iris-setosa\n",
              "1           4.9          3.0           1.4          0.2  Iris-setosa\n",
              "2           4.7          3.2           1.3          0.2  Iris-setosa\n",
              "3           4.6          3.1           1.5          0.2  Iris-setosa\n",
              "4           5.0          3.6           1.4          0.2  Iris-setosa\n",
              "5           5.4          3.9           1.7          0.4  Iris-setosa\n",
              "6           4.6          3.4           1.4          0.3  Iris-setosa\n",
              "7           5.0          3.4           1.5          0.2  Iris-setosa\n",
              "8           4.4          2.9           1.4          0.2  Iris-setosa\n",
              "9           4.9          3.1           1.5          0.1  Iris-setosa"
            ],
            "text/html": [
              "\n",
              "  <div id=\"df-9af482d4-8176-440b-ae5c-ea28a69559f4\">\n",
              "    <div class=\"colab-df-container\">\n",
              "      <div>\n",
              "<style scoped>\n",
              "    .dataframe tbody tr th:only-of-type {\n",
              "        vertical-align: middle;\n",
              "    }\n",
              "\n",
              "    .dataframe tbody tr th {\n",
              "        vertical-align: top;\n",
              "    }\n",
              "\n",
              "    .dataframe thead th {\n",
              "        text-align: right;\n",
              "    }\n",
              "</style>\n",
              "<table border=\"1\" class=\"dataframe\">\n",
              "  <thead>\n",
              "    <tr style=\"text-align: right;\">\n",
              "      <th></th>\n",
              "      <th>sepal-length</th>\n",
              "      <th>sepal-width</th>\n",
              "      <th>petal-length</th>\n",
              "      <th>petal-width</th>\n",
              "      <th>species</th>\n",
              "    </tr>\n",
              "  </thead>\n",
              "  <tbody>\n",
              "    <tr>\n",
              "      <th>0</th>\n",
              "      <td>5.1</td>\n",
              "      <td>3.5</td>\n",
              "      <td>1.4</td>\n",
              "      <td>0.2</td>\n",
              "      <td>Iris-setosa</td>\n",
              "    </tr>\n",
              "    <tr>\n",
              "      <th>1</th>\n",
              "      <td>4.9</td>\n",
              "      <td>3.0</td>\n",
              "      <td>1.4</td>\n",
              "      <td>0.2</td>\n",
              "      <td>Iris-setosa</td>\n",
              "    </tr>\n",
              "    <tr>\n",
              "      <th>2</th>\n",
              "      <td>4.7</td>\n",
              "      <td>3.2</td>\n",
              "      <td>1.3</td>\n",
              "      <td>0.2</td>\n",
              "      <td>Iris-setosa</td>\n",
              "    </tr>\n",
              "    <tr>\n",
              "      <th>3</th>\n",
              "      <td>4.6</td>\n",
              "      <td>3.1</td>\n",
              "      <td>1.5</td>\n",
              "      <td>0.2</td>\n",
              "      <td>Iris-setosa</td>\n",
              "    </tr>\n",
              "    <tr>\n",
              "      <th>4</th>\n",
              "      <td>5.0</td>\n",
              "      <td>3.6</td>\n",
              "      <td>1.4</td>\n",
              "      <td>0.2</td>\n",
              "      <td>Iris-setosa</td>\n",
              "    </tr>\n",
              "    <tr>\n",
              "      <th>5</th>\n",
              "      <td>5.4</td>\n",
              "      <td>3.9</td>\n",
              "      <td>1.7</td>\n",
              "      <td>0.4</td>\n",
              "      <td>Iris-setosa</td>\n",
              "    </tr>\n",
              "    <tr>\n",
              "      <th>6</th>\n",
              "      <td>4.6</td>\n",
              "      <td>3.4</td>\n",
              "      <td>1.4</td>\n",
              "      <td>0.3</td>\n",
              "      <td>Iris-setosa</td>\n",
              "    </tr>\n",
              "    <tr>\n",
              "      <th>7</th>\n",
              "      <td>5.0</td>\n",
              "      <td>3.4</td>\n",
              "      <td>1.5</td>\n",
              "      <td>0.2</td>\n",
              "      <td>Iris-setosa</td>\n",
              "    </tr>\n",
              "    <tr>\n",
              "      <th>8</th>\n",
              "      <td>4.4</td>\n",
              "      <td>2.9</td>\n",
              "      <td>1.4</td>\n",
              "      <td>0.2</td>\n",
              "      <td>Iris-setosa</td>\n",
              "    </tr>\n",
              "    <tr>\n",
              "      <th>9</th>\n",
              "      <td>4.9</td>\n",
              "      <td>3.1</td>\n",
              "      <td>1.5</td>\n",
              "      <td>0.1</td>\n",
              "      <td>Iris-setosa</td>\n",
              "    </tr>\n",
              "  </tbody>\n",
              "</table>\n",
              "</div>\n",
              "      <button class=\"colab-df-convert\" onclick=\"convertToInteractive('df-9af482d4-8176-440b-ae5c-ea28a69559f4')\"\n",
              "              title=\"Convert this dataframe to an interactive table.\"\n",
              "              style=\"display:none;\">\n",
              "        \n",
              "  <svg xmlns=\"http://www.w3.org/2000/svg\" height=\"24px\"viewBox=\"0 0 24 24\"\n",
              "       width=\"24px\">\n",
              "    <path d=\"M0 0h24v24H0V0z\" fill=\"none\"/>\n",
              "    <path d=\"M18.56 5.44l.94 2.06.94-2.06 2.06-.94-2.06-.94-.94-2.06-.94 2.06-2.06.94zm-11 1L8.5 8.5l.94-2.06 2.06-.94-2.06-.94L8.5 2.5l-.94 2.06-2.06.94zm10 10l.94 2.06.94-2.06 2.06-.94-2.06-.94-.94-2.06-.94 2.06-2.06.94z\"/><path d=\"M17.41 7.96l-1.37-1.37c-.4-.4-.92-.59-1.43-.59-.52 0-1.04.2-1.43.59L10.3 9.45l-7.72 7.72c-.78.78-.78 2.05 0 2.83L4 21.41c.39.39.9.59 1.41.59.51 0 1.02-.2 1.41-.59l7.78-7.78 2.81-2.81c.8-.78.8-2.07 0-2.86zM5.41 20L4 18.59l7.72-7.72 1.47 1.35L5.41 20z\"/>\n",
              "  </svg>\n",
              "      </button>\n",
              "      \n",
              "  <style>\n",
              "    .colab-df-container {\n",
              "      display:flex;\n",
              "      flex-wrap:wrap;\n",
              "      gap: 12px;\n",
              "    }\n",
              "\n",
              "    .colab-df-convert {\n",
              "      background-color: #E8F0FE;\n",
              "      border: none;\n",
              "      border-radius: 50%;\n",
              "      cursor: pointer;\n",
              "      display: none;\n",
              "      fill: #1967D2;\n",
              "      height: 32px;\n",
              "      padding: 0 0 0 0;\n",
              "      width: 32px;\n",
              "    }\n",
              "\n",
              "    .colab-df-convert:hover {\n",
              "      background-color: #E2EBFA;\n",
              "      box-shadow: 0px 1px 2px rgba(60, 64, 67, 0.3), 0px 1px 3px 1px rgba(60, 64, 67, 0.15);\n",
              "      fill: #174EA6;\n",
              "    }\n",
              "\n",
              "    [theme=dark] .colab-df-convert {\n",
              "      background-color: #3B4455;\n",
              "      fill: #D2E3FC;\n",
              "    }\n",
              "\n",
              "    [theme=dark] .colab-df-convert:hover {\n",
              "      background-color: #434B5C;\n",
              "      box-shadow: 0px 1px 3px 1px rgba(0, 0, 0, 0.15);\n",
              "      filter: drop-shadow(0px 1px 2px rgba(0, 0, 0, 0.3));\n",
              "      fill: #FFFFFF;\n",
              "    }\n",
              "  </style>\n",
              "\n",
              "      <script>\n",
              "        const buttonEl =\n",
              "          document.querySelector('#df-9af482d4-8176-440b-ae5c-ea28a69559f4 button.colab-df-convert');\n",
              "        buttonEl.style.display =\n",
              "          google.colab.kernel.accessAllowed ? 'block' : 'none';\n",
              "\n",
              "        async function convertToInteractive(key) {\n",
              "          const element = document.querySelector('#df-9af482d4-8176-440b-ae5c-ea28a69559f4');\n",
              "          const dataTable =\n",
              "            await google.colab.kernel.invokeFunction('convertToInteractive',\n",
              "                                                     [key], {});\n",
              "          if (!dataTable) return;\n",
              "\n",
              "          const docLinkHtml = 'Like what you see? Visit the ' +\n",
              "            '<a target=\"_blank\" href=https://colab.research.google.com/notebooks/data_table.ipynb>data table notebook</a>'\n",
              "            + ' to learn more about interactive tables.';\n",
              "          element.innerHTML = '';\n",
              "          dataTable['output_type'] = 'display_data';\n",
              "          await google.colab.output.renderOutput(dataTable, element);\n",
              "          const docLink = document.createElement('div');\n",
              "          docLink.innerHTML = docLinkHtml;\n",
              "          element.appendChild(docLink);\n",
              "        }\n",
              "      </script>\n",
              "    </div>\n",
              "  </div>\n",
              "  "
            ]
          },
          "metadata": {}
        },
        {
          "output_type": "stream",
          "name": "stdout",
          "text": [
            "\n"
          ]
        },
        {
          "output_type": "display_data",
          "data": {
            "text/plain": [
              "     sepal-length  sepal-width  petal-length  petal-width         species\n",
              "140           6.7          3.1           5.6          2.4  Iris-virginica\n",
              "141           6.9          3.1           5.1          2.3  Iris-virginica\n",
              "142           5.8          2.7           5.1          1.9  Iris-virginica\n",
              "143           6.8          3.2           5.9          2.3  Iris-virginica\n",
              "144           6.7          3.3           5.7          2.5  Iris-virginica\n",
              "145           6.7          3.0           5.2          2.3  Iris-virginica\n",
              "146           6.3          2.5           5.0          1.9  Iris-virginica\n",
              "147           6.5          3.0           5.2          2.0  Iris-virginica\n",
              "148           6.2          3.4           5.4          2.3  Iris-virginica\n",
              "149           5.9          3.0           5.1          1.8  Iris-virginica"
            ],
            "text/html": [
              "\n",
              "  <div id=\"df-c8e32fe2-7671-4f2d-8b64-d7cb81eed0a5\">\n",
              "    <div class=\"colab-df-container\">\n",
              "      <div>\n",
              "<style scoped>\n",
              "    .dataframe tbody tr th:only-of-type {\n",
              "        vertical-align: middle;\n",
              "    }\n",
              "\n",
              "    .dataframe tbody tr th {\n",
              "        vertical-align: top;\n",
              "    }\n",
              "\n",
              "    .dataframe thead th {\n",
              "        text-align: right;\n",
              "    }\n",
              "</style>\n",
              "<table border=\"1\" class=\"dataframe\">\n",
              "  <thead>\n",
              "    <tr style=\"text-align: right;\">\n",
              "      <th></th>\n",
              "      <th>sepal-length</th>\n",
              "      <th>sepal-width</th>\n",
              "      <th>petal-length</th>\n",
              "      <th>petal-width</th>\n",
              "      <th>species</th>\n",
              "    </tr>\n",
              "  </thead>\n",
              "  <tbody>\n",
              "    <tr>\n",
              "      <th>140</th>\n",
              "      <td>6.7</td>\n",
              "      <td>3.1</td>\n",
              "      <td>5.6</td>\n",
              "      <td>2.4</td>\n",
              "      <td>Iris-virginica</td>\n",
              "    </tr>\n",
              "    <tr>\n",
              "      <th>141</th>\n",
              "      <td>6.9</td>\n",
              "      <td>3.1</td>\n",
              "      <td>5.1</td>\n",
              "      <td>2.3</td>\n",
              "      <td>Iris-virginica</td>\n",
              "    </tr>\n",
              "    <tr>\n",
              "      <th>142</th>\n",
              "      <td>5.8</td>\n",
              "      <td>2.7</td>\n",
              "      <td>5.1</td>\n",
              "      <td>1.9</td>\n",
              "      <td>Iris-virginica</td>\n",
              "    </tr>\n",
              "    <tr>\n",
              "      <th>143</th>\n",
              "      <td>6.8</td>\n",
              "      <td>3.2</td>\n",
              "      <td>5.9</td>\n",
              "      <td>2.3</td>\n",
              "      <td>Iris-virginica</td>\n",
              "    </tr>\n",
              "    <tr>\n",
              "      <th>144</th>\n",
              "      <td>6.7</td>\n",
              "      <td>3.3</td>\n",
              "      <td>5.7</td>\n",
              "      <td>2.5</td>\n",
              "      <td>Iris-virginica</td>\n",
              "    </tr>\n",
              "    <tr>\n",
              "      <th>145</th>\n",
              "      <td>6.7</td>\n",
              "      <td>3.0</td>\n",
              "      <td>5.2</td>\n",
              "      <td>2.3</td>\n",
              "      <td>Iris-virginica</td>\n",
              "    </tr>\n",
              "    <tr>\n",
              "      <th>146</th>\n",
              "      <td>6.3</td>\n",
              "      <td>2.5</td>\n",
              "      <td>5.0</td>\n",
              "      <td>1.9</td>\n",
              "      <td>Iris-virginica</td>\n",
              "    </tr>\n",
              "    <tr>\n",
              "      <th>147</th>\n",
              "      <td>6.5</td>\n",
              "      <td>3.0</td>\n",
              "      <td>5.2</td>\n",
              "      <td>2.0</td>\n",
              "      <td>Iris-virginica</td>\n",
              "    </tr>\n",
              "    <tr>\n",
              "      <th>148</th>\n",
              "      <td>6.2</td>\n",
              "      <td>3.4</td>\n",
              "      <td>5.4</td>\n",
              "      <td>2.3</td>\n",
              "      <td>Iris-virginica</td>\n",
              "    </tr>\n",
              "    <tr>\n",
              "      <th>149</th>\n",
              "      <td>5.9</td>\n",
              "      <td>3.0</td>\n",
              "      <td>5.1</td>\n",
              "      <td>1.8</td>\n",
              "      <td>Iris-virginica</td>\n",
              "    </tr>\n",
              "  </tbody>\n",
              "</table>\n",
              "</div>\n",
              "      <button class=\"colab-df-convert\" onclick=\"convertToInteractive('df-c8e32fe2-7671-4f2d-8b64-d7cb81eed0a5')\"\n",
              "              title=\"Convert this dataframe to an interactive table.\"\n",
              "              style=\"display:none;\">\n",
              "        \n",
              "  <svg xmlns=\"http://www.w3.org/2000/svg\" height=\"24px\"viewBox=\"0 0 24 24\"\n",
              "       width=\"24px\">\n",
              "    <path d=\"M0 0h24v24H0V0z\" fill=\"none\"/>\n",
              "    <path d=\"M18.56 5.44l.94 2.06.94-2.06 2.06-.94-2.06-.94-.94-2.06-.94 2.06-2.06.94zm-11 1L8.5 8.5l.94-2.06 2.06-.94-2.06-.94L8.5 2.5l-.94 2.06-2.06.94zm10 10l.94 2.06.94-2.06 2.06-.94-2.06-.94-.94-2.06-.94 2.06-2.06.94z\"/><path d=\"M17.41 7.96l-1.37-1.37c-.4-.4-.92-.59-1.43-.59-.52 0-1.04.2-1.43.59L10.3 9.45l-7.72 7.72c-.78.78-.78 2.05 0 2.83L4 21.41c.39.39.9.59 1.41.59.51 0 1.02-.2 1.41-.59l7.78-7.78 2.81-2.81c.8-.78.8-2.07 0-2.86zM5.41 20L4 18.59l7.72-7.72 1.47 1.35L5.41 20z\"/>\n",
              "  </svg>\n",
              "      </button>\n",
              "      \n",
              "  <style>\n",
              "    .colab-df-container {\n",
              "      display:flex;\n",
              "      flex-wrap:wrap;\n",
              "      gap: 12px;\n",
              "    }\n",
              "\n",
              "    .colab-df-convert {\n",
              "      background-color: #E8F0FE;\n",
              "      border: none;\n",
              "      border-radius: 50%;\n",
              "      cursor: pointer;\n",
              "      display: none;\n",
              "      fill: #1967D2;\n",
              "      height: 32px;\n",
              "      padding: 0 0 0 0;\n",
              "      width: 32px;\n",
              "    }\n",
              "\n",
              "    .colab-df-convert:hover {\n",
              "      background-color: #E2EBFA;\n",
              "      box-shadow: 0px 1px 2px rgba(60, 64, 67, 0.3), 0px 1px 3px 1px rgba(60, 64, 67, 0.15);\n",
              "      fill: #174EA6;\n",
              "    }\n",
              "\n",
              "    [theme=dark] .colab-df-convert {\n",
              "      background-color: #3B4455;\n",
              "      fill: #D2E3FC;\n",
              "    }\n",
              "\n",
              "    [theme=dark] .colab-df-convert:hover {\n",
              "      background-color: #434B5C;\n",
              "      box-shadow: 0px 1px 3px 1px rgba(0, 0, 0, 0.15);\n",
              "      filter: drop-shadow(0px 1px 2px rgba(0, 0, 0, 0.3));\n",
              "      fill: #FFFFFF;\n",
              "    }\n",
              "  </style>\n",
              "\n",
              "      <script>\n",
              "        const buttonEl =\n",
              "          document.querySelector('#df-c8e32fe2-7671-4f2d-8b64-d7cb81eed0a5 button.colab-df-convert');\n",
              "        buttonEl.style.display =\n",
              "          google.colab.kernel.accessAllowed ? 'block' : 'none';\n",
              "\n",
              "        async function convertToInteractive(key) {\n",
              "          const element = document.querySelector('#df-c8e32fe2-7671-4f2d-8b64-d7cb81eed0a5');\n",
              "          const dataTable =\n",
              "            await google.colab.kernel.invokeFunction('convertToInteractive',\n",
              "                                                     [key], {});\n",
              "          if (!dataTable) return;\n",
              "\n",
              "          const docLinkHtml = 'Like what you see? Visit the ' +\n",
              "            '<a target=\"_blank\" href=https://colab.research.google.com/notebooks/data_table.ipynb>data table notebook</a>'\n",
              "            + ' to learn more about interactive tables.';\n",
              "          element.innerHTML = '';\n",
              "          dataTable['output_type'] = 'display_data';\n",
              "          await google.colab.output.renderOutput(dataTable, element);\n",
              "          const docLink = document.createElement('div');\n",
              "          docLink.innerHTML = docLinkHtml;\n",
              "          element.appendChild(docLink);\n",
              "        }\n",
              "      </script>\n",
              "    </div>\n",
              "  </div>\n",
              "  "
            ]
          },
          "metadata": {}
        },
        {
          "output_type": "stream",
          "name": "stdout",
          "text": [
            "\n",
            "Unique Species = 3, ['Iris-setosa' 'Iris-versicolor' 'Iris-virginica']\n",
            "\n"
          ]
        },
        {
          "output_type": "execute_result",
          "data": {
            "text/plain": [
              "        sepal-length  sepal-width  petal-length  petal-width\n",
              "count     150.000000   150.000000    150.000000   150.000000\n",
              "mean        5.843333     3.054000      3.758667     1.198667\n",
              "std         0.828066     0.433594      1.764420     0.763161\n",
              "min         4.300000     2.000000      1.000000     0.100000\n",
              "25%         5.100000     2.800000      1.600000     0.300000\n",
              "50%         5.800000     3.000000      4.350000     1.300000\n",
              "75%         6.400000     3.300000      5.100000     1.800000\n",
              "max         7.900000     4.400000      6.900000     2.500000\n",
              "median      5.800000     3.000000      4.350000     1.300000"
            ],
            "text/html": [
              "\n",
              "  <div id=\"df-5019cd76-e9a5-4410-b28e-ac558b3c8b6f\">\n",
              "    <div class=\"colab-df-container\">\n",
              "      <div>\n",
              "<style scoped>\n",
              "    .dataframe tbody tr th:only-of-type {\n",
              "        vertical-align: middle;\n",
              "    }\n",
              "\n",
              "    .dataframe tbody tr th {\n",
              "        vertical-align: top;\n",
              "    }\n",
              "\n",
              "    .dataframe thead th {\n",
              "        text-align: right;\n",
              "    }\n",
              "</style>\n",
              "<table border=\"1\" class=\"dataframe\">\n",
              "  <thead>\n",
              "    <tr style=\"text-align: right;\">\n",
              "      <th></th>\n",
              "      <th>sepal-length</th>\n",
              "      <th>sepal-width</th>\n",
              "      <th>petal-length</th>\n",
              "      <th>petal-width</th>\n",
              "    </tr>\n",
              "  </thead>\n",
              "  <tbody>\n",
              "    <tr>\n",
              "      <th>count</th>\n",
              "      <td>150.000000</td>\n",
              "      <td>150.000000</td>\n",
              "      <td>150.000000</td>\n",
              "      <td>150.000000</td>\n",
              "    </tr>\n",
              "    <tr>\n",
              "      <th>mean</th>\n",
              "      <td>5.843333</td>\n",
              "      <td>3.054000</td>\n",
              "      <td>3.758667</td>\n",
              "      <td>1.198667</td>\n",
              "    </tr>\n",
              "    <tr>\n",
              "      <th>std</th>\n",
              "      <td>0.828066</td>\n",
              "      <td>0.433594</td>\n",
              "      <td>1.764420</td>\n",
              "      <td>0.763161</td>\n",
              "    </tr>\n",
              "    <tr>\n",
              "      <th>min</th>\n",
              "      <td>4.300000</td>\n",
              "      <td>2.000000</td>\n",
              "      <td>1.000000</td>\n",
              "      <td>0.100000</td>\n",
              "    </tr>\n",
              "    <tr>\n",
              "      <th>25%</th>\n",
              "      <td>5.100000</td>\n",
              "      <td>2.800000</td>\n",
              "      <td>1.600000</td>\n",
              "      <td>0.300000</td>\n",
              "    </tr>\n",
              "    <tr>\n",
              "      <th>50%</th>\n",
              "      <td>5.800000</td>\n",
              "      <td>3.000000</td>\n",
              "      <td>4.350000</td>\n",
              "      <td>1.300000</td>\n",
              "    </tr>\n",
              "    <tr>\n",
              "      <th>75%</th>\n",
              "      <td>6.400000</td>\n",
              "      <td>3.300000</td>\n",
              "      <td>5.100000</td>\n",
              "      <td>1.800000</td>\n",
              "    </tr>\n",
              "    <tr>\n",
              "      <th>max</th>\n",
              "      <td>7.900000</td>\n",
              "      <td>4.400000</td>\n",
              "      <td>6.900000</td>\n",
              "      <td>2.500000</td>\n",
              "    </tr>\n",
              "    <tr>\n",
              "      <th>median</th>\n",
              "      <td>5.800000</td>\n",
              "      <td>3.000000</td>\n",
              "      <td>4.350000</td>\n",
              "      <td>1.300000</td>\n",
              "    </tr>\n",
              "  </tbody>\n",
              "</table>\n",
              "</div>\n",
              "      <button class=\"colab-df-convert\" onclick=\"convertToInteractive('df-5019cd76-e9a5-4410-b28e-ac558b3c8b6f')\"\n",
              "              title=\"Convert this dataframe to an interactive table.\"\n",
              "              style=\"display:none;\">\n",
              "        \n",
              "  <svg xmlns=\"http://www.w3.org/2000/svg\" height=\"24px\"viewBox=\"0 0 24 24\"\n",
              "       width=\"24px\">\n",
              "    <path d=\"M0 0h24v24H0V0z\" fill=\"none\"/>\n",
              "    <path d=\"M18.56 5.44l.94 2.06.94-2.06 2.06-.94-2.06-.94-.94-2.06-.94 2.06-2.06.94zm-11 1L8.5 8.5l.94-2.06 2.06-.94-2.06-.94L8.5 2.5l-.94 2.06-2.06.94zm10 10l.94 2.06.94-2.06 2.06-.94-2.06-.94-.94-2.06-.94 2.06-2.06.94z\"/><path d=\"M17.41 7.96l-1.37-1.37c-.4-.4-.92-.59-1.43-.59-.52 0-1.04.2-1.43.59L10.3 9.45l-7.72 7.72c-.78.78-.78 2.05 0 2.83L4 21.41c.39.39.9.59 1.41.59.51 0 1.02-.2 1.41-.59l7.78-7.78 2.81-2.81c.8-.78.8-2.07 0-2.86zM5.41 20L4 18.59l7.72-7.72 1.47 1.35L5.41 20z\"/>\n",
              "  </svg>\n",
              "      </button>\n",
              "      \n",
              "  <style>\n",
              "    .colab-df-container {\n",
              "      display:flex;\n",
              "      flex-wrap:wrap;\n",
              "      gap: 12px;\n",
              "    }\n",
              "\n",
              "    .colab-df-convert {\n",
              "      background-color: #E8F0FE;\n",
              "      border: none;\n",
              "      border-radius: 50%;\n",
              "      cursor: pointer;\n",
              "      display: none;\n",
              "      fill: #1967D2;\n",
              "      height: 32px;\n",
              "      padding: 0 0 0 0;\n",
              "      width: 32px;\n",
              "    }\n",
              "\n",
              "    .colab-df-convert:hover {\n",
              "      background-color: #E2EBFA;\n",
              "      box-shadow: 0px 1px 2px rgba(60, 64, 67, 0.3), 0px 1px 3px 1px rgba(60, 64, 67, 0.15);\n",
              "      fill: #174EA6;\n",
              "    }\n",
              "\n",
              "    [theme=dark] .colab-df-convert {\n",
              "      background-color: #3B4455;\n",
              "      fill: #D2E3FC;\n",
              "    }\n",
              "\n",
              "    [theme=dark] .colab-df-convert:hover {\n",
              "      background-color: #434B5C;\n",
              "      box-shadow: 0px 1px 3px 1px rgba(0, 0, 0, 0.15);\n",
              "      filter: drop-shadow(0px 1px 2px rgba(0, 0, 0, 0.3));\n",
              "      fill: #FFFFFF;\n",
              "    }\n",
              "  </style>\n",
              "\n",
              "      <script>\n",
              "        const buttonEl =\n",
              "          document.querySelector('#df-5019cd76-e9a5-4410-b28e-ac558b3c8b6f button.colab-df-convert');\n",
              "        buttonEl.style.display =\n",
              "          google.colab.kernel.accessAllowed ? 'block' : 'none';\n",
              "\n",
              "        async function convertToInteractive(key) {\n",
              "          const element = document.querySelector('#df-5019cd76-e9a5-4410-b28e-ac558b3c8b6f');\n",
              "          const dataTable =\n",
              "            await google.colab.kernel.invokeFunction('convertToInteractive',\n",
              "                                                     [key], {});\n",
              "          if (!dataTable) return;\n",
              "\n",
              "          const docLinkHtml = 'Like what you see? Visit the ' +\n",
              "            '<a target=\"_blank\" href=https://colab.research.google.com/notebooks/data_table.ipynb>data table notebook</a>'\n",
              "            + ' to learn more about interactive tables.';\n",
              "          element.innerHTML = '';\n",
              "          dataTable['output_type'] = 'display_data';\n",
              "          await google.colab.output.renderOutput(dataTable, element);\n",
              "          const docLink = document.createElement('div');\n",
              "          docLink.innerHTML = docLinkHtml;\n",
              "          element.appendChild(docLink);\n",
              "        }\n",
              "      </script>\n",
              "    </div>\n",
              "  </div>\n",
              "  "
            ]
          },
          "metadata": {},
          "execution_count": 2
        }
      ]
    },
    {
      "cell_type": "markdown",
      "source": [
        "*  Take a look at the column info (how many columns, what type of data, any missing data?)\n",
        "*  Take a look at the data values in the first 10 and the last 10 records to get an idea of the type of values included\n",
        "*  Find out how many unique values there are in the species column\n",
        "*  Find out the maximum, minimum, mean, median and upper and lower quartile values in each of the columns\n",
        "\n",
        "It shows that the data has successfully been loaded into the DataFrame and that there are no null or missing values in any of its columns.\n"
      ],
      "metadata": {
        "id": "2w0KIt81kYxu"
      }
    },
    {
      "cell_type": "markdown",
      "source": [
        "### Drop The Nulls\n",
        "Just to make sure we don't have any null values loaded I would run the below instruction to drop any null values, if any exists, from each column."
      ],
      "metadata": {
        "id": "8FamPLBXAG61"
      }
    },
    {
      "cell_type": "code",
      "source": [
        "# Drop any null values from each column\n",
        "iris_data.dropna(inplace=True)"
      ],
      "metadata": {
        "id": "H7uH43iE_pz8"
      },
      "execution_count": 3,
      "outputs": []
    },
    {
      "cell_type": "markdown",
      "source": [
        "###Checking For The Extreme Outliers\n",
        "An outlier is an abnormal value in the data that is either extremely high or low compared to the rest of the data. Outliers can skew results. \n",
        "\n",
        "A value is considered to be an outlier if it is any of:\n",
        "*  greater than `Q3 + 1.5 * interquartile_range`\n",
        "*  less than `Q1 - 1.5 * interquartile_range`\n",
        "*  more than 2 standard deviations from the mean\n",
        "\n",
        "Q3 = value at 75% of data, Q1 = value at 25% of the data, IQR is the interquartile range, the difference between Q3 and Q1.  \n",
        "\n",
        "We can check for outliers using a Box plot, in which:\n",
        "\n",
        "*  the upper line on the boxplots arm (whisker) is `Q3 + 1.5 * IQR`\n",
        "*  the lower line on the boxplots arm (whisker) is `Q1 - 1.5 * IQR`\n",
        "*  the middle line of the box is the median\n",
        "*  the top of the box is Q3\n",
        "*  the bottom of the box is Q1\n",
        "*  outliers are shown as circles or dots, either above or below the whiskers"
      ],
      "metadata": {
        "id": "mWmmnsMZmigQ"
      }
    },
    {
      "cell_type": "code",
      "source": [
        "# Draw the plot\n",
        "def show_boxplot(df, columns):\n",
        "  import matplotlib.pyplot as plt  \n",
        "  # Draw the Boxplot\n",
        "  for column in columns:\n",
        "    plt.boxplot(x=df[column])\n",
        "    # plt.xlabel(xlabel)\n",
        "    plt.ylabel(column)\n",
        "    plt.show()\n",
        "\t\n",
        "# Show the boxplot of the original dataset\n",
        "show_boxplot(iris_data, dimension_columns)"
      ],
      "metadata": {
        "colab": {
          "base_uri": "https://localhost:8080/",
          "height": 1000
        },
        "id": "6Y_th_7Xmva2",
        "outputId": "529250af-e97a-4264-b56c-1680417ea488"
      },
      "execution_count": 4,
      "outputs": [
        {
          "output_type": "display_data",
          "data": {
            "text/plain": [
              "<Figure size 432x288 with 1 Axes>"
            ],
            "image/png": "[encoded data removed]"
          },
          "metadata": {
            "needs_background": "light"
          }
        },
        {
          "output_type": "display_data",
          "data": {
            "text/plain": [
              "<Figure size 432x288 with 1 Axes>"
            ],
            "image/png": "[encoded data removed]"
          },
          "metadata": {
            "needs_background": "light"
          }
        },
        {
          "output_type": "display_data",
          "data": {
            "text/plain": [
              "<Figure size 432x288 with 1 Axes>"
            ],
            "image/png": "[encoded data removed]"
          },
          "metadata": {
            "needs_background": "light"
          }
        },
        {
          "output_type": "display_data",
          "data": {
            "text/plain": [
              "<Figure size 432x288 with 1 Axes>"
            ],
            "image/png": "[encoded data removed]"
          },
          "metadata": {
            "needs_background": "light"
          }
        }
      ]
    },
    {
      "cell_type": "markdown",
      "source": [
        "From the above Box and Whiskers plots it has become now apparent that the dataset does have some outliers present in it (defined as the data-point 1.5 times the length of the box above or below it). \n",
        "In the 'sepal-width' variable there are both high and low outliers, and that there are not any extreme outliers (defined as the data-point 3 times the length of the box above or below it) in any of the variables. \n",
        "Since apparently there are no extreme outliers present in the dataset and since there are some outliers I would, firstly from my research point of view and secondly by giving the outliers benifit of doubt, run my research and data analysis on the data-set without having removed the outliers first and after having removed the outliers from the data-set. \n",
        "Lastly, I would compare both of the result-sets to see if there was any significant improvement and should then be able to make reliable and evidence based conclusions."
      ],
      "metadata": {
        "id": "0A4RJSZuoU4-"
      }
    },
    {
      "cell_type": "code",
      "source": [
        "# The function calculates Q1, Q3, IQR and filters out any data-point below or above the limits\n",
        "def remove_outliers(df, column):\n",
        "  # Get the quantiles Q1 and Q3\n",
        "  Q1 = df[column].quantile(0.25)\n",
        "  Q3 = df[column].quantile(0.75)\n",
        "  # Calculate the interquartile range IQR = (Q3 - Q1)\n",
        "  IQR = Q3 - Q1\n",
        "\n",
        "  # Calculate the lower and upper limits \n",
        "  upper_limit = Q3 + 1.5 * IQR\n",
        "  lower_limit = Q1 - 1.5 * IQR\n",
        "\n",
        "  print(f'{column}')\n",
        "  print('-'*60)\n",
        "  print(f'Upper Limit:           {upper_limit}')\n",
        "  print(f'Lower Limit:           {lower_limit}')\n",
        "  print(f'IQR:                   {IQR}')\n",
        "\n",
        "  # Filter all the rows for the column below the lower_limit\n",
        "  df_t = df[df[column] >= lower_limit]\n",
        "  # Filter all the rows for the column above the upper_limit\n",
        "  df_normal = df_t[df_t[column] <= upper_limit]\n",
        "  return df_normal\n",
        "\n",
        "# The function shows the clean up progress and stats\n",
        "def show_cleanup_stats(df, column):\n",
        "  # Remove any Outliers from the column\n",
        "  df_rec_nums = len(df)\n",
        "  df_normal = remove_outliers(df, column)\n",
        "  normal_df_rec_nums = len(df_normal)\n",
        "  num_outliers = df_rec_nums - normal_df_rec_nums\n",
        "  print(f\"{num_outliers} outliers found and eliminated from the '{column}' column\\n\")\n",
        "  print('-'*60)\n",
        "  return df_normal, num_outliers\n",
        "\n",
        "# Recursively check the column for any outliers\n",
        "# h1 = assume there is an outlier, h0 = there is, probably, no outlier.\n",
        "def get_recurs_clean(df, column, h1=1):\n",
        "  if h1 <= 0:\n",
        "    return df\n",
        "  df_normal, h0 = show_cleanup_stats(df, column)\n",
        "  return get_recurs_clean(df=df_normal, column=column, h1=h0) \n",
        "\n",
        "# Further clean the DataFrame through pass filtering\n",
        "def get_pass_filtering(df, columns):\n",
        "  # Through the first pass filtering\n",
        "  for column in columns:\n",
        "    df = get_recurs_clean(df, column)\n",
        "  # Through the second pass filtering\n",
        "  i = 0\n",
        "  while i <=1:\n",
        "    for column in columns:\n",
        "      df = get_recurs_clean(df, column)\n",
        "      i+=1\n",
        "  return df\n",
        "\n",
        "# Get a cleaned DataFrame from any outlier\n",
        "df_normal_iris_data = get_pass_filtering(iris_data, dimension_columns)\n",
        "print('\\nOriginal dataset:\\n')\n",
        "display(iris_data.info())\n",
        "display(iris_data.describe())\n",
        "print('\\nOutliers removed dataset:\\n')\n",
        "display(df_normal_iris_data.info())\n",
        "display(df_normal_iris_data.describe())\n",
        "\n",
        "# Show the boxplot of the cleaned data-set\n",
        "show_boxplot(df_normal_iris_data, dimension_columns)"
      ],
      "metadata": {
        "colab": {
          "base_uri": "https://localhost:8080/",
          "height": 1000
        },
        "id": "rb7RTIRxxTle",
        "outputId": "0cebaf14-c815-441b-91d5-2d62c1694977"
      },
      "execution_count": 5,
      "outputs": [
        {
          "output_type": "stream",
          "name": "stdout",
          "text": [
            "sepal-length\n",
            "------------------------------------------------------------\n",
            "Upper Limit:           8.350000000000001\n",
            "Lower Limit:           3.1499999999999986\n",
            "IQR:                   1.3000000000000007\n",
            "0 outliers found and eliminated from the 'sepal-length' column\n",
            "\n",
            "------------------------------------------------------------\n",
            "sepal-width\n",
            "------------------------------------------------------------\n",
            "Upper Limit:           4.05\n",
            "Lower Limit:           2.05\n",
            "IQR:                   0.5\n",
            "4 outliers found and eliminated from the 'sepal-width' column\n",
            "\n",
            "------------------------------------------------------------\n",
            "sepal-width\n",
            "------------------------------------------------------------\n",
            "Upper Limit:           4.05\n",
            "Lower Limit:           2.05\n",
            "IQR:                   0.5\n",
            "0 outliers found and eliminated from the 'sepal-width' column\n",
            "\n",
            "------------------------------------------------------------\n",
            "petal-length\n",
            "------------------------------------------------------------\n",
            "Upper Limit:           10.349999999999998\n",
            "Lower Limit:           -3.649999999999999\n",
            "IQR:                   3.4999999999999996\n",
            "0 outliers found and eliminated from the 'petal-length' column\n",
            "\n",
            "------------------------------------------------------------\n",
            "petal-width\n",
            "------------------------------------------------------------\n",
            "Upper Limit:           4.05\n",
            "Lower Limit:           -1.95\n",
            "IQR:                   1.5\n",
            "0 outliers found and eliminated from the 'petal-width' column\n",
            "\n",
            "------------------------------------------------------------\n",
            "sepal-length\n",
            "------------------------------------------------------------\n",
            "Upper Limit:           8.350000000000001\n",
            "Lower Limit:           3.1499999999999986\n",
            "IQR:                   1.3000000000000007\n",
            "0 outliers found and eliminated from the 'sepal-length' column\n",
            "\n",
            "------------------------------------------------------------\n",
            "sepal-width\n",
            "------------------------------------------------------------\n",
            "Upper Limit:           4.05\n",
            "Lower Limit:           2.05\n",
            "IQR:                   0.5\n",
            "0 outliers found and eliminated from the 'sepal-width' column\n",
            "\n",
            "------------------------------------------------------------\n",
            "petal-length\n",
            "------------------------------------------------------------\n",
            "Upper Limit:           10.349999999999998\n",
            "Lower Limit:           -3.649999999999999\n",
            "IQR:                   3.4999999999999996\n",
            "0 outliers found and eliminated from the 'petal-length' column\n",
            "\n",
            "------------------------------------------------------------\n",
            "petal-width\n",
            "------------------------------------------------------------\n",
            "Upper Limit:           4.05\n",
            "Lower Limit:           -1.95\n",
            "IQR:                   1.5\n",
            "0 outliers found and eliminated from the 'petal-width' column\n",
            "\n",
            "------------------------------------------------------------\n",
            "\n",
            "Original dataset:\n",
            "\n",
            "<class 'pandas.core.frame.DataFrame'>\n",
            "Int64Index: 150 entries, 0 to 149\n",
            "Data columns (total 5 columns):\n",
            " #   Column        Non-Null Count  Dtype  \n",
            "---  ------        --------------  -----  \n",
            " 0   sepal-length  150 non-null    float64\n",
            " 1   sepal-width   150 non-null    float64\n",
            " 2   petal-length  150 non-null    float64\n",
            " 3   petal-width   150 non-null    float64\n",
            " 4   species       150 non-null    object \n",
            "dtypes: float64(4), object(1)\n",
            "memory usage: 7.0+ KB\n"
          ]
        },
        {
          "output_type": "display_data",
          "data": {
            "text/plain": [
              "None"
            ]
          },
          "metadata": {}
        },
        {
          "output_type": "display_data",
          "data": {
            "text/plain": [
              "       sepal-length  sepal-width  petal-length  petal-width\n",
              "count    150.000000   150.000000    150.000000   150.000000\n",
              "mean       5.843333     3.054000      3.758667     1.198667\n",
              "std        0.828066     0.433594      1.764420     0.763161\n",
              "min        4.300000     2.000000      1.000000     0.100000\n",
              "25%        5.100000     2.800000      1.600000     0.300000\n",
              "50%        5.800000     3.000000      4.350000     1.300000\n",
              "75%        6.400000     3.300000      5.100000     1.800000\n",
              "max        7.900000     4.400000      6.900000     2.500000"
            ],
            "text/html": [
              "\n",
              "  <div id=\"df-77cfc234-2222-44b2-b028-6f8cb3554c7a\">\n",
              "    <div class=\"colab-df-container\">\n",
              "      <div>\n",
              "<style scoped>\n",
              "    .dataframe tbody tr th:only-of-type {\n",
              "        vertical-align: middle;\n",
              "    }\n",
              "\n",
              "    .dataframe tbody tr th {\n",
              "        vertical-align: top;\n",
              "    }\n",
              "\n",
              "    .dataframe thead th {\n",
              "        text-align: right;\n",
              "    }\n",
              "</style>\n",
              "<table border=\"1\" class=\"dataframe\">\n",
              "  <thead>\n",
              "    <tr style=\"text-align: right;\">\n",
              "      <th></th>\n",
              "      <th>sepal-length</th>\n",
              "      <th>sepal-width</th>\n",
              "      <th>petal-length</th>\n",
              "      <th>petal-width</th>\n",
              "    </tr>\n",
              "  </thead>\n",
              "  <tbody>\n",
              "    <tr>\n",
              "      <th>count</th>\n",
              "      <td>150.000000</td>\n",
              "      <td>150.000000</td>\n",
              "      <td>150.000000</td>\n",
              "      <td>150.000000</td>\n",
              "    </tr>\n",
              "    <tr>\n",
              "      <th>mean</th>\n",
              "      <td>5.843333</td>\n",
              "      <td>3.054000</td>\n",
              "      <td>3.758667</td>\n",
              "      <td>1.198667</td>\n",
              "    </tr>\n",
              "    <tr>\n",
              "      <th>std</th>\n",
              "      <td>0.828066</td>\n",
              "      <td>0.433594</td>\n",
              "      <td>1.764420</td>\n",
              "      <td>0.763161</td>\n",
              "    </tr>\n",
              "    <tr>\n",
              "      <th>min</th>\n",
              "      <td>4.300000</td>\n",
              "      <td>2.000000</td>\n",
              "      <td>1.000000</td>\n",
              "      <td>0.100000</td>\n",
              "    </tr>\n",
              "    <tr>\n",
              "      <th>25%</th>\n",
              "      <td>5.100000</td>\n",
              "      <td>2.800000</td>\n",
              "      <td>1.600000</td>\n",
              "      <td>0.300000</td>\n",
              "    </tr>\n",
              "    <tr>\n",
              "      <th>50%</th>\n",
              "      <td>5.800000</td>\n",
              "      <td>3.000000</td>\n",
              "      <td>4.350000</td>\n",
              "      <td>1.300000</td>\n",
              "    </tr>\n",
              "    <tr>\n",
              "      <th>75%</th>\n",
              "      <td>6.400000</td>\n",
              "      <td>3.300000</td>\n",
              "      <td>5.100000</td>\n",
              "      <td>1.800000</td>\n",
              "    </tr>\n",
              "    <tr>\n",
              "      <th>max</th>\n",
              "      <td>7.900000</td>\n",
              "      <td>4.400000</td>\n",
              "      <td>6.900000</td>\n",
              "      <td>2.500000</td>\n",
              "    </tr>\n",
              "  </tbody>\n",
              "</table>\n",
              "</div>\n",
              "      <button class=\"colab-df-convert\" onclick=\"convertToInteractive('df-77cfc234-2222-44b2-b028-6f8cb3554c7a')\"\n",
              "              title=\"Convert this dataframe to an interactive table.\"\n",
              "              style=\"display:none;\">\n",
              "        \n",
              "  <svg xmlns=\"http://www.w3.org/2000/svg\" height=\"24px\"viewBox=\"0 0 24 24\"\n",
              "       width=\"24px\">\n",
              "    <path d=\"M0 0h24v24H0V0z\" fill=\"none\"/>\n",
              "    <path d=\"M18.56 5.44l.94 2.06.94-2.06 2.06-.94-2.06-.94-.94-2.06-.94 2.06-2.06.94zm-11 1L8.5 8.5l.94-2.06 2.06-.94-2.06-.94L8.5 2.5l-.94 2.06-2.06.94zm10 10l.94 2.06.94-2.06 2.06-.94-2.06-.94-.94-2.06-.94 2.06-2.06.94z\"/><path d=\"M17.41 7.96l-1.37-1.37c-.4-.4-.92-.59-1.43-.59-.52 0-1.04.2-1.43.59L10.3 9.45l-7.72 7.72c-.78.78-.78 2.05 0 2.83L4 21.41c.39.39.9.59 1.41.59.51 0 1.02-.2 1.41-.59l7.78-7.78 2.81-2.81c.8-.78.8-2.07 0-2.86zM5.41 20L4 18.59l7.72-7.72 1.47 1.35L5.41 20z\"/>\n",
              "  </svg>\n",
              "      </button>\n",
              "      \n",
              "  <style>\n",
              "    .colab-df-container {\n",
              "      display:flex;\n",
              "      flex-wrap:wrap;\n",
              "      gap: 12px;\n",
              "    }\n",
              "\n",
              "    .colab-df-convert {\n",
              "      background-color: #E8F0FE;\n",
              "      border: none;\n",
              "      border-radius: 50%;\n",
              "      cursor: pointer;\n",
              "      display: none;\n",
              "      fill: #1967D2;\n",
              "      height: 32px;\n",
              "      padding: 0 0 0 0;\n",
              "      width: 32px;\n",
              "    }\n",
              "\n",
              "    .colab-df-convert:hover {\n",
              "      background-color: #E2EBFA;\n",
              "      box-shadow: 0px 1px 2px rgba(60, 64, 67, 0.3), 0px 1px 3px 1px rgba(60, 64, 67, 0.15);\n",
              "      fill: #174EA6;\n",
              "    }\n",
              "\n",
              "    [theme=dark] .colab-df-convert {\n",
              "      background-color: #3B4455;\n",
              "      fill: #D2E3FC;\n",
              "    }\n",
              "\n",
              "    [theme=dark] .colab-df-convert:hover {\n",
              "      background-color: #434B5C;\n",
              "      box-shadow: 0px 1px 3px 1px rgba(0, 0, 0, 0.15);\n",
              "      filter: drop-shadow(0px 1px 2px rgba(0, 0, 0, 0.3));\n",
              "      fill: #FFFFFF;\n",
              "    }\n",
              "  </style>\n",
              "\n",
              "      <script>\n",
              "        const buttonEl =\n",
              "          document.querySelector('#df-77cfc234-2222-44b2-b028-6f8cb3554c7a button.colab-df-convert');\n",
              "        buttonEl.style.display =\n",
              "          google.colab.kernel.accessAllowed ? 'block' : 'none';\n",
              "\n",
              "        async function convertToInteractive(key) {\n",
              "          const element = document.querySelector('#df-77cfc234-2222-44b2-b028-6f8cb3554c7a');\n",
              "          const dataTable =\n",
              "            await google.colab.kernel.invokeFunction('convertToInteractive',\n",
              "                                                     [key], {});\n",
              "          if (!dataTable) return;\n",
              "\n",
              "          const docLinkHtml = 'Like what you see? Visit the ' +\n",
              "            '<a target=\"_blank\" href=https://colab.research.google.com/notebooks/data_table.ipynb>data table notebook</a>'\n",
              "            + ' to learn more about interactive tables.';\n",
              "          element.innerHTML = '';\n",
              "          dataTable['output_type'] = 'display_data';\n",
              "          await google.colab.output.renderOutput(dataTable, element);\n",
              "          const docLink = document.createElement('div');\n",
              "          docLink.innerHTML = docLinkHtml;\n",
              "          element.appendChild(docLink);\n",
              "        }\n",
              "      </script>\n",
              "    </div>\n",
              "  </div>\n",
              "  "
            ]
          },
          "metadata": {}
        },
        {
          "output_type": "stream",
          "name": "stdout",
          "text": [
            "\n",
            "Outliers removed dataset:\n",
            "\n",
            "<class 'pandas.core.frame.DataFrame'>\n",
            "Int64Index: 146 entries, 0 to 149\n",
            "Data columns (total 5 columns):\n",
            " #   Column        Non-Null Count  Dtype  \n",
            "---  ------        --------------  -----  \n",
            " 0   sepal-length  146 non-null    float64\n",
            " 1   sepal-width   146 non-null    float64\n",
            " 2   petal-length  146 non-null    float64\n",
            " 3   petal-width   146 non-null    float64\n",
            " 4   species       146 non-null    object \n",
            "dtypes: float64(4), object(1)\n",
            "memory usage: 6.8+ KB\n"
          ]
        },
        {
          "output_type": "display_data",
          "data": {
            "text/plain": [
              "None"
            ]
          },
          "metadata": {}
        },
        {
          "output_type": "display_data",
          "data": {
            "text/plain": [
              "       sepal-length  sepal-width  petal-length  petal-width\n",
              "count    146.000000   146.000000    146.000000   146.000000\n",
              "mean       5.856849     3.036986      3.807534     1.219863\n",
              "std        0.834093     0.395145      1.757117     0.760365\n",
              "min        4.300000     2.200000      1.000000     0.100000\n",
              "25%        5.100000     2.800000      1.600000     0.300000\n",
              "50%        5.800000     3.000000      4.400000     1.300000\n",
              "75%        6.400000     3.300000      5.100000     1.800000\n",
              "max        7.900000     4.000000      6.900000     2.500000"
            ],
            "text/html": [
              "\n",
              "  <div id=\"df-002ccaf5-2073-40b3-8f0d-1e56a56e2e31\">\n",
              "    <div class=\"colab-df-container\">\n",
              "      <div>\n",
              "<style scoped>\n",
              "    .dataframe tbody tr th:only-of-type {\n",
              "        vertical-align: middle;\n",
              "    }\n",
              "\n",
              "    .dataframe tbody tr th {\n",
              "        vertical-align: top;\n",
              "    }\n",
              "\n",
              "    .dataframe thead th {\n",
              "        text-align: right;\n",
              "    }\n",
              "</style>\n",
              "<table border=\"1\" class=\"dataframe\">\n",
              "  <thead>\n",
              "    <tr style=\"text-align: right;\">\n",
              "      <th></th>\n",
              "      <th>sepal-length</th>\n",
              "      <th>sepal-width</th>\n",
              "      <th>petal-length</th>\n",
              "      <th>petal-width</th>\n",
              "    </tr>\n",
              "  </thead>\n",
              "  <tbody>\n",
              "    <tr>\n",
              "      <th>count</th>\n",
              "      <td>146.000000</td>\n",
              "      <td>146.000000</td>\n",
              "      <td>146.000000</td>\n",
              "      <td>146.000000</td>\n",
              "    </tr>\n",
              "    <tr>\n",
              "      <th>mean</th>\n",
              "      <td>5.856849</td>\n",
              "      <td>3.036986</td>\n",
              "      <td>3.807534</td>\n",
              "      <td>1.219863</td>\n",
              "    </tr>\n",
              "    <tr>\n",
              "      <th>std</th>\n",
              "      <td>0.834093</td>\n",
              "      <td>0.395145</td>\n",
              "      <td>1.757117</td>\n",
              "      <td>0.760365</td>\n",
              "    </tr>\n",
              "    <tr>\n",
              "      <th>min</th>\n",
              "      <td>4.300000</td>\n",
              "      <td>2.200000</td>\n",
              "      <td>1.000000</td>\n",
              "      <td>0.100000</td>\n",
              "    </tr>\n",
              "    <tr>\n",
              "      <th>25%</th>\n",
              "      <td>5.100000</td>\n",
              "      <td>2.800000</td>\n",
              "      <td>1.600000</td>\n",
              "      <td>0.300000</td>\n",
              "    </tr>\n",
              "    <tr>\n",
              "      <th>50%</th>\n",
              "      <td>5.800000</td>\n",
              "      <td>3.000000</td>\n",
              "      <td>4.400000</td>\n",
              "      <td>1.300000</td>\n",
              "    </tr>\n",
              "    <tr>\n",
              "      <th>75%</th>\n",
              "      <td>6.400000</td>\n",
              "      <td>3.300000</td>\n",
              "      <td>5.100000</td>\n",
              "      <td>1.800000</td>\n",
              "    </tr>\n",
              "    <tr>\n",
              "      <th>max</th>\n",
              "      <td>7.900000</td>\n",
              "      <td>4.000000</td>\n",
              "      <td>6.900000</td>\n",
              "      <td>2.500000</td>\n",
              "    </tr>\n",
              "  </tbody>\n",
              "</table>\n",
              "</div>\n",
              "      <button class=\"colab-df-convert\" onclick=\"convertToInteractive('df-002ccaf5-2073-40b3-8f0d-1e56a56e2e31')\"\n",
              "              title=\"Convert this dataframe to an interactive table.\"\n",
              "              style=\"display:none;\">\n",
              "        \n",
              "  <svg xmlns=\"http://www.w3.org/2000/svg\" height=\"24px\"viewBox=\"0 0 24 24\"\n",
              "       width=\"24px\">\n",
              "    <path d=\"M0 0h24v24H0V0z\" fill=\"none\"/>\n",
              "    <path d=\"M18.56 5.44l.94 2.06.94-2.06 2.06-.94-2.06-.94-.94-2.06-.94 2.06-2.06.94zm-11 1L8.5 8.5l.94-2.06 2.06-.94-2.06-.94L8.5 2.5l-.94 2.06-2.06.94zm10 10l.94 2.06.94-2.06 2.06-.94-2.06-.94-.94-2.06-.94 2.06-2.06.94z\"/><path d=\"M17.41 7.96l-1.37-1.37c-.4-.4-.92-.59-1.43-.59-.52 0-1.04.2-1.43.59L10.3 9.45l-7.72 7.72c-.78.78-.78 2.05 0 2.83L4 21.41c.39.39.9.59 1.41.59.51 0 1.02-.2 1.41-.59l7.78-7.78 2.81-2.81c.8-.78.8-2.07 0-2.86zM5.41 20L4 18.59l7.72-7.72 1.47 1.35L5.41 20z\"/>\n",
              "  </svg>\n",
              "      </button>\n",
              "      \n",
              "  <style>\n",
              "    .colab-df-container {\n",
              "      display:flex;\n",
              "      flex-wrap:wrap;\n",
              "      gap: 12px;\n",
              "    }\n",
              "\n",
              "    .colab-df-convert {\n",
              "      background-color: #E8F0FE;\n",
              "      border: none;\n",
              "      border-radius: 50%;\n",
              "      cursor: pointer;\n",
              "      display: none;\n",
              "      fill: #1967D2;\n",
              "      height: 32px;\n",
              "      padding: 0 0 0 0;\n",
              "      width: 32px;\n",
              "    }\n",
              "\n",
              "    .colab-df-convert:hover {\n",
              "      background-color: #E2EBFA;\n",
              "      box-shadow: 0px 1px 2px rgba(60, 64, 67, 0.3), 0px 1px 3px 1px rgba(60, 64, 67, 0.15);\n",
              "      fill: #174EA6;\n",
              "    }\n",
              "\n",
              "    [theme=dark] .colab-df-convert {\n",
              "      background-color: #3B4455;\n",
              "      fill: #D2E3FC;\n",
              "    }\n",
              "\n",
              "    [theme=dark] .colab-df-convert:hover {\n",
              "      background-color: #434B5C;\n",
              "      box-shadow: 0px 1px 3px 1px rgba(0, 0, 0, 0.15);\n",
              "      filter: drop-shadow(0px 1px 2px rgba(0, 0, 0, 0.3));\n",
              "      fill: #FFFFFF;\n",
              "    }\n",
              "  </style>\n",
              "\n",
              "      <script>\n",
              "        const buttonEl =\n",
              "          document.querySelector('#df-002ccaf5-2073-40b3-8f0d-1e56a56e2e31 button.colab-df-convert');\n",
              "        buttonEl.style.display =\n",
              "          google.colab.kernel.accessAllowed ? 'block' : 'none';\n",
              "\n",
              "        async function convertToInteractive(key) {\n",
              "          const element = document.querySelector('#df-002ccaf5-2073-40b3-8f0d-1e56a56e2e31');\n",
              "          const dataTable =\n",
              "            await google.colab.kernel.invokeFunction('convertToInteractive',\n",
              "                                                     [key], {});\n",
              "          if (!dataTable) return;\n",
              "\n",
              "          const docLinkHtml = 'Like what you see? Visit the ' +\n",
              "            '<a target=\"_blank\" href=https://colab.research.google.com/notebooks/data_table.ipynb>data table notebook</a>'\n",
              "            + ' to learn more about interactive tables.';\n",
              "          element.innerHTML = '';\n",
              "          dataTable['output_type'] = 'display_data';\n",
              "          await google.colab.output.renderOutput(dataTable, element);\n",
              "          const docLink = document.createElement('div');\n",
              "          docLink.innerHTML = docLinkHtml;\n",
              "          element.appendChild(docLink);\n",
              "        }\n",
              "      </script>\n",
              "    </div>\n",
              "  </div>\n",
              "  "
            ]
          },
          "metadata": {}
        },
        {
          "output_type": "display_data",
          "data": {
            "text/plain": [
              "<Figure size 432x288 with 1 Axes>"
            ],
            "image/png": "[encoded data removed]"
          },
          "metadata": {
            "needs_background": "light"
          }
        },
        {
          "output_type": "display_data",
          "data": {
            "text/plain": [
              "<Figure size 432x288 with 1 Axes>"
            ],
            "image/png": "[encoded data removed]"
          },
          "metadata": {
            "needs_background": "light"
          }
        },
        {
          "output_type": "display_data",
          "data": {
            "text/plain": [
              "<Figure size 432x288 with 1 Axes>"
            ],
            "image/png": "[encoded data removed]"
          },
          "metadata": {
            "needs_background": "light"
          }
        },
        {
          "output_type": "display_data",
          "data": {
            "text/plain": [
              "<Figure size 432x288 with 1 Axes>"
            ],
            "image/png": "[encoded data removed]"
          },
          "metadata": {
            "needs_background": "light"
          }
        }
      ]
    },
    {
      "cell_type": "markdown",
      "source": [
        "Now I have cleaned the original data-set and have stored it in a new DataFrame above for later use when it comes to the comparisons. Please note: there is not very significant difference between the means, medians, minimum, maximum and standard deviation values of the two datasets."
      ],
      "metadata": {
        "id": "BosQ5D_u37g8"
      }
    },
    {
      "cell_type": "markdown",
      "source": [
        "###Visual Inspection Of The Data\n",
        "The next step is to investigate our data-set further by way of plotting the data columns to see if there exists any correlation between any set of variables."
      ],
      "metadata": {
        "id": "X9FsjsSYmcuW"
      }
    },
    {
      "cell_type": "code",
      "source": [
        "# The function plots the data in pair of the data-set columns\n",
        "def show_pairplot(df, pair):\n",
        "  sns.pairplot(df, hue=pair, height = 3, diag_kind = \"kde\")\n",
        "  plt.show()\n",
        "\n",
        "show_pairplot(iris_data, 'species')"
      ],
      "metadata": {
        "colab": {
          "base_uri": "https://localhost:8080/",
          "height": 868
        },
        "id": "WCAN48EOYmd-",
        "outputId": "3e491f11-3dfc-42e0-a06d-7cc18255de04"
      },
      "execution_count": 6,
      "outputs": [
        {
          "output_type": "display_data",
          "data": {
            "text/plain": [
              "<Figure size 967.25x864 with 20 Axes>"
            ],
            "image/png": "[encoded data removed]"
          },
          "metadata": {
            "needs_background": "light"
          }
        }
      ]
    },
    {
      "cell_type": "markdown",
      "source": [
        "###Comparison\n",
        "From the above pairplot it could be asserted that the 'Iris-setosa' species differs from rest of the two Iris flower species on 'petal-width' against 'sepal-width', and 'petal-length' against 'sepal-width' paired variable plots."
      ],
      "metadata": {
        "id": "W4g8MAJP8SGG"
      }
    },
    {
      "cell_type": "code",
      "source": [
        "# Show the Pairplot for the cleaned dataset\n",
        "show_pairplot(df_normal_iris_data, 'species')"
      ],
      "metadata": {
        "colab": {
          "base_uri": "https://localhost:8080/",
          "height": 868
        },
        "id": "kt0NNtQG6Br5",
        "outputId": "df34516f-7c55-49e2-cbde-933efeb7832e"
      },
      "execution_count": 7,
      "outputs": [
        {
          "output_type": "display_data",
          "data": {
            "text/plain": [
              "<Figure size 967.25x864 with 20 Axes>"
            ],
            "image/png": "[encoded data removed]"
          },
          "metadata": {
            "needs_background": "light"
          }
        }
      ]
    },
    {
      "cell_type": "markdown",
      "source": [
        "###Dataset with or without the outliers - Comparison\n",
        "It apears from both of the pairplots above that there is no significant difference between the two datasets."
      ],
      "metadata": {
        "id": "2EWJ3uc26eaW"
      }
    },
    {
      "cell_type": "markdown",
      "source": [
        "##Regression\n",
        "I am going to do further analysis on regression and find the correlation coefficients for the variables, and to see if there 'is' any significant difference."
      ],
      "metadata": {
        "id": "ONyKW1wti2-1"
      }
    },
    {
      "cell_type": "code",
      "source": [
        "# The function shows the correlation figures in a heatmap\n",
        "def show_heatmap(df, title):\n",
        "  corr = df.corr()\n",
        "  fig, ax = plt.subplots(figsize = (7,6))\n",
        "  sns.heatmap(corr, annot=True, ax = ax)\n",
        "  plt.title(title)\n",
        "  plt.show()\n",
        "\n",
        "show_heatmap(iris_data, 'Iris Flower - Species (Original Data-set)')\n",
        "show_heatmap(df_normal_iris_data, 'Iris Flower - Species (Cleaned Data-set)')  "
      ],
      "metadata": {
        "colab": {
          "base_uri": "https://localhost:8080/",
          "height": 763
        },
        "id": "ablz0k8lifLt",
        "outputId": "2fb6d51f-6f0a-47bc-d0a0-5b92b9d80675"
      },
      "execution_count": 8,
      "outputs": [
        {
          "output_type": "display_data",
          "data": {
            "text/plain": [
              "<Figure size 504x432 with 2 Axes>"
            ],
            "image/png": "[encoded data removed]"
          },
          "metadata": {
            "needs_background": "light"
          }
        },
        {
          "output_type": "display_data",
          "data": {
            "text/plain": [
              "<Figure size 504x432 with 2 Axes>"
            ],
            "image/png": "[encoded data removed]"
          },
          "metadata": {
            "needs_background": "light"
          }
        }
      ]
    },
    {
      "cell_type": "markdown",
      "source": [
        "### Comparison\n",
        "As can be seen from the heatmap above that there is a very strong correlation between:  \n",
        "\n",
        "*   'petal-length' and 'petal-width' (with a correlation figure of 0.96)\n",
        "*   'petal-length' and 'sepal-length' (with a correlation figure of 0.87)\n",
        "*   'petal-width' and 'sepal-length' (with a correlation figure of 0.82)\n",
        "\n",
        "Note: it apears from both of the above heatmaps that there is no significant difference between the two datasets, therefore, I shall not investigate the outliers any further and it probably makes sense to include them as part of the researched data-points unless I have to get rid of them later down the analysis.\n",
        "\n",
        "\n",
        "\n"
      ],
      "metadata": {
        "id": "kjNjA4Qnm8KD"
      }
    },
    {
      "cell_type": "markdown",
      "source": [
        "## Regression and Best Fit Line\n",
        "Now that I have found that there are variables with strong correlations, I would further explore the dataset and get the 'Best Fit' regression lines, r^2 and p-values."
      ],
      "metadata": {
        "id": "fchmz65bk8tZ"
      }
    },
    {
      "cell_type": "code",
      "source": [
        "def get_regression(x, y):\n",
        "  from scipy.stats import linregress\n",
        "  # Calculate regression for the variables\n",
        "  regression = linregress(x,y)\n",
        "  # Get slope value\n",
        "  slope = regression.slope\n",
        "  # Get intercept value\n",
        "  intercept = regression.intercept\n",
        "  # Get r value\n",
        "  r_value = regression.rvalue\n",
        "  # Get p value\n",
        "  p_value = regression.pvalue\n",
        "  # Return and display the values\n",
        "  return regression, slope, intercept, r_value, p_value\n",
        "\n",
        "def show_regression(x, y):\n",
        "  # Show regression\n",
        "  regression, slope, intercept, r_value, p_value =  get_regression(x, y)\n",
        "  display(regression)\n",
        "  print('')\n",
        "  print(f'slope:        {round(slope, 2)}')\n",
        "  print(f'intercept:    {round(intercept, 2)}')\n",
        "  print(f'r value:      {round(r_value, 2)}')\n",
        "  r_sqr = r_value * r_value\n",
        "  print(f'r^2 value:    {round(r_sqr, 2)}')\n",
        "  print(f'p value:      {p_value}')\n",
        "\n",
        "# Create x, y variables\n",
        "pl = iris_data['petal-length']\n",
        "pw = iris_data['petal-width']\n",
        "show_regression(pl, pw)"
      ],
      "metadata": {
        "colab": {
          "base_uri": "https://localhost:8080/",
          "height": 138
        },
        "id": "0RBE1h0YicMo",
        "outputId": "3f25662e-7c64-4638-d9dc-b2afc1e08b73"
      },
      "execution_count": 9,
      "outputs": [
        {
          "output_type": "display_data",
          "data": {
            "text/plain": [
              "LinregressResult(slope=0.41641913228540123, intercept=-0.3665140452167277, rvalue=0.9627570970509666, pvalue=5.776660988491603e-86, stderr=0.009612539319328553)"
            ]
          },
          "metadata": {}
        },
        {
          "output_type": "stream",
          "name": "stdout",
          "text": [
            "\n",
            "slope:        0.42\n",
            "intercept:    -0.37\n",
            "r value:      0.96\n",
            "r^2 value:    0.93\n",
            "p value:      5.776660988491603e-86\n"
          ]
        }
      ]
    },
    {
      "cell_type": "code",
      "source": [
        "# Create x, y variables\n",
        "pl = iris_data['petal-length']\n",
        "sl = iris_data['sepal-length']\n",
        "show_regression(pl, sl)"
      ],
      "metadata": {
        "colab": {
          "base_uri": "https://localhost:8080/",
          "height": 138
        },
        "id": "kkUkomC0mPhg",
        "outputId": "d59cf48e-448c-443b-84d4-c7bfd3b6e07f"
      },
      "execution_count": 10,
      "outputs": [
        {
          "output_type": "display_data",
          "data": {
            "text/plain": [
              "LinregressResult(slope=0.4091258984678836, intercept=4.305565456292049, rvalue=0.8717541573048717, pvalue=1.0384540627938665e-47, stderr=0.018900710852199916)"
            ]
          },
          "metadata": {}
        },
        {
          "output_type": "stream",
          "name": "stdout",
          "text": [
            "\n",
            "slope:        0.41\n",
            "intercept:    4.31\n",
            "r value:      0.87\n",
            "r^2 value:    0.76\n",
            "p value:      1.0384540627938665e-47\n"
          ]
        }
      ]
    },
    {
      "cell_type": "code",
      "source": [
        "# Create x, y variables\n",
        "pw = iris_data['petal-width']\n",
        "sl = iris_data['sepal-length']\n",
        "show_regression(pw, sl)"
      ],
      "metadata": {
        "colab": {
          "base_uri": "https://localhost:8080/",
          "height": 138
        },
        "id": "6ytbFNW_mhPN",
        "outputId": "0d6f30f4-55b6-45bf-bc8f-521eeb9cdbf8"
      },
      "execution_count": 11,
      "outputs": [
        {
          "output_type": "display_data",
          "data": {
            "text/plain": [
              "LinregressResult(slope=0.8875190520674566, intercept=4.779493829588476, rvalue=0.8179536333691636, pvalue=2.3148491512727406e-37, stderr=0.051309826962687884)"
            ]
          },
          "metadata": {}
        },
        {
          "output_type": "stream",
          "name": "stdout",
          "text": [
            "\n",
            "slope:        0.89\n",
            "intercept:    4.78\n",
            "r value:      0.82\n",
            "r^2 value:    0.67\n",
            "p value:      2.3148491512727406e-37\n"
          ]
        }
      ]
    },
    {
      "cell_type": "markdown",
      "source": [
        "### Results & Comparisons\n",
        "Since the p-value is less than 0.05 value, it shows that it is a statistically significant result (means that the probability that the hypothesis is true, is very high). That is, the Independent Variable (IV) is more than 95% likely be affecting the Dependend Variable (DV) and that the affect was not random. A R^2 of > 0.50 means that the data explains more than 50% of the change in data-points and rest of the change could be due to other variables. Having the above R^2 values all > 0.5, essentially, it means that our model fits well with the data."
      ],
      "metadata": {
        "id": "bjfdapZ5nQoD"
      }
    },
    {
      "cell_type": "markdown",
      "source": [
        "###Draw the Best Fit Line Plots"
      ],
      "metadata": {
        "id": "3DbZqw55rSVZ"
      }
    },
    {
      "cell_type": "code",
      "source": [
        "# Draw the plot\n",
        "def show_corr_scatterplot(x, y, slope, intercept, xlabel=None, ylabel=None):\n",
        "  import matplotlib.pyplot as plt  \n",
        "  # Draw the scatter graph\n",
        "  plt.scatter(x,y)\n",
        "  plt.title('The Line of Best Fit')\n",
        "  plt.xlabel(xlabel)\n",
        "  plt.ylabel(ylabel)\n",
        "  # Draw the regression line and show the graph\n",
        "  y = slope*x + intercept\n",
        "  plt.plot(x, y, color='red')\n",
        "  plt.show()\n",
        "\n",
        "# Get regression values\n",
        "regr_values, slope, intercept, r_value, p_value = get_regression(pl,pw)\n",
        "\n",
        "# Display\n",
        "show_corr_scatterplot(pl, pw, slope, intercept, 'Petal Length', pw.name)"
      ],
      "metadata": {
        "colab": {
          "base_uri": "https://localhost:8080/",
          "height": 295
        },
        "id": "HbN8MO76oK5A",
        "outputId": "764bbe88-c801-4204-abca-28807f97b52d"
      },
      "execution_count": 12,
      "outputs": [
        {
          "output_type": "display_data",
          "data": {
            "text/plain": [
              "<Figure size 432x288 with 1 Axes>"
            ],
            "image/png": "[encoded data removed]"
          },
          "metadata": {
            "needs_background": "light"
          }
        }
      ]
    },
    {
      "cell_type": "code",
      "source": [
        "# Get regression values\n",
        "regr_values, slope, intercept, r_value, p_value = get_regression(pl,sl)\n",
        "\n",
        "# Display\n",
        "show_corr_scatterplot(pl, sl, slope, intercept, 'Petal Length', sl.name)"
      ],
      "metadata": {
        "colab": {
          "base_uri": "https://localhost:8080/",
          "height": 295
        },
        "id": "veELQpf1p1Ga",
        "outputId": "a97181d3-6228-4645-d14f-b60d33d137e6"
      },
      "execution_count": 13,
      "outputs": [
        {
          "output_type": "display_data",
          "data": {
            "text/plain": [
              "<Figure size 432x288 with 1 Axes>"
            ],
            "image/png": "[encoded data removed]"
          },
          "metadata": {
            "needs_background": "light"
          }
        }
      ]
    },
    {
      "cell_type": "code",
      "source": [
        "# Get regression values\n",
        "regr_values, slope, intercept, r_value, p_value = get_regression(pw,sl)\n",
        "\n",
        "# Display\n",
        "show_corr_scatterplot(pw, sl, slope, intercept, 'Petal Width', sl.name)"
      ],
      "metadata": {
        "colab": {
          "base_uri": "https://localhost:8080/",
          "height": 295
        },
        "id": "Aj1yfIe2p2O3",
        "outputId": "8ef72146-d48c-498f-aa2e-2365bcbc14b4"
      },
      "execution_count": 14,
      "outputs": [
        {
          "output_type": "display_data",
          "data": {
            "text/plain": [
              "<Figure size 432x288 with 1 Axes>"
            ],
            "image/png": "[encoded data removed]"
          },
          "metadata": {
            "needs_background": "light"
          }
        }
      ]
    },
    {
      "cell_type": "markdown",
      "source": [
        "###Comparison\n",
        "The 'Line of Best Fit' plots above show that the under test variables are strongly correlated and that most of the data-points either lie on the line or closely clutter arround (above or below) the best fit line."
      ],
      "metadata": {
        "id": "usFxOH75Lc2A"
      }
    },
    {
      "cell_type": "markdown",
      "metadata": {
        "id": "0b8Pm0bK_Ca1"
      },
      "source": [
        "### Split the data into train and test sets\n",
        "---\n",
        "\n",
        "Now I am going to split the data set into and 70% train, 30% test, split.  From now, I shall just use the train data set.\n"
      ]
    },
    {
      "cell_type": "code",
      "metadata": {
        "id": "CSG-ZEPEawMJ"
      },
      "source": [
        "# import the train_test_split function\n",
        "from sklearn.model_selection import train_test_split\n",
        "train, test = train_test_split(iris_data, test_size=0.33)"
      ],
      "execution_count": 15,
      "outputs": []
    },
    {
      "cell_type": "markdown",
      "source": [
        "### Menu\n",
        "Additionaly, I have provided a user interface 'Menu' below for making it easy to select any of the measures for the indicators."
      ],
      "metadata": {
        "id": "xZ12wwLHP-zS"
      }
    },
    {
      "cell_type": "code",
      "source": [
        "# The function displays a menu to make a selection for the indicator\n",
        "def show_menu():\n",
        "  option_dict = {0:'Mean', 1:'Median', 2:'Upper-Quartile', 3: 'Lower-Quartile'}\n",
        "  print('Menu Options:')\n",
        "  for k, v in option_dict.items():\n",
        "    if k==0:\n",
        "      print(f\"{k} = {v} (default)\")\n",
        "    else:\n",
        "      print(f\"{k} = {v}\")\n",
        "  selected_option = input(f\"\\nPlease input an option? \")\n",
        "  if selected_option.isdigit():\n",
        "    selected_option = int(selected_option)\n",
        "  else:\n",
        "    selected_option = 0\n",
        "  if selected_option not in [0, 1, 2, 3]:\n",
        "    selected_option = 0\n",
        "  # Create a tuple of the opted selection\n",
        "  selected_indicator = (selected_option, option_dict[selected_option])\n",
        "  print(f\"\\nThe indicator measure selected: {selected_indicator}\\n\")\n",
        "  return selected_indicator\n",
        "\n",
        "selected_indicator = show_menu()"
      ],
      "metadata": {
        "colab": {
          "base_uri": "https://localhost:8080/"
        },
        "id": "w36oXp49P9nh",
        "outputId": "8cc49f64-21f7-492f-e22e-3f4d86caafd7"
      },
      "execution_count": 16,
      "outputs": [
        {
          "output_type": "stream",
          "name": "stdout",
          "text": [
            "Menu Options:\n",
            "0 = Mean (default)\n",
            "1 = Median\n",
            "2 = Upper-Quartile\n",
            "3 = Lower-Quartile\n",
            "\n",
            "Please input an option? 1\n",
            "\n",
            "The indicator measure selected: (1, 'Median')\n",
            "\n"
          ]
        }
      ]
    },
    {
      "cell_type": "markdown",
      "metadata": {
        "id": "nd-9JfKbQl-q"
      },
      "source": [
        "### Assumptions and classification\n",
        "---\n",
        "\n",
        "Let's make some assumptions based on the data\n",
        "\n",
        "1.  Iris-setosa, Iris-versicolor, Iris-virginica are the full range of types of iris to be analysed\n",
        "2.  Although this is a small data set, the means are fairly representative\n",
        "\n",
        "With these in mind, let's start by classifying sepal/petal size into long/short and wide/narrow with values on or above the mean taken as long or wide and those below as short or narrow.\n",
        "\n",
        "This is a starting point.  I will first try to find a value (indicator) for each column where rows on or above do not contain any of a particular species, this might indicate that this column is a good (if not rough) indicator of species.  For now, the (default) indicator is the mean, I shall:\n",
        "\n",
        "Calculate, and store the means of the four columns\n",
        "\n",
        "*  **Test**:\n",
        "Display train.describe() to see the value of the means of the training set. Print the four means and compare to the output of train.describe() to check that they have been calculated correctly.\n",
        "\n",
        "*  Create a new dataframe with the numeric columns encoded so show a 1 for any value that is above the mean for its column and 0 for any that isn't.\n",
        "\n",
        "\n"
      ]
    },
    {
      "cell_type": "code",
      "source": [
        "# Calculate the indicator as per the option selected\n",
        "def show_stats_df(df, columns, indicator):\n",
        "  selected_option, indicator_txt = indicator\n",
        "  describe_df = df.describe()\n",
        "  indicator_dict = {}\n",
        "  if selected_option == 0:         # mean  \n",
        "    for column in columns:\n",
        "       indicator_dict[column] = df[column].mean()\n",
        "  elif selected_option == 1:       # median\n",
        "    for column in columns:\n",
        "       indicator_dict[column] = df[column].median()\n",
        "  elif selected_option == 2:       # upper-quartile\n",
        "    for column in columns:\n",
        "       indicator_dict[column] = df[column].quantile(0.75)\n",
        "  elif selected_option == 3:       # lower-quartile\n",
        "    for column in columns:\n",
        "       indicator_dict[column] = df[column].quantile(0.25)\n",
        "  stats_df = pd.DataFrame.from_records(indicator_dict, index=[indicator_txt.lower()])\n",
        "  stats_df = pd.concat([describe_df, stats_df])\n",
        "  return indicator_dict, stats_df\n",
        "\n",
        "# Show the summary statistics including the calculated values\n",
        "print('The summary statistics including the calculated Indicator:\\n')\n",
        "indicator_dict, stats_df = show_stats_df(train, dimension_columns, selected_indicator)\n",
        "display(stats_df)"
      ],
      "metadata": {
        "colab": {
          "base_uri": "https://localhost:8080/",
          "height": 366
        },
        "id": "g_5WmHqcGF77",
        "outputId": "2cdb0062-1e70-486f-be77-cfd1f3052a60"
      },
      "execution_count": 17,
      "outputs": [
        {
          "output_type": "stream",
          "name": "stdout",
          "text": [
            "The summary statistics including the calculated Indicator:\n",
            "\n"
          ]
        },
        {
          "output_type": "display_data",
          "data": {
            "text/plain": [
              "        sepal-length  sepal-width  petal-length  petal-width\n",
              "count     100.000000   100.000000    100.000000   100.000000\n",
              "mean        5.883000     3.009000      3.984000     1.301000\n",
              "std         0.829878     0.380349      1.706063     0.762438\n",
              "min         4.300000     2.200000      1.100000     0.100000\n",
              "25%         5.175000     2.800000      1.700000     0.400000\n",
              "50%         5.900000     3.000000      4.500000     1.400000\n",
              "75%         6.400000     3.225000      5.300000     1.900000\n",
              "max         7.900000     3.900000      6.900000     2.500000\n",
              "median      5.900000     3.000000      4.500000     1.400000"
            ],
            "text/html": [
              "\n",
              "  <div id=\"df-29608e5d-2531-476c-ba75-aa5d0a33ee49\">\n",
              "    <div class=\"colab-df-container\">\n",
              "      <div>\n",
              "<style scoped>\n",
              "    .dataframe tbody tr th:only-of-type {\n",
              "        vertical-align: middle;\n",
              "    }\n",
              "\n",
              "    .dataframe tbody tr th {\n",
              "        vertical-align: top;\n",
              "    }\n",
              "\n",
              "    .dataframe thead th {\n",
              "        text-align: right;\n",
              "    }\n",
              "</style>\n",
              "<table border=\"1\" class=\"dataframe\">\n",
              "  <thead>\n",
              "    <tr style=\"text-align: right;\">\n",
              "      <th></th>\n",
              "      <th>sepal-length</th>\n",
              "      <th>sepal-width</th>\n",
              "      <th>petal-length</th>\n",
              "      <th>petal-width</th>\n",
              "    </tr>\n",
              "  </thead>\n",
              "  <tbody>\n",
              "    <tr>\n",
              "      <th>count</th>\n",
              "      <td>100.000000</td>\n",
              "      <td>100.000000</td>\n",
              "      <td>100.000000</td>\n",
              "      <td>100.000000</td>\n",
              "    </tr>\n",
              "    <tr>\n",
              "      <th>mean</th>\n",
              "      <td>5.883000</td>\n",
              "      <td>3.009000</td>\n",
              "      <td>3.984000</td>\n",
              "      <td>1.301000</td>\n",
              "    </tr>\n",
              "    <tr>\n",
              "      <th>std</th>\n",
              "      <td>0.829878</td>\n",
              "      <td>0.380349</td>\n",
              "      <td>1.706063</td>\n",
              "      <td>0.762438</td>\n",
              "    </tr>\n",
              "    <tr>\n",
              "      <th>min</th>\n",
              "      <td>4.300000</td>\n",
              "      <td>2.200000</td>\n",
              "      <td>1.100000</td>\n",
              "      <td>0.100000</td>\n",
              "    </tr>\n",
              "    <tr>\n",
              "      <th>25%</th>\n",
              "      <td>5.175000</td>\n",
              "      <td>2.800000</td>\n",
              "      <td>1.700000</td>\n",
              "      <td>0.400000</td>\n",
              "    </tr>\n",
              "    <tr>\n",
              "      <th>50%</th>\n",
              "      <td>5.900000</td>\n",
              "      <td>3.000000</td>\n",
              "      <td>4.500000</td>\n",
              "      <td>1.400000</td>\n",
              "    </tr>\n",
              "    <tr>\n",
              "      <th>75%</th>\n",
              "      <td>6.400000</td>\n",
              "      <td>3.225000</td>\n",
              "      <td>5.300000</td>\n",
              "      <td>1.900000</td>\n",
              "    </tr>\n",
              "    <tr>\n",
              "      <th>max</th>\n",
              "      <td>7.900000</td>\n",
              "      <td>3.900000</td>\n",
              "      <td>6.900000</td>\n",
              "      <td>2.500000</td>\n",
              "    </tr>\n",
              "    <tr>\n",
              "      <th>median</th>\n",
              "      <td>5.900000</td>\n",
              "      <td>3.000000</td>\n",
              "      <td>4.500000</td>\n",
              "      <td>1.400000</td>\n",
              "    </tr>\n",
              "  </tbody>\n",
              "</table>\n",
              "</div>\n",
              "      <button class=\"colab-df-convert\" onclick=\"convertToInteractive('df-29608e5d-2531-476c-ba75-aa5d0a33ee49')\"\n",
              "              title=\"Convert this dataframe to an interactive table.\"\n",
              "              style=\"display:none;\">\n",
              "        \n",
              "  <svg xmlns=\"http://www.w3.org/2000/svg\" height=\"24px\"viewBox=\"0 0 24 24\"\n",
              "       width=\"24px\">\n",
              "    <path d=\"M0 0h24v24H0V0z\" fill=\"none\"/>\n",
              "    <path d=\"M18.56 5.44l.94 2.06.94-2.06 2.06-.94-2.06-.94-.94-2.06-.94 2.06-2.06.94zm-11 1L8.5 8.5l.94-2.06 2.06-.94-2.06-.94L8.5 2.5l-.94 2.06-2.06.94zm10 10l.94 2.06.94-2.06 2.06-.94-2.06-.94-.94-2.06-.94 2.06-2.06.94z\"/><path d=\"M17.41 7.96l-1.37-1.37c-.4-.4-.92-.59-1.43-.59-.52 0-1.04.2-1.43.59L10.3 9.45l-7.72 7.72c-.78.78-.78 2.05 0 2.83L4 21.41c.39.39.9.59 1.41.59.51 0 1.02-.2 1.41-.59l7.78-7.78 2.81-2.81c.8-.78.8-2.07 0-2.86zM5.41 20L4 18.59l7.72-7.72 1.47 1.35L5.41 20z\"/>\n",
              "  </svg>\n",
              "      </button>\n",
              "      \n",
              "  <style>\n",
              "    .colab-df-container {\n",
              "      display:flex;\n",
              "      flex-wrap:wrap;\n",
              "      gap: 12px;\n",
              "    }\n",
              "\n",
              "    .colab-df-convert {\n",
              "      background-color: #E8F0FE;\n",
              "      border: none;\n",
              "      border-radius: 50%;\n",
              "      cursor: pointer;\n",
              "      display: none;\n",
              "      fill: #1967D2;\n",
              "      height: 32px;\n",
              "      padding: 0 0 0 0;\n",
              "      width: 32px;\n",
              "    }\n",
              "\n",
              "    .colab-df-convert:hover {\n",
              "      background-color: #E2EBFA;\n",
              "      box-shadow: 0px 1px 2px rgba(60, 64, 67, 0.3), 0px 1px 3px 1px rgba(60, 64, 67, 0.15);\n",
              "      fill: #174EA6;\n",
              "    }\n",
              "\n",
              "    [theme=dark] .colab-df-convert {\n",
              "      background-color: #3B4455;\n",
              "      fill: #D2E3FC;\n",
              "    }\n",
              "\n",
              "    [theme=dark] .colab-df-convert:hover {\n",
              "      background-color: #434B5C;\n",
              "      box-shadow: 0px 1px 3px 1px rgba(0, 0, 0, 0.15);\n",
              "      filter: drop-shadow(0px 1px 2px rgba(0, 0, 0, 0.3));\n",
              "      fill: #FFFFFF;\n",
              "    }\n",
              "  </style>\n",
              "\n",
              "      <script>\n",
              "        const buttonEl =\n",
              "          document.querySelector('#df-29608e5d-2531-476c-ba75-aa5d0a33ee49 button.colab-df-convert');\n",
              "        buttonEl.style.display =\n",
              "          google.colab.kernel.accessAllowed ? 'block' : 'none';\n",
              "\n",
              "        async function convertToInteractive(key) {\n",
              "          const element = document.querySelector('#df-29608e5d-2531-476c-ba75-aa5d0a33ee49');\n",
              "          const dataTable =\n",
              "            await google.colab.kernel.invokeFunction('convertToInteractive',\n",
              "                                                     [key], {});\n",
              "          if (!dataTable) return;\n",
              "\n",
              "          const docLinkHtml = 'Like what you see? Visit the ' +\n",
              "            '<a target=\"_blank\" href=https://colab.research.google.com/notebooks/data_table.ipynb>data table notebook</a>'\n",
              "            + ' to learn more about interactive tables.';\n",
              "          element.innerHTML = '';\n",
              "          dataTable['output_type'] = 'display_data';\n",
              "          await google.colab.output.renderOutput(dataTable, element);\n",
              "          const docLink = document.createElement('div');\n",
              "          docLink.innerHTML = docLinkHtml;\n",
              "          element.appendChild(docLink);\n",
              "        }\n",
              "      </script>\n",
              "    </div>\n",
              "  </div>\n",
              "  "
            ]
          },
          "metadata": {}
        }
      ]
    },
    {
      "cell_type": "code",
      "metadata": {
        "id": "rAahb5HSWiw-",
        "colab": {
          "base_uri": "https://localhost:8080/",
          "height": 366
        },
        "outputId": "8c4fcd81-8cc7-451c-d279-fce228e47c2f"
      },
      "source": [
        "# get the mean for each column and apply a function to encode\n",
        "# into 1 (above mean) and 0 (mean or below mean)\n",
        "# 'encode' function requires a dataframe, column name & the encoding 'indicator'\n",
        "def encode(df, **kwds):\n",
        "  key = kwds['key']\n",
        "  indicator = kwds['indicator']\n",
        "  if df[key] >= indicator:\n",
        "    return 1\n",
        "  else:\n",
        "    return 0\n",
        "  return\n",
        "\n",
        "# run the function for each column so that each of the four columns are encoded,\n",
        "# then drop the original columns, saving as a new dataframe\n",
        "def get_encoded_df(df, columns, indicator):\n",
        "  selected_option, indicator_txt = indicator\n",
        "  if selected_option == 0:             # 'mean'\n",
        "    for column in columns:\n",
        "      df[column] = \\\n",
        "      df.apply(encode, axis=1, key=column, indicator=df[column].mean())\n",
        "  elif selected_option == 1:           # 'median'\n",
        "    for column in columns:\n",
        "      df[column] = \\\n",
        "      df.apply(encode, axis=1, key=column, indicator=df[column].median())\n",
        "  elif selected_option == 2:           # 'upper-quartile'\n",
        "    for column in columns:\n",
        "      df[column] = \\\n",
        "      df.apply(encode, axis=1, key=column, indicator=df[column].quantile(0.75))\n",
        "  elif selected_option == 3:           # 'lower-quartile':\n",
        "    for column in columns:\n",
        "      df[column] = \\\n",
        "      df.apply(encode, axis=1, key=column, indicator=df[column].quantile(0.25))\n",
        "  else:\n",
        "      print('Sorry, yet to programme it :) ')  \n",
        "  return df\n",
        "\n",
        "# Encode the DataFrame with respect to the selected indicator\n",
        "train = get_encoded_df(train, dimension_columns, selected_indicator)\n",
        "\n",
        "# Show the summary statistics post-encoding\n",
        "print('The summary statistics post-encoding:\\n')\n",
        "idicator_enc_dict, encoded_stats_df = show_stats_df(train, dimension_columns, selected_indicator)\n",
        "display(encoded_stats_df)"
      ],
      "execution_count": 18,
      "outputs": [
        {
          "output_type": "stream",
          "name": "stdout",
          "text": [
            "The summary statistics post-encoding:\n",
            "\n"
          ]
        },
        {
          "output_type": "display_data",
          "data": {
            "text/plain": [
              "        sepal-length  sepal-width  petal-length  petal-width\n",
              "count     100.000000   100.000000    100.000000   100.000000\n",
              "mean        0.510000     0.620000      0.530000     0.530000\n",
              "std         0.502418     0.487832      0.501614     0.501614\n",
              "min         0.000000     0.000000      0.000000     0.000000\n",
              "25%         0.000000     0.000000      0.000000     0.000000\n",
              "50%         1.000000     1.000000      1.000000     1.000000\n",
              "75%         1.000000     1.000000      1.000000     1.000000\n",
              "max         1.000000     1.000000      1.000000     1.000000\n",
              "median      1.000000     1.000000      1.000000     1.000000"
            ],
            "text/html": [
              "\n",
              "  <div id=\"df-597bf7f8-e0dd-4c13-a110-135d076cd4bd\">\n",
              "    <div class=\"colab-df-container\">\n",
              "      <div>\n",
              "<style scoped>\n",
              "    .dataframe tbody tr th:only-of-type {\n",
              "        vertical-align: middle;\n",
              "    }\n",
              "\n",
              "    .dataframe tbody tr th {\n",
              "        vertical-align: top;\n",
              "    }\n",
              "\n",
              "    .dataframe thead th {\n",
              "        text-align: right;\n",
              "    }\n",
              "</style>\n",
              "<table border=\"1\" class=\"dataframe\">\n",
              "  <thead>\n",
              "    <tr style=\"text-align: right;\">\n",
              "      <th></th>\n",
              "      <th>sepal-length</th>\n",
              "      <th>sepal-width</th>\n",
              "      <th>petal-length</th>\n",
              "      <th>petal-width</th>\n",
              "    </tr>\n",
              "  </thead>\n",
              "  <tbody>\n",
              "    <tr>\n",
              "      <th>count</th>\n",
              "      <td>100.000000</td>\n",
              "      <td>100.000000</td>\n",
              "      <td>100.000000</td>\n",
              "      <td>100.000000</td>\n",
              "    </tr>\n",
              "    <tr>\n",
              "      <th>mean</th>\n",
              "      <td>0.510000</td>\n",
              "      <td>0.620000</td>\n",
              "      <td>0.530000</td>\n",
              "      <td>0.530000</td>\n",
              "    </tr>\n",
              "    <tr>\n",
              "      <th>std</th>\n",
              "      <td>0.502418</td>\n",
              "      <td>0.487832</td>\n",
              "      <td>0.501614</td>\n",
              "      <td>0.501614</td>\n",
              "    </tr>\n",
              "    <tr>\n",
              "      <th>min</th>\n",
              "      <td>0.000000</td>\n",
              "      <td>0.000000</td>\n",
              "      <td>0.000000</td>\n",
              "      <td>0.000000</td>\n",
              "    </tr>\n",
              "    <tr>\n",
              "      <th>25%</th>\n",
              "      <td>0.000000</td>\n",
              "      <td>0.000000</td>\n",
              "      <td>0.000000</td>\n",
              "      <td>0.000000</td>\n",
              "    </tr>\n",
              "    <tr>\n",
              "      <th>50%</th>\n",
              "      <td>1.000000</td>\n",
              "      <td>1.000000</td>\n",
              "      <td>1.000000</td>\n",
              "      <td>1.000000</td>\n",
              "    </tr>\n",
              "    <tr>\n",
              "      <th>75%</th>\n",
              "      <td>1.000000</td>\n",
              "      <td>1.000000</td>\n",
              "      <td>1.000000</td>\n",
              "      <td>1.000000</td>\n",
              "    </tr>\n",
              "    <tr>\n",
              "      <th>max</th>\n",
              "      <td>1.000000</td>\n",
              "      <td>1.000000</td>\n",
              "      <td>1.000000</td>\n",
              "      <td>1.000000</td>\n",
              "    </tr>\n",
              "    <tr>\n",
              "      <th>median</th>\n",
              "      <td>1.000000</td>\n",
              "      <td>1.000000</td>\n",
              "      <td>1.000000</td>\n",
              "      <td>1.000000</td>\n",
              "    </tr>\n",
              "  </tbody>\n",
              "</table>\n",
              "</div>\n",
              "      <button class=\"colab-df-convert\" onclick=\"convertToInteractive('df-597bf7f8-e0dd-4c13-a110-135d076cd4bd')\"\n",
              "              title=\"Convert this dataframe to an interactive table.\"\n",
              "              style=\"display:none;\">\n",
              "        \n",
              "  <svg xmlns=\"http://www.w3.org/2000/svg\" height=\"24px\"viewBox=\"0 0 24 24\"\n",
              "       width=\"24px\">\n",
              "    <path d=\"M0 0h24v24H0V0z\" fill=\"none\"/>\n",
              "    <path d=\"M18.56 5.44l.94 2.06.94-2.06 2.06-.94-2.06-.94-.94-2.06-.94 2.06-2.06.94zm-11 1L8.5 8.5l.94-2.06 2.06-.94-2.06-.94L8.5 2.5l-.94 2.06-2.06.94zm10 10l.94 2.06.94-2.06 2.06-.94-2.06-.94-.94-2.06-.94 2.06-2.06.94z\"/><path d=\"M17.41 7.96l-1.37-1.37c-.4-.4-.92-.59-1.43-.59-.52 0-1.04.2-1.43.59L10.3 9.45l-7.72 7.72c-.78.78-.78 2.05 0 2.83L4 21.41c.39.39.9.59 1.41.59.51 0 1.02-.2 1.41-.59l7.78-7.78 2.81-2.81c.8-.78.8-2.07 0-2.86zM5.41 20L4 18.59l7.72-7.72 1.47 1.35L5.41 20z\"/>\n",
              "  </svg>\n",
              "      </button>\n",
              "      \n",
              "  <style>\n",
              "    .colab-df-container {\n",
              "      display:flex;\n",
              "      flex-wrap:wrap;\n",
              "      gap: 12px;\n",
              "    }\n",
              "\n",
              "    .colab-df-convert {\n",
              "      background-color: #E8F0FE;\n",
              "      border: none;\n",
              "      border-radius: 50%;\n",
              "      cursor: pointer;\n",
              "      display: none;\n",
              "      fill: #1967D2;\n",
              "      height: 32px;\n",
              "      padding: 0 0 0 0;\n",
              "      width: 32px;\n",
              "    }\n",
              "\n",
              "    .colab-df-convert:hover {\n",
              "      background-color: #E2EBFA;\n",
              "      box-shadow: 0px 1px 2px rgba(60, 64, 67, 0.3), 0px 1px 3px 1px rgba(60, 64, 67, 0.15);\n",
              "      fill: #174EA6;\n",
              "    }\n",
              "\n",
              "    [theme=dark] .colab-df-convert {\n",
              "      background-color: #3B4455;\n",
              "      fill: #D2E3FC;\n",
              "    }\n",
              "\n",
              "    [theme=dark] .colab-df-convert:hover {\n",
              "      background-color: #434B5C;\n",
              "      box-shadow: 0px 1px 3px 1px rgba(0, 0, 0, 0.15);\n",
              "      filter: drop-shadow(0px 1px 2px rgba(0, 0, 0, 0.3));\n",
              "      fill: #FFFFFF;\n",
              "    }\n",
              "  </style>\n",
              "\n",
              "      <script>\n",
              "        const buttonEl =\n",
              "          document.querySelector('#df-597bf7f8-e0dd-4c13-a110-135d076cd4bd button.colab-df-convert');\n",
              "        buttonEl.style.display =\n",
              "          google.colab.kernel.accessAllowed ? 'block' : 'none';\n",
              "\n",
              "        async function convertToInteractive(key) {\n",
              "          const element = document.querySelector('#df-597bf7f8-e0dd-4c13-a110-135d076cd4bd');\n",
              "          const dataTable =\n",
              "            await google.colab.kernel.invokeFunction('convertToInteractive',\n",
              "                                                     [key], {});\n",
              "          if (!dataTable) return;\n",
              "\n",
              "          const docLinkHtml = 'Like what you see? Visit the ' +\n",
              "            '<a target=\"_blank\" href=https://colab.research.google.com/notebooks/data_table.ipynb>data table notebook</a>'\n",
              "            + ' to learn more about interactive tables.';\n",
              "          element.innerHTML = '';\n",
              "          dataTable['output_type'] = 'display_data';\n",
              "          await google.colab.output.renderOutput(dataTable, element);\n",
              "          const docLink = document.createElement('div');\n",
              "          docLink.innerHTML = docLinkHtml;\n",
              "          element.appendChild(docLink);\n",
              "        }\n",
              "      </script>\n",
              "    </div>\n",
              "  </div>\n",
              "  "
            ]
          },
          "metadata": {}
        }
      ]
    },
    {
      "cell_type": "markdown",
      "metadata": {
        "id": "t9lP8lC1dCsa"
      },
      "source": [
        "###Calculate the proportion of values on or above the mean that are of each species\n",
        "\n",
        "I am going to focus on the `Iris-virginica` species first.\n",
        "\n",
        "First I will calculate, for each dimension column (`sepal-length, sepal-width, petal-length, petal-width`) what proportion of values in that column, where the value is on or above the mean, are classified as `Iris-virginica`.\n",
        "\n",
        "I will do this by filtering all the records in each column of the the `train` set that are on or above the mean and match the species .  Then use the outcome to calculate the proportion of the full `train` set for which a value on or above the mean that are of species `Iris-virginica`.\n",
        "\n",
        "*  filter for values in the `sepal-length` column being on or above the mean and the species column being `Iris-virginica`.  Then divide the count of rows in this filtered dataset by the count of rows in a second data set, filtered for just the value being on or above the mean. I shall do this for all four columns, for `Iris-virginica`  (4 operations).\n",
        "\n",
        "*   Print the results to see which columns look like they might most reliably predict the species as `Iris-virginica` (the result is as close as possible to 1).  The highest numbers may indicate the most reliable indicators, but I shall do some more before coming to this conclusion.\n",
        "\n",
        "*  By definition, those on or above the mean that are NOT Iris_virginica will be `1 - the proportion of those that are. They need be calculated.\n",
        "\n",
        "*  I will also need the proportion of those BELOW the mean that are NOT Iris-virginica.  I shall calculate these in the same way.\n",
        "\n"
      ]
    },
    {
      "cell_type": "code",
      "source": [
        "# Function describes the data-set in counts and in proportion of the species\n",
        "def describe(df, species_names_column, dimension_columns, show_proportions=False):\n",
        "  above_indicator_sums_df = df.groupby([species_names_column])[dimension_columns].sum()\n",
        "  total_sum = above_indicator_sums_df.sum()\n",
        "  if show_proportions:\n",
        "    prop_dict = {}\n",
        "    for column in dimension_columns:\n",
        "      prop_dict[column] = above_indicator_sums_df[column] / total_sum[column]\n",
        "    describe_dict = prop_dict\n",
        "    describe_df = pd.DataFrame.from_dict(prop_dict)\n",
        "  else:\n",
        "    describe_dict = above_indicator_sums_df.to_dict()\n",
        "    totals_df = pd.DataFrame.from_records([total_sum], index=['>= Indicator Total:'])\n",
        "    describe_df = pd.concat([above_indicator_sums_df, totals_df])\n",
        "  return describe_dict, describe_df\n",
        "\n",
        "print('Species Count (equal and above the indicator):')\n",
        "describe_dict, describe_df = describe(train, 'species', dimension_columns)\n",
        "display(describe_df)\n",
        "print('\\nSpecies Proportions (equal and above the indicator):')\n",
        "desecribe_prop_dict, describe_prop_df = describe(train, 'species', dimension_columns, True)\n",
        "display(describe_prop_df)"
      ],
      "metadata": {
        "colab": {
          "base_uri": "https://localhost:8080/",
          "height": 384
        },
        "id": "AZRN_2dtzrNY",
        "outputId": "7747419a-11d0-43fb-9a2a-9838cc2c9b04"
      },
      "execution_count": 19,
      "outputs": [
        {
          "output_type": "stream",
          "name": "stdout",
          "text": [
            "Species Count (equal and above the indicator):\n"
          ]
        },
        {
          "output_type": "display_data",
          "data": {
            "text/plain": [
              "                     sepal-length  sepal-width  petal-length  petal-width\n",
              "Iris-setosa                     0           28             0            0\n",
              "Iris-versicolor                17           11            14           14\n",
              "Iris-virginica                 34           23            39           39\n",
              ">= Indicator Total:            51           62            53           53"
            ],
            "text/html": [
              "\n",
              "  <div id=\"df-27762f03-f3ca-4145-943a-34799acd1e58\">\n",
              "    <div class=\"colab-df-container\">\n",
              "      <div>\n",
              "<style scoped>\n",
              "    .dataframe tbody tr th:only-of-type {\n",
              "        vertical-align: middle;\n",
              "    }\n",
              "\n",
              "    .dataframe tbody tr th {\n",
              "        vertical-align: top;\n",
              "    }\n",
              "\n",
              "    .dataframe thead th {\n",
              "        text-align: right;\n",
              "    }\n",
              "</style>\n",
              "<table border=\"1\" class=\"dataframe\">\n",
              "  <thead>\n",
              "    <tr style=\"text-align: right;\">\n",
              "      <th></th>\n",
              "      <th>sepal-length</th>\n",
              "      <th>sepal-width</th>\n",
              "      <th>petal-length</th>\n",
              "      <th>petal-width</th>\n",
              "    </tr>\n",
              "  </thead>\n",
              "  <tbody>\n",
              "    <tr>\n",
              "      <th>Iris-setosa</th>\n",
              "      <td>0</td>\n",
              "      <td>28</td>\n",
              "      <td>0</td>\n",
              "      <td>0</td>\n",
              "    </tr>\n",
              "    <tr>\n",
              "      <th>Iris-versicolor</th>\n",
              "      <td>17</td>\n",
              "      <td>11</td>\n",
              "      <td>14</td>\n",
              "      <td>14</td>\n",
              "    </tr>\n",
              "    <tr>\n",
              "      <th>Iris-virginica</th>\n",
              "      <td>34</td>\n",
              "      <td>23</td>\n",
              "      <td>39</td>\n",
              "      <td>39</td>\n",
              "    </tr>\n",
              "    <tr>\n",
              "      <th>&gt;= Indicator Total:</th>\n",
              "      <td>51</td>\n",
              "      <td>62</td>\n",
              "      <td>53</td>\n",
              "      <td>53</td>\n",
              "    </tr>\n",
              "  </tbody>\n",
              "</table>\n",
              "</div>\n",
              "      <button class=\"colab-df-convert\" onclick=\"convertToInteractive('df-27762f03-f3ca-4145-943a-34799acd1e58')\"\n",
              "              title=\"Convert this dataframe to an interactive table.\"\n",
              "              style=\"display:none;\">\n",
              "        \n",
              "  <svg xmlns=\"http://www.w3.org/2000/svg\" height=\"24px\"viewBox=\"0 0 24 24\"\n",
              "       width=\"24px\">\n",
              "    <path d=\"M0 0h24v24H0V0z\" fill=\"none\"/>\n",
              "    <path d=\"M18.56 5.44l.94 2.06.94-2.06 2.06-.94-2.06-.94-.94-2.06-.94 2.06-2.06.94zm-11 1L8.5 8.5l.94-2.06 2.06-.94-2.06-.94L8.5 2.5l-.94 2.06-2.06.94zm10 10l.94 2.06.94-2.06 2.06-.94-2.06-.94-.94-2.06-.94 2.06-2.06.94z\"/><path d=\"M17.41 7.96l-1.37-1.37c-.4-.4-.92-.59-1.43-.59-.52 0-1.04.2-1.43.59L10.3 9.45l-7.72 7.72c-.78.78-.78 2.05 0 2.83L4 21.41c.39.39.9.59 1.41.59.51 0 1.02-.2 1.41-.59l7.78-7.78 2.81-2.81c.8-.78.8-2.07 0-2.86zM5.41 20L4 18.59l7.72-7.72 1.47 1.35L5.41 20z\"/>\n",
              "  </svg>\n",
              "      </button>\n",
              "      \n",
              "  <style>\n",
              "    .colab-df-container {\n",
              "      display:flex;\n",
              "      flex-wrap:wrap;\n",
              "      gap: 12px;\n",
              "    }\n",
              "\n",
              "    .colab-df-convert {\n",
              "      background-color: #E8F0FE;\n",
              "      border: none;\n",
              "      border-radius: 50%;\n",
              "      cursor: pointer;\n",
              "      display: none;\n",
              "      fill: #1967D2;\n",
              "      height: 32px;\n",
              "      padding: 0 0 0 0;\n",
              "      width: 32px;\n",
              "    }\n",
              "\n",
              "    .colab-df-convert:hover {\n",
              "      background-color: #E2EBFA;\n",
              "      box-shadow: 0px 1px 2px rgba(60, 64, 67, 0.3), 0px 1px 3px 1px rgba(60, 64, 67, 0.15);\n",
              "      fill: #174EA6;\n",
              "    }\n",
              "\n",
              "    [theme=dark] .colab-df-convert {\n",
              "      background-color: #3B4455;\n",
              "      fill: #D2E3FC;\n",
              "    }\n",
              "\n",
              "    [theme=dark] .colab-df-convert:hover {\n",
              "      background-color: #434B5C;\n",
              "      box-shadow: 0px 1px 3px 1px rgba(0, 0, 0, 0.15);\n",
              "      filter: drop-shadow(0px 1px 2px rgba(0, 0, 0, 0.3));\n",
              "      fill: #FFFFFF;\n",
              "    }\n",
              "  </style>\n",
              "\n",
              "      <script>\n",
              "        const buttonEl =\n",
              "          document.querySelector('#df-27762f03-f3ca-4145-943a-34799acd1e58 button.colab-df-convert');\n",
              "        buttonEl.style.display =\n",
              "          google.colab.kernel.accessAllowed ? 'block' : 'none';\n",
              "\n",
              "        async function convertToInteractive(key) {\n",
              "          const element = document.querySelector('#df-27762f03-f3ca-4145-943a-34799acd1e58');\n",
              "          const dataTable =\n",
              "            await google.colab.kernel.invokeFunction('convertToInteractive',\n",
              "                                                     [key], {});\n",
              "          if (!dataTable) return;\n",
              "\n",
              "          const docLinkHtml = 'Like what you see? Visit the ' +\n",
              "            '<a target=\"_blank\" href=https://colab.research.google.com/notebooks/data_table.ipynb>data table notebook</a>'\n",
              "            + ' to learn more about interactive tables.';\n",
              "          element.innerHTML = '';\n",
              "          dataTable['output_type'] = 'display_data';\n",
              "          await google.colab.output.renderOutput(dataTable, element);\n",
              "          const docLink = document.createElement('div');\n",
              "          docLink.innerHTML = docLinkHtml;\n",
              "          element.appendChild(docLink);\n",
              "        }\n",
              "      </script>\n",
              "    </div>\n",
              "  </div>\n",
              "  "
            ]
          },
          "metadata": {}
        },
        {
          "output_type": "stream",
          "name": "stdout",
          "text": [
            "\n",
            "Species Proportions (equal and above the indicator):\n"
          ]
        },
        {
          "output_type": "display_data",
          "data": {
            "text/plain": [
              "                 sepal-length  sepal-width  petal-length  petal-width\n",
              "species                                                              \n",
              "Iris-setosa          0.000000     0.451613      0.000000     0.000000\n",
              "Iris-versicolor      0.333333     0.177419      0.264151     0.264151\n",
              "Iris-virginica       0.666667     0.370968      0.735849     0.735849"
            ],
            "text/html": [
              "\n",
              "  <div id=\"df-bae5c513-4dd1-4270-8a0a-d51efd7cccb7\">\n",
              "    <div class=\"colab-df-container\">\n",
              "      <div>\n",
              "<style scoped>\n",
              "    .dataframe tbody tr th:only-of-type {\n",
              "        vertical-align: middle;\n",
              "    }\n",
              "\n",
              "    .dataframe tbody tr th {\n",
              "        vertical-align: top;\n",
              "    }\n",
              "\n",
              "    .dataframe thead th {\n",
              "        text-align: right;\n",
              "    }\n",
              "</style>\n",
              "<table border=\"1\" class=\"dataframe\">\n",
              "  <thead>\n",
              "    <tr style=\"text-align: right;\">\n",
              "      <th></th>\n",
              "      <th>sepal-length</th>\n",
              "      <th>sepal-width</th>\n",
              "      <th>petal-length</th>\n",
              "      <th>petal-width</th>\n",
              "    </tr>\n",
              "    <tr>\n",
              "      <th>species</th>\n",
              "      <th></th>\n",
              "      <th></th>\n",
              "      <th></th>\n",
              "      <th></th>\n",
              "    </tr>\n",
              "  </thead>\n",
              "  <tbody>\n",
              "    <tr>\n",
              "      <th>Iris-setosa</th>\n",
              "      <td>0.000000</td>\n",
              "      <td>0.451613</td>\n",
              "      <td>0.000000</td>\n",
              "      <td>0.000000</td>\n",
              "    </tr>\n",
              "    <tr>\n",
              "      <th>Iris-versicolor</th>\n",
              "      <td>0.333333</td>\n",
              "      <td>0.177419</td>\n",
              "      <td>0.264151</td>\n",
              "      <td>0.264151</td>\n",
              "    </tr>\n",
              "    <tr>\n",
              "      <th>Iris-virginica</th>\n",
              "      <td>0.666667</td>\n",
              "      <td>0.370968</td>\n",
              "      <td>0.735849</td>\n",
              "      <td>0.735849</td>\n",
              "    </tr>\n",
              "  </tbody>\n",
              "</table>\n",
              "</div>\n",
              "      <button class=\"colab-df-convert\" onclick=\"convertToInteractive('df-bae5c513-4dd1-4270-8a0a-d51efd7cccb7')\"\n",
              "              title=\"Convert this dataframe to an interactive table.\"\n",
              "              style=\"display:none;\">\n",
              "        \n",
              "  <svg xmlns=\"http://www.w3.org/2000/svg\" height=\"24px\"viewBox=\"0 0 24 24\"\n",
              "       width=\"24px\">\n",
              "    <path d=\"M0 0h24v24H0V0z\" fill=\"none\"/>\n",
              "    <path d=\"M18.56 5.44l.94 2.06.94-2.06 2.06-.94-2.06-.94-.94-2.06-.94 2.06-2.06.94zm-11 1L8.5 8.5l.94-2.06 2.06-.94-2.06-.94L8.5 2.5l-.94 2.06-2.06.94zm10 10l.94 2.06.94-2.06 2.06-.94-2.06-.94-.94-2.06-.94 2.06-2.06.94z\"/><path d=\"M17.41 7.96l-1.37-1.37c-.4-.4-.92-.59-1.43-.59-.52 0-1.04.2-1.43.59L10.3 9.45l-7.72 7.72c-.78.78-.78 2.05 0 2.83L4 21.41c.39.39.9.59 1.41.59.51 0 1.02-.2 1.41-.59l7.78-7.78 2.81-2.81c.8-.78.8-2.07 0-2.86zM5.41 20L4 18.59l7.72-7.72 1.47 1.35L5.41 20z\"/>\n",
              "  </svg>\n",
              "      </button>\n",
              "      \n",
              "  <style>\n",
              "    .colab-df-container {\n",
              "      display:flex;\n",
              "      flex-wrap:wrap;\n",
              "      gap: 12px;\n",
              "    }\n",
              "\n",
              "    .colab-df-convert {\n",
              "      background-color: #E8F0FE;\n",
              "      border: none;\n",
              "      border-radius: 50%;\n",
              "      cursor: pointer;\n",
              "      display: none;\n",
              "      fill: #1967D2;\n",
              "      height: 32px;\n",
              "      padding: 0 0 0 0;\n",
              "      width: 32px;\n",
              "    }\n",
              "\n",
              "    .colab-df-convert:hover {\n",
              "      background-color: #E2EBFA;\n",
              "      box-shadow: 0px 1px 2px rgba(60, 64, 67, 0.3), 0px 1px 3px 1px rgba(60, 64, 67, 0.15);\n",
              "      fill: #174EA6;\n",
              "    }\n",
              "\n",
              "    [theme=dark] .colab-df-convert {\n",
              "      background-color: #3B4455;\n",
              "      fill: #D2E3FC;\n",
              "    }\n",
              "\n",
              "    [theme=dark] .colab-df-convert:hover {\n",
              "      background-color: #434B5C;\n",
              "      box-shadow: 0px 1px 3px 1px rgba(0, 0, 0, 0.15);\n",
              "      filter: drop-shadow(0px 1px 2px rgba(0, 0, 0, 0.3));\n",
              "      fill: #FFFFFF;\n",
              "    }\n",
              "  </style>\n",
              "\n",
              "      <script>\n",
              "        const buttonEl =\n",
              "          document.querySelector('#df-bae5c513-4dd1-4270-8a0a-d51efd7cccb7 button.colab-df-convert');\n",
              "        buttonEl.style.display =\n",
              "          google.colab.kernel.accessAllowed ? 'block' : 'none';\n",
              "\n",
              "        async function convertToInteractive(key) {\n",
              "          const element = document.querySelector('#df-bae5c513-4dd1-4270-8a0a-d51efd7cccb7');\n",
              "          const dataTable =\n",
              "            await google.colab.kernel.invokeFunction('convertToInteractive',\n",
              "                                                     [key], {});\n",
              "          if (!dataTable) return;\n",
              "\n",
              "          const docLinkHtml = 'Like what you see? Visit the ' +\n",
              "            '<a target=\"_blank\" href=https://colab.research.google.com/notebooks/data_table.ipynb>data table notebook</a>'\n",
              "            + ' to learn more about interactive tables.';\n",
              "          element.innerHTML = '';\n",
              "          dataTable['output_type'] = 'display_data';\n",
              "          await google.colab.output.renderOutput(dataTable, element);\n",
              "          const docLink = document.createElement('div');\n",
              "          docLink.innerHTML = docLinkHtml;\n",
              "          element.appendChild(docLink);\n",
              "        }\n",
              "      </script>\n",
              "    </div>\n",
              "  </div>\n",
              "  "
            ]
          },
          "metadata": {}
        }
      ]
    },
    {
      "cell_type": "code",
      "source": [
        "# Function to calculate the proportions\n",
        "def get_proportion(df, columns, species, indicator, calculate_on = 'both'):\n",
        "  selected_option, indicator_txt = indicator\n",
        "  i = 0\n",
        "  species_list_of_props_dict = []\n",
        "  while i <= 1:  \n",
        "    if calculate_on == 'eq_gt': # equal and above the indicator\n",
        "      Flag = 1                  # select only the ones encoded with 1\n",
        "      i = 2\n",
        "      index_str = f'{species} >= {indicator_txt}:'\n",
        "    elif calculate_on == 'lt':  # below the indicator\n",
        "      Flag = 0                  # select only the ones encoded with 0\n",
        "      i = 2\n",
        "      index_str = f'{species} < {indicator_txt}:'\n",
        "    else:                       # calculate both equal-above and below the indicator\n",
        "      i+=1\n",
        "      if i == 1:\n",
        "        Flag = 1                # select only the ones encoded with 1\n",
        "        index_str = f'{species} >= {indicator_txt}:'\n",
        "      else:\n",
        "        Flag = 0                # select only the ones encoded with 0\n",
        "        index_str = f'{species} < {indicator_txt}:'        \n",
        "    \n",
        "    # Species only DataFrame\n",
        "    species_df = df[df['species']==species]\n",
        "\n",
        "    # dictionary with counts of 1/0 of the indicator for the specific 'species'\n",
        "    species_flag_dict = {}\n",
        "    species_flag_dict['species'] = index_str\n",
        "    for column in columns:\n",
        "      species_flag_dict[column] = len(species_df[species_df[column] == Flag])\n",
        "    \n",
        "    # Get proportions\n",
        "    species_prop_dict = {}\n",
        "    species_prop_dict['species'] = species              #'p'\n",
        "    for column in columns:\n",
        "      total_count = len(df[df[column] == Flag])\n",
        "      if total_count == 0:\n",
        "        print(species_flag_dict[column])\n",
        "        species_prop_dict[column] = species_flag_dict[column]\n",
        "      else:\n",
        "        species_prop_dict[column] = species_flag_dict[column]/total_count\n",
        "\n",
        "    # Get 1 - proportions\n",
        "    species_except_dict = {}\n",
        "    species_except_dict['species'] = f'Other than {species}'   #'1 - p'\n",
        "    for column in columns:\n",
        "      species_except_dict[column] = 1 - species_prop_dict[column]    \n",
        "    species_list_of_props_dict.append({Flag: [species_prop_dict, species_except_dict]})\n",
        "    if Flag == 1:\n",
        "      species_flag_gt_df = pd.DataFrame.from_dict([species_flag_dict, species_prop_dict,\\\n",
        "                                            species_except_dict])\n",
        "      species_prop_df = species_flag_gt_df\n",
        "    else:\n",
        "      species_flag_lt_df = pd.DataFrame.from_dict([species_flag_dict, species_prop_dict,\\\n",
        "                                            species_except_dict])\n",
        "      species_prop_df = species_flag_lt_df\n",
        "    if calculate_on == 'both' and i == 2: # only if end of loop and 'both' was selected.\n",
        "      species_prop_df = pd.concat([species_flag_gt_df, species_flag_lt_df])\n",
        "  return species_list_of_props_dict, species_prop_df"
      ],
      "metadata": {
        "id": "wKZY0phByzt8"
      },
      "execution_count": 20,
      "outputs": []
    },
    {
      "cell_type": "code",
      "source": [
        "# Function to build a summary of the proportions of all the species above/equal and below indicator\n",
        "def get_species_dashboard(dfs):\n",
        "  species_prop_df = pd.concat(dfs)\n",
        "  return species_prop_df"
      ],
      "metadata": {
        "id": "qcfGcyYzciB6"
      },
      "execution_count": 21,
      "outputs": []
    },
    {
      "cell_type": "code",
      "source": [
        "# calculate the proportion of results where the value is on or above mean \n",
        "# that are of the species Iris-virginica\n",
        "iris_virginica_eq_gt_dict, iris_virginica_eq_gt_df = get_proportion(train, dimension_columns, 'Iris-virginica', selected_indicator, 'eq_gt')\n",
        "\n",
        "display(iris_virginica_eq_gt_df.style.hide_index())\n",
        "display(iris_virginica_eq_gt_dict)"
      ],
      "metadata": {
        "id": "rquErGYKT8T1",
        "colab": {
          "base_uri": "https://localhost:8080/",
          "height": 317
        },
        "outputId": "814169ad-a97d-4d92-ad62-189ba9e572b8"
      },
      "execution_count": 22,
      "outputs": [
        {
          "output_type": "display_data",
          "data": {
            "text/plain": [
              "<pandas.io.formats.style.Styler at 0x7f313081b210>"
            ],
            "text/html": [
              "<style type=\"text/css\">\n",
              "</style>\n",
              "<table id=\"T_3e71f_\" class=\"dataframe\">\n",
              "  <thead>\n",
              "    <tr>\n",
              "      <th class=\"col_heading level0 col0\" >species</th>\n",
              "      <th class=\"col_heading level0 col1\" >sepal-length</th>\n",
              "      <th class=\"col_heading level0 col2\" >sepal-width</th>\n",
              "      <th class=\"col_heading level0 col3\" >petal-length</th>\n",
              "      <th class=\"col_heading level0 col4\" >petal-width</th>\n",
              "    </tr>\n",
              "  </thead>\n",
              "  <tbody>\n",
              "    <tr>\n",
              "      <td id=\"T_3e71f_row0_col0\" class=\"data row0 col0\" >Iris-virginica >= Median:</td>\n",
              "      <td id=\"T_3e71f_row0_col1\" class=\"data row0 col1\" >34.000000</td>\n",
              "      <td id=\"T_3e71f_row0_col2\" class=\"data row0 col2\" >23.000000</td>\n",
              "      <td id=\"T_3e71f_row0_col3\" class=\"data row0 col3\" >39.000000</td>\n",
              "      <td id=\"T_3e71f_row0_col4\" class=\"data row0 col4\" >39.000000</td>\n",
              "    </tr>\n",
              "    <tr>\n",
              "      <td id=\"T_3e71f_row1_col0\" class=\"data row1 col0\" >Iris-virginica</td>\n",
              "      <td id=\"T_3e71f_row1_col1\" class=\"data row1 col1\" >0.666667</td>\n",
              "      <td id=\"T_3e71f_row1_col2\" class=\"data row1 col2\" >0.370968</td>\n",
              "      <td id=\"T_3e71f_row1_col3\" class=\"data row1 col3\" >0.735849</td>\n",
              "      <td id=\"T_3e71f_row1_col4\" class=\"data row1 col4\" >0.735849</td>\n",
              "    </tr>\n",
              "    <tr>\n",
              "      <td id=\"T_3e71f_row2_col0\" class=\"data row2 col0\" >Other than Iris-virginica</td>\n",
              "      <td id=\"T_3e71f_row2_col1\" class=\"data row2 col1\" >0.333333</td>\n",
              "      <td id=\"T_3e71f_row2_col2\" class=\"data row2 col2\" >0.629032</td>\n",
              "      <td id=\"T_3e71f_row2_col3\" class=\"data row2 col3\" >0.264151</td>\n",
              "      <td id=\"T_3e71f_row2_col4\" class=\"data row2 col4\" >0.264151</td>\n",
              "    </tr>\n",
              "  </tbody>\n",
              "</table>\n"
            ]
          },
          "metadata": {}
        },
        {
          "output_type": "display_data",
          "data": {
            "text/plain": [
              "[{1: [{'petal-length': 0.7358490566037735,\n",
              "    'petal-width': 0.7358490566037735,\n",
              "    'sepal-length': 0.6666666666666666,\n",
              "    'sepal-width': 0.3709677419354839,\n",
              "    'species': 'Iris-virginica'},\n",
              "   {'petal-length': 0.26415094339622647,\n",
              "    'petal-width': 0.26415094339622647,\n",
              "    'sepal-length': 0.33333333333333337,\n",
              "    'sepal-width': 0.6290322580645161,\n",
              "    'species': 'Other than Iris-virginica'}]}]"
            ]
          },
          "metadata": {}
        }
      ]
    },
    {
      "cell_type": "markdown",
      "metadata": {
        "id": "M-HgetRIxJpx"
      },
      "source": [
        "### Calculate the proportion of each column, where the value is below mean, that are of species \n",
        "###Iris-virginica\n",
        "\n",
        "Now that I have coded the instructions in functional forms, I am going to repeat the code above, this time looking for values below the mean by way of simply calling the functions with appropriate parameters."
      ]
    },
    {
      "cell_type": "code",
      "metadata": {
        "id": "sMvl5HFuxpwS",
        "colab": {
          "base_uri": "https://localhost:8080/",
          "height": 317
        },
        "outputId": "c28610fa-6997-4486-a977-16770a274a2a"
      },
      "source": [
        "# calculate the proportion of results where the value is below mean that are \n",
        "# of the species Iris-virginica\n",
        "iris_virginica_but_lt_dict, iris_virginica_lt_df = get_proportion(train, dimension_columns, 'Iris-virginica', selected_indicator, 'lt')\n",
        "\n",
        "display(iris_virginica_lt_df.style.hide_index())\n",
        "display(iris_virginica_but_lt_dict)"
      ],
      "execution_count": 23,
      "outputs": [
        {
          "output_type": "display_data",
          "data": {
            "text/plain": [
              "<pandas.io.formats.style.Styler at 0x7f312fb6a1d0>"
            ],
            "text/html": [
              "<style type=\"text/css\">\n",
              "</style>\n",
              "<table id=\"T_59ef8_\" class=\"dataframe\">\n",
              "  <thead>\n",
              "    <tr>\n",
              "      <th class=\"col_heading level0 col0\" >species</th>\n",
              "      <th class=\"col_heading level0 col1\" >sepal-length</th>\n",
              "      <th class=\"col_heading level0 col2\" >sepal-width</th>\n",
              "      <th class=\"col_heading level0 col3\" >petal-length</th>\n",
              "      <th class=\"col_heading level0 col4\" >petal-width</th>\n",
              "    </tr>\n",
              "  </thead>\n",
              "  <tbody>\n",
              "    <tr>\n",
              "      <td id=\"T_59ef8_row0_col0\" class=\"data row0 col0\" >Iris-virginica < Median:</td>\n",
              "      <td id=\"T_59ef8_row0_col1\" class=\"data row0 col1\" >5.000000</td>\n",
              "      <td id=\"T_59ef8_row0_col2\" class=\"data row0 col2\" >16.000000</td>\n",
              "      <td id=\"T_59ef8_row0_col3\" class=\"data row0 col3\" >0.000000</td>\n",
              "      <td id=\"T_59ef8_row0_col4\" class=\"data row0 col4\" >0.000000</td>\n",
              "    </tr>\n",
              "    <tr>\n",
              "      <td id=\"T_59ef8_row1_col0\" class=\"data row1 col0\" >Iris-virginica</td>\n",
              "      <td id=\"T_59ef8_row1_col1\" class=\"data row1 col1\" >0.102041</td>\n",
              "      <td id=\"T_59ef8_row1_col2\" class=\"data row1 col2\" >0.421053</td>\n",
              "      <td id=\"T_59ef8_row1_col3\" class=\"data row1 col3\" >0.000000</td>\n",
              "      <td id=\"T_59ef8_row1_col4\" class=\"data row1 col4\" >0.000000</td>\n",
              "    </tr>\n",
              "    <tr>\n",
              "      <td id=\"T_59ef8_row2_col0\" class=\"data row2 col0\" >Other than Iris-virginica</td>\n",
              "      <td id=\"T_59ef8_row2_col1\" class=\"data row2 col1\" >0.897959</td>\n",
              "      <td id=\"T_59ef8_row2_col2\" class=\"data row2 col2\" >0.578947</td>\n",
              "      <td id=\"T_59ef8_row2_col3\" class=\"data row2 col3\" >1.000000</td>\n",
              "      <td id=\"T_59ef8_row2_col4\" class=\"data row2 col4\" >1.000000</td>\n",
              "    </tr>\n",
              "  </tbody>\n",
              "</table>\n"
            ]
          },
          "metadata": {}
        },
        {
          "output_type": "display_data",
          "data": {
            "text/plain": [
              "[{0: [{'petal-length': 0.0,\n",
              "    'petal-width': 0.0,\n",
              "    'sepal-length': 0.10204081632653061,\n",
              "    'sepal-width': 0.42105263157894735,\n",
              "    'species': 'Iris-virginica'},\n",
              "   {'petal-length': 1.0,\n",
              "    'petal-width': 1.0,\n",
              "    'sepal-length': 0.8979591836734694,\n",
              "    'sepal-width': 0.5789473684210527,\n",
              "    'species': 'Other than Iris-virginica'}]}]"
            ]
          },
          "metadata": {}
        }
      ]
    },
    {
      "cell_type": "code",
      "source": [
        "# Summary of proportions - Dashboard\n",
        "iris_virginica_prop_list_of_dict, iris_virginica_prop_df = get_proportion(train, dimension_columns, 'Iris-virginica', selected_indicator)\n",
        "display(iris_virginica_prop_df.style.hide_index())\n",
        "display(iris_virginica_prop_list_of_dict)"
      ],
      "metadata": {
        "colab": {
          "base_uri": "https://localhost:8080/",
          "height": 584
        },
        "id": "sduSPM8bWHNo",
        "outputId": "f4f21c21-cf57-4cfd-a52f-85a6fdf37183"
      },
      "execution_count": 24,
      "outputs": [
        {
          "output_type": "display_data",
          "data": {
            "text/plain": [
              "<pandas.io.formats.style.Styler at 0x7f3136e34f50>"
            ],
            "text/html": [
              "<style type=\"text/css\">\n",
              "</style>\n",
              "<table id=\"T_db687_\" class=\"dataframe\">\n",
              "  <thead>\n",
              "    <tr>\n",
              "      <th class=\"col_heading level0 col0\" >species</th>\n",
              "      <th class=\"col_heading level0 col1\" >sepal-length</th>\n",
              "      <th class=\"col_heading level0 col2\" >sepal-width</th>\n",
              "      <th class=\"col_heading level0 col3\" >petal-length</th>\n",
              "      <th class=\"col_heading level0 col4\" >petal-width</th>\n",
              "    </tr>\n",
              "  </thead>\n",
              "  <tbody>\n",
              "    <tr>\n",
              "      <td id=\"T_db687_row0_col0\" class=\"data row0 col0\" >Iris-virginica >= Median:</td>\n",
              "      <td id=\"T_db687_row0_col1\" class=\"data row0 col1\" >34.000000</td>\n",
              "      <td id=\"T_db687_row0_col2\" class=\"data row0 col2\" >23.000000</td>\n",
              "      <td id=\"T_db687_row0_col3\" class=\"data row0 col3\" >39.000000</td>\n",
              "      <td id=\"T_db687_row0_col4\" class=\"data row0 col4\" >39.000000</td>\n",
              "    </tr>\n",
              "    <tr>\n",
              "      <td id=\"T_db687_row1_col0\" class=\"data row1 col0\" >Iris-virginica</td>\n",
              "      <td id=\"T_db687_row1_col1\" class=\"data row1 col1\" >0.666667</td>\n",
              "      <td id=\"T_db687_row1_col2\" class=\"data row1 col2\" >0.370968</td>\n",
              "      <td id=\"T_db687_row1_col3\" class=\"data row1 col3\" >0.735849</td>\n",
              "      <td id=\"T_db687_row1_col4\" class=\"data row1 col4\" >0.735849</td>\n",
              "    </tr>\n",
              "    <tr>\n",
              "      <td id=\"T_db687_row2_col0\" class=\"data row2 col0\" >Other than Iris-virginica</td>\n",
              "      <td id=\"T_db687_row2_col1\" class=\"data row2 col1\" >0.333333</td>\n",
              "      <td id=\"T_db687_row2_col2\" class=\"data row2 col2\" >0.629032</td>\n",
              "      <td id=\"T_db687_row2_col3\" class=\"data row2 col3\" >0.264151</td>\n",
              "      <td id=\"T_db687_row2_col4\" class=\"data row2 col4\" >0.264151</td>\n",
              "    </tr>\n",
              "    <tr>\n",
              "      <td id=\"T_db687_row3_col0\" class=\"data row3 col0\" >Iris-virginica < Median:</td>\n",
              "      <td id=\"T_db687_row3_col1\" class=\"data row3 col1\" >5.000000</td>\n",
              "      <td id=\"T_db687_row3_col2\" class=\"data row3 col2\" >16.000000</td>\n",
              "      <td id=\"T_db687_row3_col3\" class=\"data row3 col3\" >0.000000</td>\n",
              "      <td id=\"T_db687_row3_col4\" class=\"data row3 col4\" >0.000000</td>\n",
              "    </tr>\n",
              "    <tr>\n",
              "      <td id=\"T_db687_row4_col0\" class=\"data row4 col0\" >Iris-virginica</td>\n",
              "      <td id=\"T_db687_row4_col1\" class=\"data row4 col1\" >0.102041</td>\n",
              "      <td id=\"T_db687_row4_col2\" class=\"data row4 col2\" >0.421053</td>\n",
              "      <td id=\"T_db687_row4_col3\" class=\"data row4 col3\" >0.000000</td>\n",
              "      <td id=\"T_db687_row4_col4\" class=\"data row4 col4\" >0.000000</td>\n",
              "    </tr>\n",
              "    <tr>\n",
              "      <td id=\"T_db687_row5_col0\" class=\"data row5 col0\" >Other than Iris-virginica</td>\n",
              "      <td id=\"T_db687_row5_col1\" class=\"data row5 col1\" >0.897959</td>\n",
              "      <td id=\"T_db687_row5_col2\" class=\"data row5 col2\" >0.578947</td>\n",
              "      <td id=\"T_db687_row5_col3\" class=\"data row5 col3\" >1.000000</td>\n",
              "      <td id=\"T_db687_row5_col4\" class=\"data row5 col4\" >1.000000</td>\n",
              "    </tr>\n",
              "  </tbody>\n",
              "</table>\n"
            ]
          },
          "metadata": {}
        },
        {
          "output_type": "display_data",
          "data": {
            "text/plain": [
              "[{1: [{'petal-length': 0.7358490566037735,\n",
              "    'petal-width': 0.7358490566037735,\n",
              "    'sepal-length': 0.6666666666666666,\n",
              "    'sepal-width': 0.3709677419354839,\n",
              "    'species': 'Iris-virginica'},\n",
              "   {'petal-length': 0.26415094339622647,\n",
              "    'petal-width': 0.26415094339622647,\n",
              "    'sepal-length': 0.33333333333333337,\n",
              "    'sepal-width': 0.6290322580645161,\n",
              "    'species': 'Other than Iris-virginica'}]},\n",
              " {0: [{'petal-length': 0.0,\n",
              "    'petal-width': 0.0,\n",
              "    'sepal-length': 0.10204081632653061,\n",
              "    'sepal-width': 0.42105263157894735,\n",
              "    'species': 'Iris-virginica'},\n",
              "   {'petal-length': 1.0,\n",
              "    'petal-width': 1.0,\n",
              "    'sepal-length': 0.8979591836734694,\n",
              "    'sepal-width': 0.5789473684210527,\n",
              "    'species': 'Other than Iris-virginica'}]}]"
            ]
          },
          "metadata": {}
        }
      ]
    },
    {
      "cell_type": "markdown",
      "metadata": {
        "id": "09zWalzsOZrt"
      },
      "source": [
        "### Calculate for the other two Iris species\n",
        "---\n",
        "\n",
        "Since I have coded the instructions in the functional form, I can now simply call the functions and do the same calculations all over again for the Iris-versicolor species, then for the Iris-setosa species by using them as parameter variable.\n",
        "\n",
        "\n",
        "\n",
        "\n"
      ]
    },
    {
      "cell_type": "markdown",
      "source": [
        "###Iris-versicolor:"
      ],
      "metadata": {
        "id": "KHBh4d94giJI"
      }
    },
    {
      "cell_type": "code",
      "source": [
        "# calculate the proportion of results where the value is on or above mean that are\n",
        "# of the species Iris-versicolor\n",
        "iris_versic_gt_eq_dict, iris_versic_gt_eq_df = get_proportion(train, dimension_columns, 'Iris-versicolor', selected_indicator, 'eq_gt')\n",
        "display(iris_versic_gt_eq_df.style.hide_index())"
      ],
      "metadata": {
        "id": "rZVpUR26dMoe",
        "colab": {
          "base_uri": "https://localhost:8080/",
          "height": 143
        },
        "outputId": "842344d6-804f-41e4-f819-15e8fedb50f6"
      },
      "execution_count": 25,
      "outputs": [
        {
          "output_type": "display_data",
          "data": {
            "text/plain": [
              "<pandas.io.formats.style.Styler at 0x7f312fb6a110>"
            ],
            "text/html": [
              "<style type=\"text/css\">\n",
              "</style>\n",
              "<table id=\"T_2885e_\" class=\"dataframe\">\n",
              "  <thead>\n",
              "    <tr>\n",
              "      <th class=\"col_heading level0 col0\" >species</th>\n",
              "      <th class=\"col_heading level0 col1\" >sepal-length</th>\n",
              "      <th class=\"col_heading level0 col2\" >sepal-width</th>\n",
              "      <th class=\"col_heading level0 col3\" >petal-length</th>\n",
              "      <th class=\"col_heading level0 col4\" >petal-width</th>\n",
              "    </tr>\n",
              "  </thead>\n",
              "  <tbody>\n",
              "    <tr>\n",
              "      <td id=\"T_2885e_row0_col0\" class=\"data row0 col0\" >Iris-versicolor >= Median:</td>\n",
              "      <td id=\"T_2885e_row0_col1\" class=\"data row0 col1\" >17.000000</td>\n",
              "      <td id=\"T_2885e_row0_col2\" class=\"data row0 col2\" >11.000000</td>\n",
              "      <td id=\"T_2885e_row0_col3\" class=\"data row0 col3\" >14.000000</td>\n",
              "      <td id=\"T_2885e_row0_col4\" class=\"data row0 col4\" >14.000000</td>\n",
              "    </tr>\n",
              "    <tr>\n",
              "      <td id=\"T_2885e_row1_col0\" class=\"data row1 col0\" >Iris-versicolor</td>\n",
              "      <td id=\"T_2885e_row1_col1\" class=\"data row1 col1\" >0.333333</td>\n",
              "      <td id=\"T_2885e_row1_col2\" class=\"data row1 col2\" >0.177419</td>\n",
              "      <td id=\"T_2885e_row1_col3\" class=\"data row1 col3\" >0.264151</td>\n",
              "      <td id=\"T_2885e_row1_col4\" class=\"data row1 col4\" >0.264151</td>\n",
              "    </tr>\n",
              "    <tr>\n",
              "      <td id=\"T_2885e_row2_col0\" class=\"data row2 col0\" >Other than Iris-versicolor</td>\n",
              "      <td id=\"T_2885e_row2_col1\" class=\"data row2 col1\" >0.666667</td>\n",
              "      <td id=\"T_2885e_row2_col2\" class=\"data row2 col2\" >0.822581</td>\n",
              "      <td id=\"T_2885e_row2_col3\" class=\"data row2 col3\" >0.735849</td>\n",
              "      <td id=\"T_2885e_row2_col4\" class=\"data row2 col4\" >0.735849</td>\n",
              "    </tr>\n",
              "  </tbody>\n",
              "</table>\n"
            ]
          },
          "metadata": {}
        }
      ]
    },
    {
      "cell_type": "code",
      "source": [
        "# calculate the proportion of results where the value is below mean that are \n",
        "# of the species Iris-versicolor\n",
        "iris_versic_but_lt_dict, iris_versic_lt_df = get_proportion(train, dimension_columns, 'Iris-versicolor', selected_indicator, 'lt')\n",
        "display(iris_versic_lt_df.style.hide_index())"
      ],
      "metadata": {
        "id": "r9km4zTWdWdD",
        "colab": {
          "base_uri": "https://localhost:8080/",
          "height": 143
        },
        "outputId": "de1b90ab-cd40-4153-de1f-f0fdff7d4cb8"
      },
      "execution_count": 26,
      "outputs": [
        {
          "output_type": "display_data",
          "data": {
            "text/plain": [
              "<pandas.io.formats.style.Styler at 0x7f312fb67b50>"
            ],
            "text/html": [
              "<style type=\"text/css\">\n",
              "</style>\n",
              "<table id=\"T_00812_\" class=\"dataframe\">\n",
              "  <thead>\n",
              "    <tr>\n",
              "      <th class=\"col_heading level0 col0\" >species</th>\n",
              "      <th class=\"col_heading level0 col1\" >sepal-length</th>\n",
              "      <th class=\"col_heading level0 col2\" >sepal-width</th>\n",
              "      <th class=\"col_heading level0 col3\" >petal-length</th>\n",
              "      <th class=\"col_heading level0 col4\" >petal-width</th>\n",
              "    </tr>\n",
              "  </thead>\n",
              "  <tbody>\n",
              "    <tr>\n",
              "      <td id=\"T_00812_row0_col0\" class=\"data row0 col0\" >Iris-versicolor < Median:</td>\n",
              "      <td id=\"T_00812_row0_col1\" class=\"data row0 col1\" >16.000000</td>\n",
              "      <td id=\"T_00812_row0_col2\" class=\"data row0 col2\" >22.000000</td>\n",
              "      <td id=\"T_00812_row0_col3\" class=\"data row0 col3\" >19.000000</td>\n",
              "      <td id=\"T_00812_row0_col4\" class=\"data row0 col4\" >19.000000</td>\n",
              "    </tr>\n",
              "    <tr>\n",
              "      <td id=\"T_00812_row1_col0\" class=\"data row1 col0\" >Iris-versicolor</td>\n",
              "      <td id=\"T_00812_row1_col1\" class=\"data row1 col1\" >0.326531</td>\n",
              "      <td id=\"T_00812_row1_col2\" class=\"data row1 col2\" >0.578947</td>\n",
              "      <td id=\"T_00812_row1_col3\" class=\"data row1 col3\" >0.404255</td>\n",
              "      <td id=\"T_00812_row1_col4\" class=\"data row1 col4\" >0.404255</td>\n",
              "    </tr>\n",
              "    <tr>\n",
              "      <td id=\"T_00812_row2_col0\" class=\"data row2 col0\" >Other than Iris-versicolor</td>\n",
              "      <td id=\"T_00812_row2_col1\" class=\"data row2 col1\" >0.673469</td>\n",
              "      <td id=\"T_00812_row2_col2\" class=\"data row2 col2\" >0.421053</td>\n",
              "      <td id=\"T_00812_row2_col3\" class=\"data row2 col3\" >0.595745</td>\n",
              "      <td id=\"T_00812_row2_col4\" class=\"data row2 col4\" >0.595745</td>\n",
              "    </tr>\n",
              "  </tbody>\n",
              "</table>\n"
            ]
          },
          "metadata": {}
        }
      ]
    },
    {
      "cell_type": "code",
      "source": [
        "# Summary of proportions - Dashboard\n",
        "iris_versic_prop_list_of_dict, iris_versic_prop_df = get_proportion(train, dimension_columns, 'Iris-versicolor', selected_indicator)\n",
        "display(iris_versic_prop_df.style.hide_index())"
      ],
      "metadata": {
        "colab": {
          "base_uri": "https://localhost:8080/",
          "height": 237
        },
        "id": "jzeSiud7jRDD",
        "outputId": "4efd1519-c19c-4ac8-a20f-0de5134064ff"
      },
      "execution_count": 27,
      "outputs": [
        {
          "output_type": "display_data",
          "data": {
            "text/plain": [
              "<pandas.io.formats.style.Styler at 0x7f312fb67dd0>"
            ],
            "text/html": [
              "<style type=\"text/css\">\n",
              "</style>\n",
              "<table id=\"T_57689_\" class=\"dataframe\">\n",
              "  <thead>\n",
              "    <tr>\n",
              "      <th class=\"col_heading level0 col0\" >species</th>\n",
              "      <th class=\"col_heading level0 col1\" >sepal-length</th>\n",
              "      <th class=\"col_heading level0 col2\" >sepal-width</th>\n",
              "      <th class=\"col_heading level0 col3\" >petal-length</th>\n",
              "      <th class=\"col_heading level0 col4\" >petal-width</th>\n",
              "    </tr>\n",
              "  </thead>\n",
              "  <tbody>\n",
              "    <tr>\n",
              "      <td id=\"T_57689_row0_col0\" class=\"data row0 col0\" >Iris-versicolor >= Median:</td>\n",
              "      <td id=\"T_57689_row0_col1\" class=\"data row0 col1\" >17.000000</td>\n",
              "      <td id=\"T_57689_row0_col2\" class=\"data row0 col2\" >11.000000</td>\n",
              "      <td id=\"T_57689_row0_col3\" class=\"data row0 col3\" >14.000000</td>\n",
              "      <td id=\"T_57689_row0_col4\" class=\"data row0 col4\" >14.000000</td>\n",
              "    </tr>\n",
              "    <tr>\n",
              "      <td id=\"T_57689_row1_col0\" class=\"data row1 col0\" >Iris-versicolor</td>\n",
              "      <td id=\"T_57689_row1_col1\" class=\"data row1 col1\" >0.333333</td>\n",
              "      <td id=\"T_57689_row1_col2\" class=\"data row1 col2\" >0.177419</td>\n",
              "      <td id=\"T_57689_row1_col3\" class=\"data row1 col3\" >0.264151</td>\n",
              "      <td id=\"T_57689_row1_col4\" class=\"data row1 col4\" >0.264151</td>\n",
              "    </tr>\n",
              "    <tr>\n",
              "      <td id=\"T_57689_row2_col0\" class=\"data row2 col0\" >Other than Iris-versicolor</td>\n",
              "      <td id=\"T_57689_row2_col1\" class=\"data row2 col1\" >0.666667</td>\n",
              "      <td id=\"T_57689_row2_col2\" class=\"data row2 col2\" >0.822581</td>\n",
              "      <td id=\"T_57689_row2_col3\" class=\"data row2 col3\" >0.735849</td>\n",
              "      <td id=\"T_57689_row2_col4\" class=\"data row2 col4\" >0.735849</td>\n",
              "    </tr>\n",
              "    <tr>\n",
              "      <td id=\"T_57689_row3_col0\" class=\"data row3 col0\" >Iris-versicolor < Median:</td>\n",
              "      <td id=\"T_57689_row3_col1\" class=\"data row3 col1\" >16.000000</td>\n",
              "      <td id=\"T_57689_row3_col2\" class=\"data row3 col2\" >22.000000</td>\n",
              "      <td id=\"T_57689_row3_col3\" class=\"data row3 col3\" >19.000000</td>\n",
              "      <td id=\"T_57689_row3_col4\" class=\"data row3 col4\" >19.000000</td>\n",
              "    </tr>\n",
              "    <tr>\n",
              "      <td id=\"T_57689_row4_col0\" class=\"data row4 col0\" >Iris-versicolor</td>\n",
              "      <td id=\"T_57689_row4_col1\" class=\"data row4 col1\" >0.326531</td>\n",
              "      <td id=\"T_57689_row4_col2\" class=\"data row4 col2\" >0.578947</td>\n",
              "      <td id=\"T_57689_row4_col3\" class=\"data row4 col3\" >0.404255</td>\n",
              "      <td id=\"T_57689_row4_col4\" class=\"data row4 col4\" >0.404255</td>\n",
              "    </tr>\n",
              "    <tr>\n",
              "      <td id=\"T_57689_row5_col0\" class=\"data row5 col0\" >Other than Iris-versicolor</td>\n",
              "      <td id=\"T_57689_row5_col1\" class=\"data row5 col1\" >0.673469</td>\n",
              "      <td id=\"T_57689_row5_col2\" class=\"data row5 col2\" >0.421053</td>\n",
              "      <td id=\"T_57689_row5_col3\" class=\"data row5 col3\" >0.595745</td>\n",
              "      <td id=\"T_57689_row5_col4\" class=\"data row5 col4\" >0.595745</td>\n",
              "    </tr>\n",
              "  </tbody>\n",
              "</table>\n"
            ]
          },
          "metadata": {}
        }
      ]
    },
    {
      "cell_type": "markdown",
      "source": [
        "###Iris-setosa:"
      ],
      "metadata": {
        "id": "7-pbQDWTgViM"
      }
    },
    {
      "cell_type": "code",
      "source": [
        "# calculate the proportion of results where the value is on or above mean that are\n",
        "# of the species Iris-setosa\n",
        "iris_setosa_list_gt_eq_dict, iris_setosa_gt_eq_df = get_proportion(train, dimension_columns, 'Iris-setosa', selected_indicator, 'eq-gt')\n",
        "display(iris_setosa_gt_eq_df.style.hide_index())"
      ],
      "metadata": {
        "id": "XXeLpW5ijo82",
        "colab": {
          "base_uri": "https://localhost:8080/",
          "height": 143
        },
        "outputId": "c8128605-f9eb-4ddd-9ca7-f5107e1b82ac"
      },
      "execution_count": 28,
      "outputs": [
        {
          "output_type": "display_data",
          "data": {
            "text/plain": [
              "<pandas.io.formats.style.Styler at 0x7f312fbb1a90>"
            ],
            "text/html": [
              "<style type=\"text/css\">\n",
              "</style>\n",
              "<table id=\"T_01f1c_\" class=\"dataframe\">\n",
              "  <thead>\n",
              "    <tr>\n",
              "      <th class=\"col_heading level0 col0\" >species</th>\n",
              "      <th class=\"col_heading level0 col1\" >sepal-length</th>\n",
              "      <th class=\"col_heading level0 col2\" >sepal-width</th>\n",
              "      <th class=\"col_heading level0 col3\" >petal-length</th>\n",
              "      <th class=\"col_heading level0 col4\" >petal-width</th>\n",
              "    </tr>\n",
              "  </thead>\n",
              "  <tbody>\n",
              "    <tr>\n",
              "      <td id=\"T_01f1c_row0_col0\" class=\"data row0 col0\" >Iris-setosa < Median:</td>\n",
              "      <td id=\"T_01f1c_row0_col1\" class=\"data row0 col1\" >28.000000</td>\n",
              "      <td id=\"T_01f1c_row0_col2\" class=\"data row0 col2\" >0.000000</td>\n",
              "      <td id=\"T_01f1c_row0_col3\" class=\"data row0 col3\" >28.000000</td>\n",
              "      <td id=\"T_01f1c_row0_col4\" class=\"data row0 col4\" >28.000000</td>\n",
              "    </tr>\n",
              "    <tr>\n",
              "      <td id=\"T_01f1c_row1_col0\" class=\"data row1 col0\" >Iris-setosa</td>\n",
              "      <td id=\"T_01f1c_row1_col1\" class=\"data row1 col1\" >0.571429</td>\n",
              "      <td id=\"T_01f1c_row1_col2\" class=\"data row1 col2\" >0.000000</td>\n",
              "      <td id=\"T_01f1c_row1_col3\" class=\"data row1 col3\" >0.595745</td>\n",
              "      <td id=\"T_01f1c_row1_col4\" class=\"data row1 col4\" >0.595745</td>\n",
              "    </tr>\n",
              "    <tr>\n",
              "      <td id=\"T_01f1c_row2_col0\" class=\"data row2 col0\" >Other than Iris-setosa</td>\n",
              "      <td id=\"T_01f1c_row2_col1\" class=\"data row2 col1\" >0.428571</td>\n",
              "      <td id=\"T_01f1c_row2_col2\" class=\"data row2 col2\" >1.000000</td>\n",
              "      <td id=\"T_01f1c_row2_col3\" class=\"data row2 col3\" >0.404255</td>\n",
              "      <td id=\"T_01f1c_row2_col4\" class=\"data row2 col4\" >0.404255</td>\n",
              "    </tr>\n",
              "  </tbody>\n",
              "</table>\n"
            ]
          },
          "metadata": {}
        }
      ]
    },
    {
      "cell_type": "code",
      "source": [
        "# calculate the proportion of results where the value is below mean that are \n",
        "# of the species Iris-setosa\n",
        "iris_setosa_but_lt_dict, iris_setosa_lt_df = get_proportion(train, dimension_columns, 'Iris-setosa', selected_indicator, 'lt')\n",
        "display(iris_setosa_lt_df.style.hide_index())"
      ],
      "metadata": {
        "id": "KyIwECCWjsIJ",
        "colab": {
          "base_uri": "https://localhost:8080/",
          "height": 143
        },
        "outputId": "2c5397b3-83c7-414a-c223-8da8b409ac62"
      },
      "execution_count": 29,
      "outputs": [
        {
          "output_type": "display_data",
          "data": {
            "text/plain": [
              "<pandas.io.formats.style.Styler at 0x7f312fbb1e90>"
            ],
            "text/html": [
              "<style type=\"text/css\">\n",
              "</style>\n",
              "<table id=\"T_ebdb3_\" class=\"dataframe\">\n",
              "  <thead>\n",
              "    <tr>\n",
              "      <th class=\"col_heading level0 col0\" >species</th>\n",
              "      <th class=\"col_heading level0 col1\" >sepal-length</th>\n",
              "      <th class=\"col_heading level0 col2\" >sepal-width</th>\n",
              "      <th class=\"col_heading level0 col3\" >petal-length</th>\n",
              "      <th class=\"col_heading level0 col4\" >petal-width</th>\n",
              "    </tr>\n",
              "  </thead>\n",
              "  <tbody>\n",
              "    <tr>\n",
              "      <td id=\"T_ebdb3_row0_col0\" class=\"data row0 col0\" >Iris-setosa < Median:</td>\n",
              "      <td id=\"T_ebdb3_row0_col1\" class=\"data row0 col1\" >28.000000</td>\n",
              "      <td id=\"T_ebdb3_row0_col2\" class=\"data row0 col2\" >0.000000</td>\n",
              "      <td id=\"T_ebdb3_row0_col3\" class=\"data row0 col3\" >28.000000</td>\n",
              "      <td id=\"T_ebdb3_row0_col4\" class=\"data row0 col4\" >28.000000</td>\n",
              "    </tr>\n",
              "    <tr>\n",
              "      <td id=\"T_ebdb3_row1_col0\" class=\"data row1 col0\" >Iris-setosa</td>\n",
              "      <td id=\"T_ebdb3_row1_col1\" class=\"data row1 col1\" >0.571429</td>\n",
              "      <td id=\"T_ebdb3_row1_col2\" class=\"data row1 col2\" >0.000000</td>\n",
              "      <td id=\"T_ebdb3_row1_col3\" class=\"data row1 col3\" >0.595745</td>\n",
              "      <td id=\"T_ebdb3_row1_col4\" class=\"data row1 col4\" >0.595745</td>\n",
              "    </tr>\n",
              "    <tr>\n",
              "      <td id=\"T_ebdb3_row2_col0\" class=\"data row2 col0\" >Other than Iris-setosa</td>\n",
              "      <td id=\"T_ebdb3_row2_col1\" class=\"data row2 col1\" >0.428571</td>\n",
              "      <td id=\"T_ebdb3_row2_col2\" class=\"data row2 col2\" >1.000000</td>\n",
              "      <td id=\"T_ebdb3_row2_col3\" class=\"data row2 col3\" >0.404255</td>\n",
              "      <td id=\"T_ebdb3_row2_col4\" class=\"data row2 col4\" >0.404255</td>\n",
              "    </tr>\n",
              "  </tbody>\n",
              "</table>\n"
            ]
          },
          "metadata": {}
        }
      ]
    },
    {
      "cell_type": "code",
      "source": [
        "# Summary of proportions - Dashboard\n",
        "iris_setosa_prop_list_of_dict, iris_setosa_prop_df = get_proportion(train, dimension_columns, 'Iris-setosa', selected_indicator)\n",
        "display(iris_setosa_prop_df.style.hide_index())"
      ],
      "metadata": {
        "colab": {
          "base_uri": "https://localhost:8080/",
          "height": 237
        },
        "id": "eYyufo7Wd491",
        "outputId": "f4cfeeca-5e30-48e2-a7e5-f16b84bf78ce"
      },
      "execution_count": 30,
      "outputs": [
        {
          "output_type": "display_data",
          "data": {
            "text/plain": [
              "<pandas.io.formats.style.Styler at 0x7f312fb63d90>"
            ],
            "text/html": [
              "<style type=\"text/css\">\n",
              "</style>\n",
              "<table id=\"T_704c3_\" class=\"dataframe\">\n",
              "  <thead>\n",
              "    <tr>\n",
              "      <th class=\"col_heading level0 col0\" >species</th>\n",
              "      <th class=\"col_heading level0 col1\" >sepal-length</th>\n",
              "      <th class=\"col_heading level0 col2\" >sepal-width</th>\n",
              "      <th class=\"col_heading level0 col3\" >petal-length</th>\n",
              "      <th class=\"col_heading level0 col4\" >petal-width</th>\n",
              "    </tr>\n",
              "  </thead>\n",
              "  <tbody>\n",
              "    <tr>\n",
              "      <td id=\"T_704c3_row0_col0\" class=\"data row0 col0\" >Iris-setosa >= Median:</td>\n",
              "      <td id=\"T_704c3_row0_col1\" class=\"data row0 col1\" >0.000000</td>\n",
              "      <td id=\"T_704c3_row0_col2\" class=\"data row0 col2\" >28.000000</td>\n",
              "      <td id=\"T_704c3_row0_col3\" class=\"data row0 col3\" >0.000000</td>\n",
              "      <td id=\"T_704c3_row0_col4\" class=\"data row0 col4\" >0.000000</td>\n",
              "    </tr>\n",
              "    <tr>\n",
              "      <td id=\"T_704c3_row1_col0\" class=\"data row1 col0\" >Iris-setosa</td>\n",
              "      <td id=\"T_704c3_row1_col1\" class=\"data row1 col1\" >0.000000</td>\n",
              "      <td id=\"T_704c3_row1_col2\" class=\"data row1 col2\" >0.451613</td>\n",
              "      <td id=\"T_704c3_row1_col3\" class=\"data row1 col3\" >0.000000</td>\n",
              "      <td id=\"T_704c3_row1_col4\" class=\"data row1 col4\" >0.000000</td>\n",
              "    </tr>\n",
              "    <tr>\n",
              "      <td id=\"T_704c3_row2_col0\" class=\"data row2 col0\" >Other than Iris-setosa</td>\n",
              "      <td id=\"T_704c3_row2_col1\" class=\"data row2 col1\" >1.000000</td>\n",
              "      <td id=\"T_704c3_row2_col2\" class=\"data row2 col2\" >0.548387</td>\n",
              "      <td id=\"T_704c3_row2_col3\" class=\"data row2 col3\" >1.000000</td>\n",
              "      <td id=\"T_704c3_row2_col4\" class=\"data row2 col4\" >1.000000</td>\n",
              "    </tr>\n",
              "    <tr>\n",
              "      <td id=\"T_704c3_row3_col0\" class=\"data row3 col0\" >Iris-setosa < Median:</td>\n",
              "      <td id=\"T_704c3_row3_col1\" class=\"data row3 col1\" >28.000000</td>\n",
              "      <td id=\"T_704c3_row3_col2\" class=\"data row3 col2\" >0.000000</td>\n",
              "      <td id=\"T_704c3_row3_col3\" class=\"data row3 col3\" >28.000000</td>\n",
              "      <td id=\"T_704c3_row3_col4\" class=\"data row3 col4\" >28.000000</td>\n",
              "    </tr>\n",
              "    <tr>\n",
              "      <td id=\"T_704c3_row4_col0\" class=\"data row4 col0\" >Iris-setosa</td>\n",
              "      <td id=\"T_704c3_row4_col1\" class=\"data row4 col1\" >0.571429</td>\n",
              "      <td id=\"T_704c3_row4_col2\" class=\"data row4 col2\" >0.000000</td>\n",
              "      <td id=\"T_704c3_row4_col3\" class=\"data row4 col3\" >0.595745</td>\n",
              "      <td id=\"T_704c3_row4_col4\" class=\"data row4 col4\" >0.595745</td>\n",
              "    </tr>\n",
              "    <tr>\n",
              "      <td id=\"T_704c3_row5_col0\" class=\"data row5 col0\" >Other than Iris-setosa</td>\n",
              "      <td id=\"T_704c3_row5_col1\" class=\"data row5 col1\" >0.428571</td>\n",
              "      <td id=\"T_704c3_row5_col2\" class=\"data row5 col2\" >1.000000</td>\n",
              "      <td id=\"T_704c3_row5_col3\" class=\"data row5 col3\" >0.404255</td>\n",
              "      <td id=\"T_704c3_row5_col4\" class=\"data row5 col4\" >0.404255</td>\n",
              "    </tr>\n",
              "  </tbody>\n",
              "</table>\n"
            ]
          },
          "metadata": {}
        }
      ]
    },
    {
      "cell_type": "markdown",
      "metadata": {
        "id": "5Ix6Hh0Uy9MS"
      },
      "source": [
        "## Make Estimated Predictions From The Results\n",
        "---\n",
        "\n",
        "I shall create a list of dictionaries from the above results (e.g. {'species':..., 'above_mean': 0.xx, 'below_mean': 0.xx}  \n",
        "\n",
        "Then use a loop to go through the list and print:  \n",
        "*  any species and indicator (above or below mean) that can reliably be predicted.  \n",
        "* A reliable prediction may be a data point over 0.5"
      ]
    },
    {
      "cell_type": "code",
      "metadata": {
        "id": "FPvXa8x81re7",
        "colab": {
          "base_uri": "https://localhost:8080/",
          "height": 648
        },
        "outputId": "3286e229-4fc6-4188-c2a6-7f846fb98edf"
      },
      "source": [
        "# Show Species Full Dashboard\n",
        "dashboard_df = get_species_dashboard(dfs=[iris_virginica_prop_df, iris_versic_prop_df, iris_setosa_prop_df])\n",
        "dashboard_style_df = dashboard_df.style.hide_index()\n",
        "print(25*'-' + ' Species Full Dashboard ' + '-'*25)\n",
        "print('')\n",
        "display(dashboard_style_df)"
      ],
      "execution_count": 31,
      "outputs": [
        {
          "output_type": "stream",
          "name": "stdout",
          "text": [
            "------------------------- Species Full Dashboard -------------------------\n",
            "\n"
          ]
        },
        {
          "output_type": "display_data",
          "data": {
            "text/plain": [
              "<pandas.io.formats.style.Styler at 0x7f312fe83490>"
            ],
            "text/html": [
              "<style type=\"text/css\">\n",
              "</style>\n",
              "<table id=\"T_8ba10_\" class=\"dataframe\">\n",
              "  <thead>\n",
              "    <tr>\n",
              "      <th class=\"col_heading level0 col0\" >species</th>\n",
              "      <th class=\"col_heading level0 col1\" >sepal-length</th>\n",
              "      <th class=\"col_heading level0 col2\" >sepal-width</th>\n",
              "      <th class=\"col_heading level0 col3\" >petal-length</th>\n",
              "      <th class=\"col_heading level0 col4\" >petal-width</th>\n",
              "    </tr>\n",
              "  </thead>\n",
              "  <tbody>\n",
              "    <tr>\n",
              "      <td id=\"T_8ba10_row0_col0\" class=\"data row0 col0\" >Iris-virginica >= Median:</td>\n",
              "      <td id=\"T_8ba10_row0_col1\" class=\"data row0 col1\" >34.000000</td>\n",
              "      <td id=\"T_8ba10_row0_col2\" class=\"data row0 col2\" >23.000000</td>\n",
              "      <td id=\"T_8ba10_row0_col3\" class=\"data row0 col3\" >39.000000</td>\n",
              "      <td id=\"T_8ba10_row0_col4\" class=\"data row0 col4\" >39.000000</td>\n",
              "    </tr>\n",
              "    <tr>\n",
              "      <td id=\"T_8ba10_row1_col0\" class=\"data row1 col0\" >Iris-virginica</td>\n",
              "      <td id=\"T_8ba10_row1_col1\" class=\"data row1 col1\" >0.666667</td>\n",
              "      <td id=\"T_8ba10_row1_col2\" class=\"data row1 col2\" >0.370968</td>\n",
              "      <td id=\"T_8ba10_row1_col3\" class=\"data row1 col3\" >0.735849</td>\n",
              "      <td id=\"T_8ba10_row1_col4\" class=\"data row1 col4\" >0.735849</td>\n",
              "    </tr>\n",
              "    <tr>\n",
              "      <td id=\"T_8ba10_row2_col0\" class=\"data row2 col0\" >Other than Iris-virginica</td>\n",
              "      <td id=\"T_8ba10_row2_col1\" class=\"data row2 col1\" >0.333333</td>\n",
              "      <td id=\"T_8ba10_row2_col2\" class=\"data row2 col2\" >0.629032</td>\n",
              "      <td id=\"T_8ba10_row2_col3\" class=\"data row2 col3\" >0.264151</td>\n",
              "      <td id=\"T_8ba10_row2_col4\" class=\"data row2 col4\" >0.264151</td>\n",
              "    </tr>\n",
              "    <tr>\n",
              "      <td id=\"T_8ba10_row3_col0\" class=\"data row3 col0\" >Iris-virginica < Median:</td>\n",
              "      <td id=\"T_8ba10_row3_col1\" class=\"data row3 col1\" >5.000000</td>\n",
              "      <td id=\"T_8ba10_row3_col2\" class=\"data row3 col2\" >16.000000</td>\n",
              "      <td id=\"T_8ba10_row3_col3\" class=\"data row3 col3\" >0.000000</td>\n",
              "      <td id=\"T_8ba10_row3_col4\" class=\"data row3 col4\" >0.000000</td>\n",
              "    </tr>\n",
              "    <tr>\n",
              "      <td id=\"T_8ba10_row4_col0\" class=\"data row4 col0\" >Iris-virginica</td>\n",
              "      <td id=\"T_8ba10_row4_col1\" class=\"data row4 col1\" >0.102041</td>\n",
              "      <td id=\"T_8ba10_row4_col2\" class=\"data row4 col2\" >0.421053</td>\n",
              "      <td id=\"T_8ba10_row4_col3\" class=\"data row4 col3\" >0.000000</td>\n",
              "      <td id=\"T_8ba10_row4_col4\" class=\"data row4 col4\" >0.000000</td>\n",
              "    </tr>\n",
              "    <tr>\n",
              "      <td id=\"T_8ba10_row5_col0\" class=\"data row5 col0\" >Other than Iris-virginica</td>\n",
              "      <td id=\"T_8ba10_row5_col1\" class=\"data row5 col1\" >0.897959</td>\n",
              "      <td id=\"T_8ba10_row5_col2\" class=\"data row5 col2\" >0.578947</td>\n",
              "      <td id=\"T_8ba10_row5_col3\" class=\"data row5 col3\" >1.000000</td>\n",
              "      <td id=\"T_8ba10_row5_col4\" class=\"data row5 col4\" >1.000000</td>\n",
              "    </tr>\n",
              "    <tr>\n",
              "      <td id=\"T_8ba10_row6_col0\" class=\"data row6 col0\" >Iris-versicolor >= Median:</td>\n",
              "      <td id=\"T_8ba10_row6_col1\" class=\"data row6 col1\" >17.000000</td>\n",
              "      <td id=\"T_8ba10_row6_col2\" class=\"data row6 col2\" >11.000000</td>\n",
              "      <td id=\"T_8ba10_row6_col3\" class=\"data row6 col3\" >14.000000</td>\n",
              "      <td id=\"T_8ba10_row6_col4\" class=\"data row6 col4\" >14.000000</td>\n",
              "    </tr>\n",
              "    <tr>\n",
              "      <td id=\"T_8ba10_row7_col0\" class=\"data row7 col0\" >Iris-versicolor</td>\n",
              "      <td id=\"T_8ba10_row7_col1\" class=\"data row7 col1\" >0.333333</td>\n",
              "      <td id=\"T_8ba10_row7_col2\" class=\"data row7 col2\" >0.177419</td>\n",
              "      <td id=\"T_8ba10_row7_col3\" class=\"data row7 col3\" >0.264151</td>\n",
              "      <td id=\"T_8ba10_row7_col4\" class=\"data row7 col4\" >0.264151</td>\n",
              "    </tr>\n",
              "    <tr>\n",
              "      <td id=\"T_8ba10_row8_col0\" class=\"data row8 col0\" >Other than Iris-versicolor</td>\n",
              "      <td id=\"T_8ba10_row8_col1\" class=\"data row8 col1\" >0.666667</td>\n",
              "      <td id=\"T_8ba10_row8_col2\" class=\"data row8 col2\" >0.822581</td>\n",
              "      <td id=\"T_8ba10_row8_col3\" class=\"data row8 col3\" >0.735849</td>\n",
              "      <td id=\"T_8ba10_row8_col4\" class=\"data row8 col4\" >0.735849</td>\n",
              "    </tr>\n",
              "    <tr>\n",
              "      <td id=\"T_8ba10_row9_col0\" class=\"data row9 col0\" >Iris-versicolor < Median:</td>\n",
              "      <td id=\"T_8ba10_row9_col1\" class=\"data row9 col1\" >16.000000</td>\n",
              "      <td id=\"T_8ba10_row9_col2\" class=\"data row9 col2\" >22.000000</td>\n",
              "      <td id=\"T_8ba10_row9_col3\" class=\"data row9 col3\" >19.000000</td>\n",
              "      <td id=\"T_8ba10_row9_col4\" class=\"data row9 col4\" >19.000000</td>\n",
              "    </tr>\n",
              "    <tr>\n",
              "      <td id=\"T_8ba10_row10_col0\" class=\"data row10 col0\" >Iris-versicolor</td>\n",
              "      <td id=\"T_8ba10_row10_col1\" class=\"data row10 col1\" >0.326531</td>\n",
              "      <td id=\"T_8ba10_row10_col2\" class=\"data row10 col2\" >0.578947</td>\n",
              "      <td id=\"T_8ba10_row10_col3\" class=\"data row10 col3\" >0.404255</td>\n",
              "      <td id=\"T_8ba10_row10_col4\" class=\"data row10 col4\" >0.404255</td>\n",
              "    </tr>\n",
              "    <tr>\n",
              "      <td id=\"T_8ba10_row11_col0\" class=\"data row11 col0\" >Other than Iris-versicolor</td>\n",
              "      <td id=\"T_8ba10_row11_col1\" class=\"data row11 col1\" >0.673469</td>\n",
              "      <td id=\"T_8ba10_row11_col2\" class=\"data row11 col2\" >0.421053</td>\n",
              "      <td id=\"T_8ba10_row11_col3\" class=\"data row11 col3\" >0.595745</td>\n",
              "      <td id=\"T_8ba10_row11_col4\" class=\"data row11 col4\" >0.595745</td>\n",
              "    </tr>\n",
              "    <tr>\n",
              "      <td id=\"T_8ba10_row12_col0\" class=\"data row12 col0\" >Iris-setosa >= Median:</td>\n",
              "      <td id=\"T_8ba10_row12_col1\" class=\"data row12 col1\" >0.000000</td>\n",
              "      <td id=\"T_8ba10_row12_col2\" class=\"data row12 col2\" >28.000000</td>\n",
              "      <td id=\"T_8ba10_row12_col3\" class=\"data row12 col3\" >0.000000</td>\n",
              "      <td id=\"T_8ba10_row12_col4\" class=\"data row12 col4\" >0.000000</td>\n",
              "    </tr>\n",
              "    <tr>\n",
              "      <td id=\"T_8ba10_row13_col0\" class=\"data row13 col0\" >Iris-setosa</td>\n",
              "      <td id=\"T_8ba10_row13_col1\" class=\"data row13 col1\" >0.000000</td>\n",
              "      <td id=\"T_8ba10_row13_col2\" class=\"data row13 col2\" >0.451613</td>\n",
              "      <td id=\"T_8ba10_row13_col3\" class=\"data row13 col3\" >0.000000</td>\n",
              "      <td id=\"T_8ba10_row13_col4\" class=\"data row13 col4\" >0.000000</td>\n",
              "    </tr>\n",
              "    <tr>\n",
              "      <td id=\"T_8ba10_row14_col0\" class=\"data row14 col0\" >Other than Iris-setosa</td>\n",
              "      <td id=\"T_8ba10_row14_col1\" class=\"data row14 col1\" >1.000000</td>\n",
              "      <td id=\"T_8ba10_row14_col2\" class=\"data row14 col2\" >0.548387</td>\n",
              "      <td id=\"T_8ba10_row14_col3\" class=\"data row14 col3\" >1.000000</td>\n",
              "      <td id=\"T_8ba10_row14_col4\" class=\"data row14 col4\" >1.000000</td>\n",
              "    </tr>\n",
              "    <tr>\n",
              "      <td id=\"T_8ba10_row15_col0\" class=\"data row15 col0\" >Iris-setosa < Median:</td>\n",
              "      <td id=\"T_8ba10_row15_col1\" class=\"data row15 col1\" >28.000000</td>\n",
              "      <td id=\"T_8ba10_row15_col2\" class=\"data row15 col2\" >0.000000</td>\n",
              "      <td id=\"T_8ba10_row15_col3\" class=\"data row15 col3\" >28.000000</td>\n",
              "      <td id=\"T_8ba10_row15_col4\" class=\"data row15 col4\" >28.000000</td>\n",
              "    </tr>\n",
              "    <tr>\n",
              "      <td id=\"T_8ba10_row16_col0\" class=\"data row16 col0\" >Iris-setosa</td>\n",
              "      <td id=\"T_8ba10_row16_col1\" class=\"data row16 col1\" >0.571429</td>\n",
              "      <td id=\"T_8ba10_row16_col2\" class=\"data row16 col2\" >0.000000</td>\n",
              "      <td id=\"T_8ba10_row16_col3\" class=\"data row16 col3\" >0.595745</td>\n",
              "      <td id=\"T_8ba10_row16_col4\" class=\"data row16 col4\" >0.595745</td>\n",
              "    </tr>\n",
              "    <tr>\n",
              "      <td id=\"T_8ba10_row17_col0\" class=\"data row17 col0\" >Other than Iris-setosa</td>\n",
              "      <td id=\"T_8ba10_row17_col1\" class=\"data row17 col1\" >0.428571</td>\n",
              "      <td id=\"T_8ba10_row17_col2\" class=\"data row17 col2\" >1.000000</td>\n",
              "      <td id=\"T_8ba10_row17_col3\" class=\"data row17 col3\" >0.404255</td>\n",
              "      <td id=\"T_8ba10_row17_col4\" class=\"data row17 col4\" >0.404255</td>\n",
              "    </tr>\n",
              "  </tbody>\n",
              "</table>\n"
            ]
          },
          "metadata": {}
        }
      ]
    },
    {
      "cell_type": "code",
      "source": [
        "# the function iterates over the proportions dictionary printing any significant indicator\n",
        "def iter_prop_dict(prop_dict):\n",
        "  for above_indicator in prop_dict:\n",
        "    i = 0\n",
        "    for column, value in above_indicator.items():\n",
        "      if column == 'species':\n",
        "        print(f'\\n{value}\\n')\n",
        "        print('Column:')\n",
        "      else:\n",
        "        if value >= 0.5:\n",
        "          print(f\"{column} = {round(value, 2)}, is a strong indicator.\")\n",
        "          i+=1\n",
        "    if i==0:\n",
        "      print('None\\n')\n",
        "  print('-'*70 + '\\n')\n",
        "  return\n",
        "\n",
        "# show which columns are reliable predictors\n",
        "def show_reliable_predictors(proportions_dict, indicator, calculated_on='both'):\n",
        "  indicator_txt = indicator[1]\n",
        "  if calculated_on == 'both':\n",
        "    prop_dict = proportions_dict[0][1]\n",
        "    print(f'Above or equal to: {indicator_txt}')\n",
        "    iter_prop_dict(prop_dict)\n",
        "    prop_dict = proportions_dict[1][0]\n",
        "    print(f'Below the: {indicator_txt}')\n",
        "    iter_prop_dict(prop_dict)   \n",
        "  elif calculated_on == 'eq_gt':\n",
        "    prop_dict = proportions_dict[0][1]\n",
        "    print(f'Above or equal to: {indicator_txt}')\n",
        "    iter_prop_dict(prop_dict)\n",
        "  elif calculated_on == 'lt':\n",
        "    prop_dict = proportions_dict[1][0]\n",
        "    print(f'Below the: {indicator_txt}')\n",
        "    iter_prop_dict(prop_dict)\n",
        "  return\n",
        "\n",
        "# Show the reliable predictors for the Iris-virginica against the other species.\n",
        "show_reliable_predictors(iris_virginica_prop_list_of_dict, selected_indicator)\n",
        "# Show the reliable predictors for the Iris-versicolor against the other species.\n",
        "show_reliable_predictors(iris_versic_prop_list_of_dict, selected_indicator)\n",
        "# Show the reliable predictors for the Iris-setosa against the other species.\n",
        "show_reliable_predictors(iris_setosa_prop_list_of_dict, selected_indicator)"
      ],
      "metadata": {
        "id": "pt4ypNCsV0yn",
        "colab": {
          "base_uri": "https://localhost:8080/"
        },
        "outputId": "2e75e117-5fa9-4ea5-fc5e-b5b5d8bd04c2"
      },
      "execution_count": 32,
      "outputs": [
        {
          "output_type": "stream",
          "name": "stdout",
          "text": [
            "Above or equal to: Median\n",
            "\n",
            "Iris-virginica\n",
            "\n",
            "Column:\n",
            "sepal-length = 0.67, is a strong indicator.\n",
            "petal-length = 0.74, is a strong indicator.\n",
            "petal-width = 0.74, is a strong indicator.\n",
            "\n",
            "Other than Iris-virginica\n",
            "\n",
            "Column:\n",
            "sepal-width = 0.63, is a strong indicator.\n",
            "----------------------------------------------------------------------\n",
            "\n",
            "Below the: Median\n",
            "\n",
            "Iris-virginica\n",
            "\n",
            "Column:\n",
            "None\n",
            "\n",
            "\n",
            "Other than Iris-virginica\n",
            "\n",
            "Column:\n",
            "sepal-length = 0.9, is a strong indicator.\n",
            "sepal-width = 0.58, is a strong indicator.\n",
            "petal-length = 1.0, is a strong indicator.\n",
            "petal-width = 1.0, is a strong indicator.\n",
            "----------------------------------------------------------------------\n",
            "\n",
            "Above or equal to: Median\n",
            "\n",
            "Iris-versicolor\n",
            "\n",
            "Column:\n",
            "None\n",
            "\n",
            "\n",
            "Other than Iris-versicolor\n",
            "\n",
            "Column:\n",
            "sepal-length = 0.67, is a strong indicator.\n",
            "sepal-width = 0.82, is a strong indicator.\n",
            "petal-length = 0.74, is a strong indicator.\n",
            "petal-width = 0.74, is a strong indicator.\n",
            "----------------------------------------------------------------------\n",
            "\n",
            "Below the: Median\n",
            "\n",
            "Iris-versicolor\n",
            "\n",
            "Column:\n",
            "sepal-width = 0.58, is a strong indicator.\n",
            "\n",
            "Other than Iris-versicolor\n",
            "\n",
            "Column:\n",
            "sepal-length = 0.67, is a strong indicator.\n",
            "petal-length = 0.6, is a strong indicator.\n",
            "petal-width = 0.6, is a strong indicator.\n",
            "----------------------------------------------------------------------\n",
            "\n",
            "Above or equal to: Median\n",
            "\n",
            "Iris-setosa\n",
            "\n",
            "Column:\n",
            "None\n",
            "\n",
            "\n",
            "Other than Iris-setosa\n",
            "\n",
            "Column:\n",
            "sepal-length = 1.0, is a strong indicator.\n",
            "sepal-width = 0.55, is a strong indicator.\n",
            "petal-length = 1.0, is a strong indicator.\n",
            "petal-width = 1.0, is a strong indicator.\n",
            "----------------------------------------------------------------------\n",
            "\n",
            "Below the: Median\n",
            "\n",
            "Iris-setosa\n",
            "\n",
            "Column:\n",
            "sepal-length = 0.57, is a strong indicator.\n",
            "petal-length = 0.6, is a strong indicator.\n",
            "petal-width = 0.6, is a strong indicator.\n",
            "\n",
            "Other than Iris-setosa\n",
            "\n",
            "Column:\n",
            "sepal-width = 1.0, is a strong indicator.\n",
            "----------------------------------------------------------------------\n",
            "\n"
          ]
        }
      ]
    },
    {
      "cell_type": "markdown",
      "metadata": {
        "id": "ws2TxeRrnIJ4"
      },
      "source": [
        "### Make a decision tree\n",
        "---\n",
        "\n",
        "To create a decision tree for Iris-virginica, using the following rules (I used the picture below as a guide):\n",
        "\n",
        "*  The column with the highest indicator is placed at the top\n",
        "*  Other columns are placed in order below\n",
        "*  The rest of the columns are placed in order below these\n",
        "\n",
        "Any column where one branch (on or above mean OR below mean) has an indicator of 0, could be classified as a strong indicator of Iris_virginica being the species.  Anything else, unless there is something very close to 0, could be classified as a weak indicator of Iris_virginica being the species.\n",
        "\n",
        "Let's code the decision tree using the following logic for this decision tree:\n",
        "\n",
        "![Decision tree](https://drive.google.com/uc?id=1CTo23EHwR2IPCRjcfSyCQsT_oQ5Exwso)\n",
        "\n",
        "In the decision tree above, there is no certainty below petal-length so our decision tree will only include petal-width and petal-length.\n",
        "\n",
        "\n"
      ]
    },
    {
      "cell_type": "markdown",
      "source": [
        "## Code The Decision Tree\n",
        "Having learnt about our data from the training dataset and built a decision tree model we are now in a position to have the decision tree model coded."
      ],
      "metadata": {
        "id": "LYuu_9VwZqKJ"
      }
    },
    {
      "cell_type": "code",
      "metadata": {
        "id": "tkCCL0ERDife"
      },
      "source": [
        "# use the get_species() function to predict the species\n",
        "def get_species(df, indicator_dict, selected_indicator):\n",
        "  indicator = selected_indicator[1]\n",
        "  if indicator == 'Mean':\n",
        "    # RETURN None if petal-width is below mean (encoded as 0) or \n",
        "    # if petal-length is below mean (encoded as 0), otherwise return 'Iris-virginia'\n",
        "    if (df['sepal-length'] >= indicator_dict['sepal-length']) and \\\n",
        "    (df['petal-width'] >= indicator_dict['petal-width']) and \\\n",
        "    (df['petal-length'] >= indicator_dict['petal-length']):\n",
        "      return 'Iris-virginica'\n",
        "\n",
        "    elif (df['sepal-width'] >= indicator_dict['sepal-width']) and \\\n",
        "    ((df['petal-length'] < indicator_dict['petal-length']) and \\\n",
        "     (df['petal-width'] < indicator_dict['petal-width']) and \\\n",
        "     (df['sepal-length'] < indicator_dict['sepal-length'])):\n",
        "      return 'Iris-setosa'\n",
        "\n",
        "    elif (df['petal-length'] >= indicator_dict['petal-length']) and \\\n",
        "    (df['sepal-width'] < indicator_dict['sepal-width']):\n",
        "      return 'Iris-versicolor'\n",
        "\n",
        "    else:\n",
        "      return None\n",
        "\n",
        "  elif indicator == 'Median':\n",
        "    if (df['petal-length'] >= indicator_dict['petal-length']) and \\\n",
        "    (df['sepal-length'] >= indicator_dict['sepal-length']) and \\\n",
        "    (df['petal-width'] >= indicator_dict['petal-width']):\n",
        "      return 'Iris-virginica'\n",
        "\n",
        "    elif (df['sepal-width'] >= indicator_dict['sepal-width']) and \\\n",
        "    ((df['petal-width'] < indicator_dict['petal-width']) and \\\n",
        "     (df['petal-length'] < indicator_dict['petal-length']) and \\\n",
        "     (df['sepal-length'] < indicator_dict['sepal-length'])):\n",
        "      return 'Iris-setosa'\n",
        "\n",
        "    elif (df['sepal-width'] < indicator_dict['sepal-width']):\n",
        "      return 'Iris-versicolor'\n",
        "\n",
        "    else:\n",
        "      return None\n",
        "\n",
        "  elif indicator == 'Upper-Quartile':\n",
        "    if (df['petal-width'] >= indicator_dict['petal-width']) and \\\n",
        "    (df['petal-length'] >= indicator_dict['petal-length']) and \\\n",
        "    (df['sepal-length'] >= indicator_dict['sepal-length']):\n",
        "      return 'Iris-virginica'\n",
        "\n",
        "    elif (df['sepal-width'] >= indicator_dict['sepal-width']):\n",
        "      return 'Iris-setosa'\n",
        "\n",
        "    elif (df['petal-width'] < indicator_dict['petal-width']):\n",
        "      return 'Iris-versicolor'\n",
        "\n",
        "    else:\n",
        "      return None\n",
        "  elif indicator == 'Lower-Quartile':\n",
        "    if (df['petal-length'] >= indicator_dict['petal-length']) and \\\n",
        "    (df['petal-width'] >= indicator_dict['petal-width']):\n",
        "      return 'Iris-virginica'\n",
        "\n",
        "    elif (df['petal-length'] < indicator_dict['petal-length']) and \\\n",
        "    (df['petal-width'] < indicator_dict['petal-width']) and \\\n",
        "    (df['sepal-length'] < indicator_dict['sepal-length']):\n",
        "      return 'Iris-setosa'\n",
        "\n",
        "    elif (df['sepal-width'] < indicator_dict['sepal-width']):\n",
        "      return 'Iris-versicolor'\n",
        "\n",
        "    else:\n",
        "      return None"
      ],
      "execution_count": 33,
      "outputs": []
    },
    {
      "cell_type": "markdown",
      "source": [
        "## Put the Decision Tree Model To Test\n",
        "We can now put the model through to the tests and see if it's able to predict the under test species' name correctly or perhaps geniusly."
      ],
      "metadata": {
        "id": "cZV39TEmfpEm"
      }
    },
    {
      "cell_type": "code",
      "source": [
        "# count how many are predicted correct and use this to calculate the proportion correct\n",
        "def test_decision_tree(df, indicator):\n",
        "  test_d_df = df.groupby(['species'])['petal-length'].count()\n",
        "  test_d_dict = test_d_df.to_dict()\n",
        "\n",
        "  identified_correct = {}\n",
        "  identified_correct['Iris-virginica'] = 0\n",
        "  identified_correct['Iris-versicolor'] = 0\n",
        "  identified_correct['Iris-setosa'] = 0\n",
        "\n",
        "  total_count = sum([x for (k, x) in test_d_dict.items()])\n",
        "\n",
        "  correct = 0\n",
        "  test_size = df.shape[0]\n",
        "  for i in range(0, test_size):\n",
        "    species = get_species(df.iloc[i], indicator_dict, selected_indicator)\n",
        "    if species == df.iloc[i]['species']:\n",
        "        correct += 1\n",
        "        identified_correct[species] += 1\n",
        "\n",
        "  expected_prop = 1 \n",
        "  correct_prop = round(correct / test_size, 2)\n",
        "  un_ident_prop = round(expected_prop - correct_prop, 2)\n",
        "  accuracy = round(correct / total_count * 100)\n",
        "\n",
        "  print(f'Correctly identified species count on {indicator[1]}:\\n')\n",
        "  for key, cnt in identified_correct.items():\n",
        "    print(f\"{key}:      {cnt}/{test_d_dict[key]}\")\n",
        "  print('\\nTotal species in the test-set:     ', total_count)\n",
        "  print(f\"Total correctly identified:         {correct}/{total_count}\\n\")\n",
        "  print (\"Proportion correctly identified    \", correct_prop)\n",
        "  print(\"Un-identified proportion:          \", un_ident_prop)\n",
        "  print(f'Identification accuracy:            {accuracy} %')\n",
        "  return\n",
        "\n",
        "test_decision_tree(test, selected_indicator)"
      ],
      "metadata": {
        "colab": {
          "base_uri": "https://localhost:8080/"
        },
        "id": "CyLQ0_jefnQy",
        "outputId": "6c774cd2-0bd6-4ffb-bf7f-d6ef5d053ed5"
      },
      "execution_count": 34,
      "outputs": [
        {
          "output_type": "stream",
          "name": "stdout",
          "text": [
            "Correctly identified species count on Median:\n",
            "\n",
            "Iris-virginica:      10/11\n",
            "Iris-versicolor:      9/17\n",
            "Iris-setosa:      20/22\n",
            "\n",
            "Total species in the test-set:      50\n",
            "Total correctly identified:         39/50\n",
            "\n",
            "Proportion correctly identified     0.78\n",
            "Un-identified proportion:           0.22\n",
            "Identification accuracy:            78 %\n"
          ]
        }
      ]
    },
    {
      "cell_type": "markdown",
      "metadata": {
        "id": "-2tQcT5ILtxl"
      },
      "source": [
        "### Change the measure and try different species\n",
        "\n",
        "We are currently using the mean (default) to act as the decision making line.  We can use the decision tree with a different line.\n",
        "\n",
        "Change the mean option from the menu above so that we are using the median instead for all four columns. The functions would automatically generate the result-sets for all the different species under investigation for the mearsure selected as the indicator.\n",
        "\n",
        "You may run all the code again by simply opting for a different measure of your choice and compare if the proportion of correct values better this time?   Is the decision tree still appropriate?\n"
      ]
    },
    {
      "cell_type": "markdown",
      "metadata": {
        "id": "WimD4E5zNub1"
      },
      "source": [
        "The decision tree has been coded in a function that needs only to sepecify the indicator measure that's selected from the menu at the top of the project page. It then selects the decision tree automatically that was found appropriate for the measure in the lab tests. The results were found to be different with the different selected indicator measures with varying accuracy. The maximum accuracy was obtained at 88% with the 'Median' as the indicator in a lab test. "
      ]
    },
    {
      "cell_type": "markdown",
      "metadata": {
        "id": "Co14Ws3gupwP"
      },
      "source": [
        "### Show the distribution on a chart:\n",
        "\n"
      ]
    },
    {
      "cell_type": "code",
      "source": [
        "## this type of plot will show the distribution on a chart\n",
        "from plotnine import *\n",
        "\n",
        "def show_distribution_plot(df, indicator):\n",
        "  selected_option, indicator_txt = selected_indicator\n",
        "  if selected_option == 0:\n",
        "    return ggplot(df, aes(x='petal-length', y='petal-width', color='species')) + labs(x='Petal Length', y='Petal Width', title=selected_indicator[1] + ' (Encoded)')\\\n",
        "    + geom_point() + geom_vline(df, aes(xintercept=df['petal-length'].mean(), \\\n",
        "    color='species')) + geom_hline(df, aes(yintercept=df['petal-width'].mean(),\\\n",
        "                                              color='species'))\n",
        "  elif selected_option == 1:\n",
        "    return ggplot(df, aes(x='petal-length', y='petal-width', color='species')) + labs(x='Petal Length', y='Petal Width', title=selected_indicator[1] + ' (Encoded)')\\\n",
        "    + geom_point() + geom_vline(df, aes(xintercept=df['petal-length'].median(), \\\n",
        "    color='species')) + geom_hline(df, aes(yintercept=df['petal-width'].median(),\\\n",
        "                                              color='species'))\n",
        "  elif selected_option == 2:\n",
        "    return ggplot(df, aes(x='petal-length', y='petal-width', color='species')) + labs(x='Petal Length', y='Petal Width', title=selected_indicator[1] + ' (Encoded)')\\\n",
        "    + geom_point() + geom_vline(df, aes(xintercept=df['petal-length'].quantile(0.75), \\\n",
        "    color='species')) + geom_hline(df, aes(yintercept=df['petal-width'].quantile(0.75),\\\n",
        "                                              color='species'))\n",
        "  elif selected_option == 3:\n",
        "    return ggplot(df, aes(x='petal-length', y='petal-width', color='species')) + labs(x='Petal Length', y='Petal Width', title=selected_indicator[1] + ' (Encoded)')\\\n",
        "    + geom_point() + geom_vline(df, aes(xintercept=df['petal-length'].quantile(0.25), \\\n",
        "    color='species')) + geom_hline(df, aes(yintercept=df['petal-width'].quantile(0.25),\\\n",
        "                                              color='species'))\n",
        "  else:\n",
        "    print(':-(')  \n",
        "\n",
        "show_distribution_plot(train, selected_indicator)"
      ],
      "metadata": {
        "id": "Kfy9GYt7Tq9G",
        "colab": {
          "base_uri": "https://localhost:8080/",
          "height": 490
        },
        "outputId": "75738fd0-bf05-40ed-9c34-4307d98b6c9a"
      },
      "execution_count": 35,
      "outputs": [
        {
          "output_type": "display_data",
          "data": {
            "text/plain": [
              "<Figure size 640x480 with 1 Axes>"
            ],
            "image/png": "[encoded data removed]"
          },
          "metadata": {}
        },
        {
          "output_type": "execute_result",
          "data": {
            "text/plain": [
              "<ggplot: (8740560449001)>"
            ]
          },
          "metadata": {},
          "execution_count": 35
        }
      ]
    },
    {
      "cell_type": "markdown",
      "source": [
        "##Conclusion:\n",
        "As it is now evident from the test results that there exists a very strong correlation between the 'petal-length' and 'petal-width' for Iris-virginica and that the 'Iris-setosa' species differs from rest of the two Iris flower species on 'petal-width' and 'sepal-width' in paired variable comparisons. The decision tree model with a very high accuracy (at more than 85% with the specific indicator measures) of the esitmated predictions against the test dataset was achieved due to the above extensive analysis of the training dataset and by way of following the data analysis process guidelines outlined in the introduction section.\n",
        "\n",
        "##Reflection\n",
        "The project has been a very extensive, detailed and yet complex, and one of the most exciting projects of the whole course for me. I learnt a lot while working on this project, and the likes, while on this course considering I was only just a beginner with basic knowledge of the Python language with almost no experience back in December last year when I joined this course to now when I am comfortable and becoming ever more fluent in using Python language, Pandas, Numpy, matplotlib, scipy etc libraries. I have gained valueable experience using the language, tools, libraries interfacing with the Oracle / SQL databases, the Excel spreadsheets and CSV files for the data retrieval and equiped with ever more knowledge of the Applied Statistics, I feel more and more confident to take a Data Analytical role than I was ever before the course."
      ],
      "metadata": {
        "id": "Pjeah8LgeNj6"
      }
    }
  ]
}