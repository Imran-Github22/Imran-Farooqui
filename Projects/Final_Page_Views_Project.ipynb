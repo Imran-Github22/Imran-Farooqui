{
  "nbformat": 4,
  "nbformat_minor": 0,
  "metadata": {
    "colab": {
      "name": "Final - Page Views Project.ipynb",
      "provenance": [],
      "collapsed_sections": []
    },
    "kernelspec": {
      "name": "python3",
      "display_name": "Python 3"
    },
    "language_info": {
      "name": "python"
    }
  },
  "cells": [
    {
      "cell_type": "markdown",
      "metadata": {
        "id": "PbPj7T6rpfIM"
      },
      "source": [
        "# Discovery project - page views\n",
        "\n",
        "### Adapted from freeCodeCamp [project](https://www.freecodecamp.org/learn/data-analysis-with-python/data-analysis-with-python-projects/page-view-time-series-visualizer)\n",
        "\n",
        "In this project I will visualise data that has values recorded against time.  I will use Pandas and Matplotlib to visualise the dataset which contains the number of page views each day on the freeCodeCamp.org forum between 2016-05-09 and 2019-12-03. I will create a line chart, a bar chart, and some box plots to create visualisations that will help you understand the patterns in visits to the forum and identify growth over various time ranges (yearly, monthly, etc).\n",
        "\n",
        "\n",
        "The dataset can be read from here: \"https://raw.githubusercontent.com/futureCodersSE/working-with-data/main/Data%20sets/page_views.csv\"\n",
        "\n",
        "I am going to visualise and analyse the data in the following ways:\n",
        "\n"
      ]
    },
    {
      "cell_type": "code",
      "metadata": {
        "id": "9xYOGWDZpeKg",
        "colab": {
          "base_uri": "https://localhost:8080/",
          "height": 380
        },
        "outputId": "b2835793-afef-4382-8dde-82a6b2cf8ffb"
      },
      "source": [
        "import pandas as pd\n",
        "import datetime\n",
        "url = 'https://raw.githubusercontent.com/futureCodersSE/working-with-data/main/Data%20sets/page_views.csv'\n",
        "\n",
        "# The function creates and returns a Pandas DataFrame\n",
        "def create_dataframe(url):\n",
        "  df = pd.read_csv(url)\n",
        "  return df\n",
        "\n",
        "df = create_dataframe(url)\n",
        "# Show the information\n",
        "df.dropna(inplace=True)\n",
        "display(df.info())\n",
        "display(df.head())"
      ],
      "execution_count": 1,
      "outputs": [
        {
          "output_type": "stream",
          "name": "stdout",
          "text": [
            "<class 'pandas.core.frame.DataFrame'>\n",
            "Int64Index: 1304 entries, 0 to 1303\n",
            "Data columns (total 2 columns):\n",
            " #   Column  Non-Null Count  Dtype \n",
            "---  ------  --------------  ----- \n",
            " 0   date    1304 non-null   object\n",
            " 1   value   1304 non-null   int64 \n",
            "dtypes: int64(1), object(1)\n",
            "memory usage: 30.6+ KB\n"
          ]
        },
        {
          "output_type": "display_data",
          "data": {
            "text/plain": [
              "None"
            ]
          },
          "metadata": {}
        },
        {
          "output_type": "display_data",
          "data": {
            "text/plain": [
              "         date  value\n",
              "0  2016-05-09   1201\n",
              "1  2016-05-10   2329\n",
              "2  2016-05-11   1716\n",
              "3  2016-05-12  10539\n",
              "4  2016-05-13   6933"
            ],
            "text/html": [
              "\n",
              "  <div id=\"df-e0974ff0-acf2-481f-9aaa-0fbe01f336c2\">\n",
              "    <div class=\"colab-df-container\">\n",
              "      <div>\n",
              "<style scoped>\n",
              "    .dataframe tbody tr th:only-of-type {\n",
              "        vertical-align: middle;\n",
              "    }\n",
              "\n",
              "    .dataframe tbody tr th {\n",
              "        vertical-align: top;\n",
              "    }\n",
              "\n",
              "    .dataframe thead th {\n",
              "        text-align: right;\n",
              "    }\n",
              "</style>\n",
              "<table border=\"1\" class=\"dataframe\">\n",
              "  <thead>\n",
              "    <tr style=\"text-align: right;\">\n",
              "      <th></th>\n",
              "      <th>date</th>\n",
              "      <th>value</th>\n",
              "    </tr>\n",
              "  </thead>\n",
              "  <tbody>\n",
              "    <tr>\n",
              "      <th>0</th>\n",
              "      <td>2016-05-09</td>\n",
              "      <td>1201</td>\n",
              "    </tr>\n",
              "    <tr>\n",
              "      <th>1</th>\n",
              "      <td>2016-05-10</td>\n",
              "      <td>2329</td>\n",
              "    </tr>\n",
              "    <tr>\n",
              "      <th>2</th>\n",
              "      <td>2016-05-11</td>\n",
              "      <td>1716</td>\n",
              "    </tr>\n",
              "    <tr>\n",
              "      <th>3</th>\n",
              "      <td>2016-05-12</td>\n",
              "      <td>10539</td>\n",
              "    </tr>\n",
              "    <tr>\n",
              "      <th>4</th>\n",
              "      <td>2016-05-13</td>\n",
              "      <td>6933</td>\n",
              "    </tr>\n",
              "  </tbody>\n",
              "</table>\n",
              "</div>\n",
              "      <button class=\"colab-df-convert\" onclick=\"convertToInteractive('df-e0974ff0-acf2-481f-9aaa-0fbe01f336c2')\"\n",
              "              title=\"Convert this dataframe to an interactive table.\"\n",
              "              style=\"display:none;\">\n",
              "        \n",
              "  <svg xmlns=\"http://www.w3.org/2000/svg\" height=\"24px\"viewBox=\"0 0 24 24\"\n",
              "       width=\"24px\">\n",
              "    <path d=\"M0 0h24v24H0V0z\" fill=\"none\"/>\n",
              "    <path d=\"M18.56 5.44l.94 2.06.94-2.06 2.06-.94-2.06-.94-.94-2.06-.94 2.06-2.06.94zm-11 1L8.5 8.5l.94-2.06 2.06-.94-2.06-.94L8.5 2.5l-.94 2.06-2.06.94zm10 10l.94 2.06.94-2.06 2.06-.94-2.06-.94-.94-2.06-.94 2.06-2.06.94z\"/><path d=\"M17.41 7.96l-1.37-1.37c-.4-.4-.92-.59-1.43-.59-.52 0-1.04.2-1.43.59L10.3 9.45l-7.72 7.72c-.78.78-.78 2.05 0 2.83L4 21.41c.39.39.9.59 1.41.59.51 0 1.02-.2 1.41-.59l7.78-7.78 2.81-2.81c.8-.78.8-2.07 0-2.86zM5.41 20L4 18.59l7.72-7.72 1.47 1.35L5.41 20z\"/>\n",
              "  </svg>\n",
              "      </button>\n",
              "      \n",
              "  <style>\n",
              "    .colab-df-container {\n",
              "      display:flex;\n",
              "      flex-wrap:wrap;\n",
              "      gap: 12px;\n",
              "    }\n",
              "\n",
              "    .colab-df-convert {\n",
              "      background-color: #E8F0FE;\n",
              "      border: none;\n",
              "      border-radius: 50%;\n",
              "      cursor: pointer;\n",
              "      display: none;\n",
              "      fill: #1967D2;\n",
              "      height: 32px;\n",
              "      padding: 0 0 0 0;\n",
              "      width: 32px;\n",
              "    }\n",
              "\n",
              "    .colab-df-convert:hover {\n",
              "      background-color: #E2EBFA;\n",
              "      box-shadow: 0px 1px 2px rgba(60, 64, 67, 0.3), 0px 1px 3px 1px rgba(60, 64, 67, 0.15);\n",
              "      fill: #174EA6;\n",
              "    }\n",
              "\n",
              "    [theme=dark] .colab-df-convert {\n",
              "      background-color: #3B4455;\n",
              "      fill: #D2E3FC;\n",
              "    }\n",
              "\n",
              "    [theme=dark] .colab-df-convert:hover {\n",
              "      background-color: #434B5C;\n",
              "      box-shadow: 0px 1px 3px 1px rgba(0, 0, 0, 0.15);\n",
              "      filter: drop-shadow(0px 1px 2px rgba(0, 0, 0, 0.3));\n",
              "      fill: #FFFFFF;\n",
              "    }\n",
              "  </style>\n",
              "\n",
              "      <script>\n",
              "        const buttonEl =\n",
              "          document.querySelector('#df-e0974ff0-acf2-481f-9aaa-0fbe01f336c2 button.colab-df-convert');\n",
              "        buttonEl.style.display =\n",
              "          google.colab.kernel.accessAllowed ? 'block' : 'none';\n",
              "\n",
              "        async function convertToInteractive(key) {\n",
              "          const element = document.querySelector('#df-e0974ff0-acf2-481f-9aaa-0fbe01f336c2');\n",
              "          const dataTable =\n",
              "            await google.colab.kernel.invokeFunction('convertToInteractive',\n",
              "                                                     [key], {});\n",
              "          if (!dataTable) return;\n",
              "\n",
              "          const docLinkHtml = 'Like what you see? Visit the ' +\n",
              "            '<a target=\"_blank\" href=https://colab.research.google.com/notebooks/data_table.ipynb>data table notebook</a>'\n",
              "            + ' to learn more about interactive tables.';\n",
              "          element.innerHTML = '';\n",
              "          dataTable['output_type'] = 'display_data';\n",
              "          await google.colab.output.renderOutput(dataTable, element);\n",
              "          const docLink = document.createElement('div');\n",
              "          docLink.innerHTML = docLinkHtml;\n",
              "          element.appendChild(docLink);\n",
              "        }\n",
              "      </script>\n",
              "    </div>\n",
              "  </div>\n",
              "  "
            ]
          },
          "metadata": {}
        }
      ]
    },
    {
      "cell_type": "markdown",
      "source": [
        "### 1.  A line plot \n",
        "---\n",
        "\n",
        "To prepare the data for the line plot I might need to do the following:  \n",
        "\n",
        "*  convert the `date` column to **datetime** type \n",
        "*  create 3 new columns for `year`, `month` and `day` (use `dt.year, dt.strftime to get the month name, dt.day`)\n",
        "*  set the index to the **date** column.\n",
        "*  clean the data by filtering out days when the page views were in the top 2.5% of the dataset or bottom 2.5% of the dataset.\n"
      ],
      "metadata": {
        "id": "VKeRaTH0leil"
      }
    },
    {
      "cell_type": "code",
      "metadata": {
        "id": "bwKeud7NrhVu",
        "colab": {
          "base_uri": "https://localhost:8080/",
          "height": 1000
        },
        "outputId": "1f71daf3-c9ed-4274-e26f-03e4502070a7"
      },
      "source": [
        "from operator import index\n",
        "df['date'] = pd.to_datetime(df['date'])\n",
        "df['day'] = df['date'].dt.day\n",
        "df['month'] = df['date'].dt.month\n",
        "df['month_name'] = df['date'].dt.strftime('%B')\n",
        "df['year'] = df['date'].dt.year\n",
        "\n",
        "df.index = df['date']\n",
        "top = df['value'].quantile(0.975)\n",
        "bottom = df['value'].quantile(0.025)\n",
        "\n",
        "df_filtered = df[(df['value'] > bottom) & (df['value'] < top)] \n",
        "\n",
        "# Show the info and stats\n",
        "display(df_filtered.info())\n",
        "display(df_filtered.head(10))\n",
        "display(df_filtered.tail(10))"
      ],
      "execution_count": 2,
      "outputs": [
        {
          "output_type": "stream",
          "name": "stdout",
          "text": [
            "<class 'pandas.core.frame.DataFrame'>\n",
            "DatetimeIndex: 1238 entries, 2016-05-19 to 2019-12-03\n",
            "Data columns (total 6 columns):\n",
            " #   Column      Non-Null Count  Dtype         \n",
            "---  ------      --------------  -----         \n",
            " 0   date        1238 non-null   datetime64[ns]\n",
            " 1   value       1238 non-null   int64         \n",
            " 2   day         1238 non-null   int64         \n",
            " 3   month       1238 non-null   int64         \n",
            " 4   month_name  1238 non-null   object        \n",
            " 5   year        1238 non-null   int64         \n",
            "dtypes: datetime64[ns](1), int64(4), object(1)\n",
            "memory usage: 67.7+ KB\n"
          ]
        },
        {
          "output_type": "display_data",
          "data": {
            "text/plain": [
              "None"
            ]
          },
          "metadata": {}
        },
        {
          "output_type": "display_data",
          "data": {
            "text/plain": [
              "                 date  value  day  month month_name  year\n",
              "date                                                     \n",
              "2016-05-19 2016-05-19  19736   19      5        May  2016\n",
              "2016-05-26 2016-05-26  18060   26      5        May  2016\n",
              "2016-05-27 2016-05-27  19997   27      5        May  2016\n",
              "2016-05-28 2016-05-28  19044   28      5        May  2016\n",
              "2016-05-29 2016-05-29  20325   29      5        May  2016\n",
              "2016-06-07 2016-06-07  18335    7      6       June  2016\n",
              "2016-06-08 2016-06-08  18072    8      6       June  2016\n",
              "2016-06-09 2016-06-09  18139    9      6       June  2016\n",
              "2016-06-14 2016-06-14  19395   14      6       June  2016\n",
              "2016-06-15 2016-06-15  18584   15      6       June  2016"
            ],
            "text/html": [
              "\n",
              "  <div id=\"df-0d29b32a-b982-44bf-8759-a21e4edbdc20\">\n",
              "    <div class=\"colab-df-container\">\n",
              "      <div>\n",
              "<style scoped>\n",
              "    .dataframe tbody tr th:only-of-type {\n",
              "        vertical-align: middle;\n",
              "    }\n",
              "\n",
              "    .dataframe tbody tr th {\n",
              "        vertical-align: top;\n",
              "    }\n",
              "\n",
              "    .dataframe thead th {\n",
              "        text-align: right;\n",
              "    }\n",
              "</style>\n",
              "<table border=\"1\" class=\"dataframe\">\n",
              "  <thead>\n",
              "    <tr style=\"text-align: right;\">\n",
              "      <th></th>\n",
              "      <th>date</th>\n",
              "      <th>value</th>\n",
              "      <th>day</th>\n",
              "      <th>month</th>\n",
              "      <th>month_name</th>\n",
              "      <th>year</th>\n",
              "    </tr>\n",
              "    <tr>\n",
              "      <th>date</th>\n",
              "      <th></th>\n",
              "      <th></th>\n",
              "      <th></th>\n",
              "      <th></th>\n",
              "      <th></th>\n",
              "      <th></th>\n",
              "    </tr>\n",
              "  </thead>\n",
              "  <tbody>\n",
              "    <tr>\n",
              "      <th>2016-05-19</th>\n",
              "      <td>2016-05-19</td>\n",
              "      <td>19736</td>\n",
              "      <td>19</td>\n",
              "      <td>5</td>\n",
              "      <td>May</td>\n",
              "      <td>2016</td>\n",
              "    </tr>\n",
              "    <tr>\n",
              "      <th>2016-05-26</th>\n",
              "      <td>2016-05-26</td>\n",
              "      <td>18060</td>\n",
              "      <td>26</td>\n",
              "      <td>5</td>\n",
              "      <td>May</td>\n",
              "      <td>2016</td>\n",
              "    </tr>\n",
              "    <tr>\n",
              "      <th>2016-05-27</th>\n",
              "      <td>2016-05-27</td>\n",
              "      <td>19997</td>\n",
              "      <td>27</td>\n",
              "      <td>5</td>\n",
              "      <td>May</td>\n",
              "      <td>2016</td>\n",
              "    </tr>\n",
              "    <tr>\n",
              "      <th>2016-05-28</th>\n",
              "      <td>2016-05-28</td>\n",
              "      <td>19044</td>\n",
              "      <td>28</td>\n",
              "      <td>5</td>\n",
              "      <td>May</td>\n",
              "      <td>2016</td>\n",
              "    </tr>\n",
              "    <tr>\n",
              "      <th>2016-05-29</th>\n",
              "      <td>2016-05-29</td>\n",
              "      <td>20325</td>\n",
              "      <td>29</td>\n",
              "      <td>5</td>\n",
              "      <td>May</td>\n",
              "      <td>2016</td>\n",
              "    </tr>\n",
              "    <tr>\n",
              "      <th>2016-06-07</th>\n",
              "      <td>2016-06-07</td>\n",
              "      <td>18335</td>\n",
              "      <td>7</td>\n",
              "      <td>6</td>\n",
              "      <td>June</td>\n",
              "      <td>2016</td>\n",
              "    </tr>\n",
              "    <tr>\n",
              "      <th>2016-06-08</th>\n",
              "      <td>2016-06-08</td>\n",
              "      <td>18072</td>\n",
              "      <td>8</td>\n",
              "      <td>6</td>\n",
              "      <td>June</td>\n",
              "      <td>2016</td>\n",
              "    </tr>\n",
              "    <tr>\n",
              "      <th>2016-06-09</th>\n",
              "      <td>2016-06-09</td>\n",
              "      <td>18139</td>\n",
              "      <td>9</td>\n",
              "      <td>6</td>\n",
              "      <td>June</td>\n",
              "      <td>2016</td>\n",
              "    </tr>\n",
              "    <tr>\n",
              "      <th>2016-06-14</th>\n",
              "      <td>2016-06-14</td>\n",
              "      <td>19395</td>\n",
              "      <td>14</td>\n",
              "      <td>6</td>\n",
              "      <td>June</td>\n",
              "      <td>2016</td>\n",
              "    </tr>\n",
              "    <tr>\n",
              "      <th>2016-06-15</th>\n",
              "      <td>2016-06-15</td>\n",
              "      <td>18584</td>\n",
              "      <td>15</td>\n",
              "      <td>6</td>\n",
              "      <td>June</td>\n",
              "      <td>2016</td>\n",
              "    </tr>\n",
              "  </tbody>\n",
              "</table>\n",
              "</div>\n",
              "      <button class=\"colab-df-convert\" onclick=\"convertToInteractive('df-0d29b32a-b982-44bf-8759-a21e4edbdc20')\"\n",
              "              title=\"Convert this dataframe to an interactive table.\"\n",
              "              style=\"display:none;\">\n",
              "        \n",
              "  <svg xmlns=\"http://www.w3.org/2000/svg\" height=\"24px\"viewBox=\"0 0 24 24\"\n",
              "       width=\"24px\">\n",
              "    <path d=\"M0 0h24v24H0V0z\" fill=\"none\"/>\n",
              "    <path d=\"M18.56 5.44l.94 2.06.94-2.06 2.06-.94-2.06-.94-.94-2.06-.94 2.06-2.06.94zm-11 1L8.5 8.5l.94-2.06 2.06-.94-2.06-.94L8.5 2.5l-.94 2.06-2.06.94zm10 10l.94 2.06.94-2.06 2.06-.94-2.06-.94-.94-2.06-.94 2.06-2.06.94z\"/><path d=\"M17.41 7.96l-1.37-1.37c-.4-.4-.92-.59-1.43-.59-.52 0-1.04.2-1.43.59L10.3 9.45l-7.72 7.72c-.78.78-.78 2.05 0 2.83L4 21.41c.39.39.9.59 1.41.59.51 0 1.02-.2 1.41-.59l7.78-7.78 2.81-2.81c.8-.78.8-2.07 0-2.86zM5.41 20L4 18.59l7.72-7.72 1.47 1.35L5.41 20z\"/>\n",
              "  </svg>\n",
              "      </button>\n",
              "      \n",
              "  <style>\n",
              "    .colab-df-container {\n",
              "      display:flex;\n",
              "      flex-wrap:wrap;\n",
              "      gap: 12px;\n",
              "    }\n",
              "\n",
              "    .colab-df-convert {\n",
              "      background-color: #E8F0FE;\n",
              "      border: none;\n",
              "      border-radius: 50%;\n",
              "      cursor: pointer;\n",
              "      display: none;\n",
              "      fill: #1967D2;\n",
              "      height: 32px;\n",
              "      padding: 0 0 0 0;\n",
              "      width: 32px;\n",
              "    }\n",
              "\n",
              "    .colab-df-convert:hover {\n",
              "      background-color: #E2EBFA;\n",
              "      box-shadow: 0px 1px 2px rgba(60, 64, 67, 0.3), 0px 1px 3px 1px rgba(60, 64, 67, 0.15);\n",
              "      fill: #174EA6;\n",
              "    }\n",
              "\n",
              "    [theme=dark] .colab-df-convert {\n",
              "      background-color: #3B4455;\n",
              "      fill: #D2E3FC;\n",
              "    }\n",
              "\n",
              "    [theme=dark] .colab-df-convert:hover {\n",
              "      background-color: #434B5C;\n",
              "      box-shadow: 0px 1px 3px 1px rgba(0, 0, 0, 0.15);\n",
              "      filter: drop-shadow(0px 1px 2px rgba(0, 0, 0, 0.3));\n",
              "      fill: #FFFFFF;\n",
              "    }\n",
              "  </style>\n",
              "\n",
              "      <script>\n",
              "        const buttonEl =\n",
              "          document.querySelector('#df-0d29b32a-b982-44bf-8759-a21e4edbdc20 button.colab-df-convert');\n",
              "        buttonEl.style.display =\n",
              "          google.colab.kernel.accessAllowed ? 'block' : 'none';\n",
              "\n",
              "        async function convertToInteractive(key) {\n",
              "          const element = document.querySelector('#df-0d29b32a-b982-44bf-8759-a21e4edbdc20');\n",
              "          const dataTable =\n",
              "            await google.colab.kernel.invokeFunction('convertToInteractive',\n",
              "                                                     [key], {});\n",
              "          if (!dataTable) return;\n",
              "\n",
              "          const docLinkHtml = 'Like what you see? Visit the ' +\n",
              "            '<a target=\"_blank\" href=https://colab.research.google.com/notebooks/data_table.ipynb>data table notebook</a>'\n",
              "            + ' to learn more about interactive tables.';\n",
              "          element.innerHTML = '';\n",
              "          dataTable['output_type'] = 'display_data';\n",
              "          await google.colab.output.renderOutput(dataTable, element);\n",
              "          const docLink = document.createElement('div');\n",
              "          docLink.innerHTML = docLinkHtml;\n",
              "          element.appendChild(docLink);\n",
              "        }\n",
              "      </script>\n",
              "    </div>\n",
              "  </div>\n",
              "  "
            ]
          },
          "metadata": {}
        },
        {
          "output_type": "display_data",
          "data": {
            "text/plain": [
              "                 date   value  day  month month_name  year\n",
              "date                                                      \n",
              "2019-11-16 2019-11-16  125634   16     11   November  2019\n",
              "2019-11-17 2019-11-17  131639   17     11   November  2019\n",
              "2019-11-20 2019-11-20  151733   20     11   November  2019\n",
              "2019-11-21 2019-11-21  169121   21     11   November  2019\n",
              "2019-11-23 2019-11-23  146658   23     11   November  2019\n",
              "2019-11-24 2019-11-24  138875   24     11   November  2019\n",
              "2019-11-29 2019-11-29  171584   29     11   November  2019\n",
              "2019-11-30 2019-11-30  141161   30     11   November  2019\n",
              "2019-12-01 2019-12-01  142918    1     12   December  2019\n",
              "2019-12-03 2019-12-03  158549    3     12   December  2019"
            ],
            "text/html": [
              "\n",
              "  <div id=\"df-cefdf513-44ab-42a4-9f92-1b45b1dfece8\">\n",
              "    <div class=\"colab-df-container\">\n",
              "      <div>\n",
              "<style scoped>\n",
              "    .dataframe tbody tr th:only-of-type {\n",
              "        vertical-align: middle;\n",
              "    }\n",
              "\n",
              "    .dataframe tbody tr th {\n",
              "        vertical-align: top;\n",
              "    }\n",
              "\n",
              "    .dataframe thead th {\n",
              "        text-align: right;\n",
              "    }\n",
              "</style>\n",
              "<table border=\"1\" class=\"dataframe\">\n",
              "  <thead>\n",
              "    <tr style=\"text-align: right;\">\n",
              "      <th></th>\n",
              "      <th>date</th>\n",
              "      <th>value</th>\n",
              "      <th>day</th>\n",
              "      <th>month</th>\n",
              "      <th>month_name</th>\n",
              "      <th>year</th>\n",
              "    </tr>\n",
              "    <tr>\n",
              "      <th>date</th>\n",
              "      <th></th>\n",
              "      <th></th>\n",
              "      <th></th>\n",
              "      <th></th>\n",
              "      <th></th>\n",
              "      <th></th>\n",
              "    </tr>\n",
              "  </thead>\n",
              "  <tbody>\n",
              "    <tr>\n",
              "      <th>2019-11-16</th>\n",
              "      <td>2019-11-16</td>\n",
              "      <td>125634</td>\n",
              "      <td>16</td>\n",
              "      <td>11</td>\n",
              "      <td>November</td>\n",
              "      <td>2019</td>\n",
              "    </tr>\n",
              "    <tr>\n",
              "      <th>2019-11-17</th>\n",
              "      <td>2019-11-17</td>\n",
              "      <td>131639</td>\n",
              "      <td>17</td>\n",
              "      <td>11</td>\n",
              "      <td>November</td>\n",
              "      <td>2019</td>\n",
              "    </tr>\n",
              "    <tr>\n",
              "      <th>2019-11-20</th>\n",
              "      <td>2019-11-20</td>\n",
              "      <td>151733</td>\n",
              "      <td>20</td>\n",
              "      <td>11</td>\n",
              "      <td>November</td>\n",
              "      <td>2019</td>\n",
              "    </tr>\n",
              "    <tr>\n",
              "      <th>2019-11-21</th>\n",
              "      <td>2019-11-21</td>\n",
              "      <td>169121</td>\n",
              "      <td>21</td>\n",
              "      <td>11</td>\n",
              "      <td>November</td>\n",
              "      <td>2019</td>\n",
              "    </tr>\n",
              "    <tr>\n",
              "      <th>2019-11-23</th>\n",
              "      <td>2019-11-23</td>\n",
              "      <td>146658</td>\n",
              "      <td>23</td>\n",
              "      <td>11</td>\n",
              "      <td>November</td>\n",
              "      <td>2019</td>\n",
              "    </tr>\n",
              "    <tr>\n",
              "      <th>2019-11-24</th>\n",
              "      <td>2019-11-24</td>\n",
              "      <td>138875</td>\n",
              "      <td>24</td>\n",
              "      <td>11</td>\n",
              "      <td>November</td>\n",
              "      <td>2019</td>\n",
              "    </tr>\n",
              "    <tr>\n",
              "      <th>2019-11-29</th>\n",
              "      <td>2019-11-29</td>\n",
              "      <td>171584</td>\n",
              "      <td>29</td>\n",
              "      <td>11</td>\n",
              "      <td>November</td>\n",
              "      <td>2019</td>\n",
              "    </tr>\n",
              "    <tr>\n",
              "      <th>2019-11-30</th>\n",
              "      <td>2019-11-30</td>\n",
              "      <td>141161</td>\n",
              "      <td>30</td>\n",
              "      <td>11</td>\n",
              "      <td>November</td>\n",
              "      <td>2019</td>\n",
              "    </tr>\n",
              "    <tr>\n",
              "      <th>2019-12-01</th>\n",
              "      <td>2019-12-01</td>\n",
              "      <td>142918</td>\n",
              "      <td>1</td>\n",
              "      <td>12</td>\n",
              "      <td>December</td>\n",
              "      <td>2019</td>\n",
              "    </tr>\n",
              "    <tr>\n",
              "      <th>2019-12-03</th>\n",
              "      <td>2019-12-03</td>\n",
              "      <td>158549</td>\n",
              "      <td>3</td>\n",
              "      <td>12</td>\n",
              "      <td>December</td>\n",
              "      <td>2019</td>\n",
              "    </tr>\n",
              "  </tbody>\n",
              "</table>\n",
              "</div>\n",
              "      <button class=\"colab-df-convert\" onclick=\"convertToInteractive('df-cefdf513-44ab-42a4-9f92-1b45b1dfece8')\"\n",
              "              title=\"Convert this dataframe to an interactive table.\"\n",
              "              style=\"display:none;\">\n",
              "        \n",
              "  <svg xmlns=\"http://www.w3.org/2000/svg\" height=\"24px\"viewBox=\"0 0 24 24\"\n",
              "       width=\"24px\">\n",
              "    <path d=\"M0 0h24v24H0V0z\" fill=\"none\"/>\n",
              "    <path d=\"M18.56 5.44l.94 2.06.94-2.06 2.06-.94-2.06-.94-.94-2.06-.94 2.06-2.06.94zm-11 1L8.5 8.5l.94-2.06 2.06-.94-2.06-.94L8.5 2.5l-.94 2.06-2.06.94zm10 10l.94 2.06.94-2.06 2.06-.94-2.06-.94-.94-2.06-.94 2.06-2.06.94z\"/><path d=\"M17.41 7.96l-1.37-1.37c-.4-.4-.92-.59-1.43-.59-.52 0-1.04.2-1.43.59L10.3 9.45l-7.72 7.72c-.78.78-.78 2.05 0 2.83L4 21.41c.39.39.9.59 1.41.59.51 0 1.02-.2 1.41-.59l7.78-7.78 2.81-2.81c.8-.78.8-2.07 0-2.86zM5.41 20L4 18.59l7.72-7.72 1.47 1.35L5.41 20z\"/>\n",
              "  </svg>\n",
              "      </button>\n",
              "      \n",
              "  <style>\n",
              "    .colab-df-container {\n",
              "      display:flex;\n",
              "      flex-wrap:wrap;\n",
              "      gap: 12px;\n",
              "    }\n",
              "\n",
              "    .colab-df-convert {\n",
              "      background-color: #E8F0FE;\n",
              "      border: none;\n",
              "      border-radius: 50%;\n",
              "      cursor: pointer;\n",
              "      display: none;\n",
              "      fill: #1967D2;\n",
              "      height: 32px;\n",
              "      padding: 0 0 0 0;\n",
              "      width: 32px;\n",
              "    }\n",
              "\n",
              "    .colab-df-convert:hover {\n",
              "      background-color: #E2EBFA;\n",
              "      box-shadow: 0px 1px 2px rgba(60, 64, 67, 0.3), 0px 1px 3px 1px rgba(60, 64, 67, 0.15);\n",
              "      fill: #174EA6;\n",
              "    }\n",
              "\n",
              "    [theme=dark] .colab-df-convert {\n",
              "      background-color: #3B4455;\n",
              "      fill: #D2E3FC;\n",
              "    }\n",
              "\n",
              "    [theme=dark] .colab-df-convert:hover {\n",
              "      background-color: #434B5C;\n",
              "      box-shadow: 0px 1px 3px 1px rgba(0, 0, 0, 0.15);\n",
              "      filter: drop-shadow(0px 1px 2px rgba(0, 0, 0, 0.3));\n",
              "      fill: #FFFFFF;\n",
              "    }\n",
              "  </style>\n",
              "\n",
              "      <script>\n",
              "        const buttonEl =\n",
              "          document.querySelector('#df-cefdf513-44ab-42a4-9f92-1b45b1dfece8 button.colab-df-convert');\n",
              "        buttonEl.style.display =\n",
              "          google.colab.kernel.accessAllowed ? 'block' : 'none';\n",
              "\n",
              "        async function convertToInteractive(key) {\n",
              "          const element = document.querySelector('#df-cefdf513-44ab-42a4-9f92-1b45b1dfece8');\n",
              "          const dataTable =\n",
              "            await google.colab.kernel.invokeFunction('convertToInteractive',\n",
              "                                                     [key], {});\n",
              "          if (!dataTable) return;\n",
              "\n",
              "          const docLinkHtml = 'Like what you see? Visit the ' +\n",
              "            '<a target=\"_blank\" href=https://colab.research.google.com/notebooks/data_table.ipynb>data table notebook</a>'\n",
              "            + ' to learn more about interactive tables.';\n",
              "          element.innerHTML = '';\n",
              "          dataTable['output_type'] = 'display_data';\n",
              "          await google.colab.output.renderOutput(dataTable, element);\n",
              "          const docLink = document.createElement('div');\n",
              "          docLink.innerHTML = docLinkHtml;\n",
              "          element.appendChild(docLink);\n",
              "        }\n",
              "      </script>\n",
              "    </div>\n",
              "  </div>\n",
              "  "
            ]
          },
          "metadata": {}
        }
      ]
    },
    {
      "cell_type": "code",
      "source": [
        "# The function plots a line plot\n",
        "def show_lineplot_pageviews(df):\n",
        "  import matplotlib.pyplot as plt\n",
        "  yearly_df = df[['value']]\n",
        " \n",
        "  # Draw the line plot\n",
        "  plt.figure(figsize = (12,8))\n",
        "  plt.plot(yearly_df['value'], color='red')\n",
        "  plt.title('Daily freeCodeCamp.org forum Pageviews 05/2016-12/2019')\n",
        "  #plt.grid()\n",
        "  plt.show()\n",
        "\n",
        "show_lineplot_pageviews(df_filtered)"
      ],
      "metadata": {
        "colab": {
          "base_uri": "https://localhost:8080/",
          "height": 499
        },
        "id": "XX2cEiYM9mwG",
        "outputId": "56e77669-75ab-4fd1-aa21-6045e137faef"
      },
      "execution_count": 3,
      "outputs": [
        {
          "output_type": "display_data",
          "data": {
            "text/plain": [
              "<Figure size 864x576 with 1 Axes>"
            ],
            "image/png": "[encoded data removed]"
          },
          "metadata": {
            "needs_background": "light"
          }
        }
      ]
    },
    {
      "cell_type": "markdown",
      "source": [
        "###2. A bar chart\n",
        "---\n",
        "\n",
        "It should show average daily page views for each month grouped by year. \n",
        "\n",
        "To prepare the data for the bar chart I might need to create a pivot table and then can use pivot_table_name.plot(kind='bar')\n"
      ],
      "metadata": {
        "id": "t0C_CKXhlh1Z"
      }
    },
    {
      "cell_type": "code",
      "source": [
        "import numpy as np\n",
        "import matplotlib.pyplot as plt\n",
        "\n",
        "# The function creates a pivot table\n",
        "def create_pivot(df):\n",
        "  #add code below which creates a pivot table of Pop and State \n",
        "  df_pivot = pd.pivot_table(df, values='value', index='year', columns=['month'], aggfunc = np.mean)\n",
        "  return df_pivot\n",
        "\n",
        "pivot_df = create_pivot(df_filtered)\n",
        "\n",
        "# The function draws the barchart\n",
        "def show_barchart_pageviews(df):\n",
        "  # Draw the bar graph\n",
        "  plt.figure(figsize = (15,8))\n",
        "  df.plot(kind='bar')\n",
        "  plt.legend(labels=df_filtered['month_name'].unique(), title='Months')\n",
        "  plt.xlabel('Years')\n",
        "  plt.ylabel('Average Page Views')\n",
        "  plt.show()\n",
        "\n",
        "show_barchart_pageviews(pivot_df)"
      ],
      "metadata": {
        "id": "K48C8gw1llFV",
        "colab": {
          "base_uri": "https://localhost:8080/",
          "height": 312
        },
        "outputId": "aee5667a-548f-4d2a-bf1a-4582ace9c452"
      },
      "execution_count": 21,
      "outputs": [
        {
          "output_type": "display_data",
          "data": {
            "text/plain": [
              "<Figure size 1080x576 with 0 Axes>"
            ]
          },
          "metadata": {}
        },
        {
          "output_type": "display_data",
          "data": {
            "text/plain": [
              "<Figure size 432x288 with 1 Axes>"
            ],
            "image/png": "[encoded data removed]"
          },
          "metadata": {
            "needs_background": "light"
          }
        }
      ]
    },
    {
      "cell_type": "markdown",
      "source": [
        "###3.  A set of box plots\n",
        "---\n",
        "The box plots show how the values are distributed within a given year or month and how it compares over time. \n"
      ],
      "metadata": {
        "id": "GentBB6gllVh"
      }
    },
    {
      "cell_type": "code",
      "source": [
        "import seaborn as sns\n",
        "\n",
        "def show_boxplot_yearly_pageviews(df):\n",
        "  # Draw the box plot\n",
        "  plt.figure(figsize = (12,8))\n",
        "  chart = sns.boxplot(data=df, x='year', y='value', palette=sns.color_palette(\"Set1\"),\\\n",
        "                      linewidth=1, fliersize=1, saturation=5)\n",
        "  chart.set_ylabel('Page Views')\n",
        "  chart.set_xlabel('Year')\n",
        "  chart.set_title('Year-wise Box Plot (Trend)')\n",
        "  plt.show()\n",
        "  plt.figure(figsize = (12,8))\n",
        "  chart2 = sns.boxplot(data=df, x=[m[:3] for m in df['month_name']], \\\n",
        "                       y='value', linewidth=1, fliersize=1, saturation=5)\n",
        "  chart2.set_ylabel('Page Views')\n",
        "  chart2.set_xlabel('Month')\n",
        "  chart2.set_title('Month-wise Box Plot (Seasonality)')\n",
        "  plt.show()\n",
        "\n",
        "show_boxplot_yearly_pageviews(df_filtered)"
      ],
      "metadata": {
        "id": "6v7ReU6Jlnb5",
        "colab": {
          "base_uri": "https://localhost:8080/",
          "height": 1000
        },
        "outputId": "99f12b63-a505-4f1e-80fc-3ea42f744e69"
      },
      "execution_count": 10,
      "outputs": [
        {
          "output_type": "display_data",
          "data": {
            "text/plain": [
              "<Figure size 864x576 with 1 Axes>"
            ],
            "image/png": "[encoded data removed]"
          },
          "metadata": {
            "needs_background": "light"
          }
        },
        {
          "output_type": "display_data",
          "data": {
            "text/plain": [
              "<Figure size 864x576 with 1 Axes>"
            ],
            "image/png": "[encoded data removed]"
          },
          "metadata": {
            "needs_background": "light"
          }
        }
      ]
    },
    {
      "cell_type": "markdown",
      "source": [
        "###4.  Predict the number of page views in the year 2020 based on the data up to 2019\n",
        "---\n",
        "I am going to:\n",
        "\n",
        "*  perform a linear regression and create a line of best fit \n",
        "*  predict the page views in the year 2020, 2025 and 2030 if identified trends persist. \n"
      ],
      "metadata": {
        "id": "VRT2P1DAlnmy"
      }
    },
    {
      "cell_type": "code",
      "source": [
        "def get_regression(x, y):\n",
        "  from scipy.stats import linregress\n",
        "  # Calculate regression for the variables\n",
        "  regression = linregress(x,y)\n",
        "  # Get slope value\n",
        "  slope = regression.slope\n",
        "  # Get intercept value\n",
        "  intercept = regression.intercept\n",
        "  # Get r value\n",
        "  r_value = regression.rvalue\n",
        "  # Get p value\n",
        "  p_value = regression.pvalue\n",
        "  # Return and display the values\n",
        "  return regression, slope, intercept, r_value, p_value\n",
        "\n",
        "# Create x, y variables\n",
        "x = df_filtered['year']\n",
        "y = df_filtered['value']\n",
        "# Show regression\n",
        "regr_values, slope, intercept, r_value, p_value =  get_regression(x, y)\n",
        "\n",
        "display(regr_values)\n",
        "display(slope)\n",
        "display(intercept)\n",
        "display(r_value)"
      ],
      "metadata": {
        "id": "mU3-V66DloZJ",
        "colab": {
          "base_uri": "https://localhost:8080/",
          "height": 86
        },
        "outputId": "ae54774d-db72-47da-a8fe-103b16701c2c"
      },
      "execution_count": 6,
      "outputs": [
        {
          "output_type": "display_data",
          "data": {
            "text/plain": [
              "LinregressResult(slope=24385.517311982254, intercept=-49137675.65559689, rvalue=0.7932714276471907, pvalue=1.3395933130147786e-268, stderr=532.3830168399695)"
            ]
          },
          "metadata": {}
        },
        {
          "output_type": "display_data",
          "data": {
            "text/plain": [
              "24385.517311982254"
            ]
          },
          "metadata": {}
        },
        {
          "output_type": "display_data",
          "data": {
            "text/plain": [
              "-49137675.65559689"
            ]
          },
          "metadata": {}
        },
        {
          "output_type": "display_data",
          "data": {
            "text/plain": [
              "0.7932714276471907"
            ]
          },
          "metadata": {}
        }
      ]
    },
    {
      "cell_type": "code",
      "source": [
        "# Draw the plot\n",
        "def show_corr_line_plot(x, slope, intercept, xlabel=None, ylabel=None):\n",
        "  import matplotlib.pyplot as plt\n",
        "  # Calculate the y values for the page views\n",
        "  y = slope*x + intercept\n",
        "  # Draw the regression line and show the graph\n",
        "  plt.figure(figsize = (10,8))\n",
        "  plt.plot(x, y, color='blue')\n",
        "  plt.xlabel(xlabel)\n",
        "  plt.ylabel(ylabel)\n",
        "  plt.title('The Regression Line')\n",
        "  plt.show()\n",
        "\n",
        "# Display\n",
        "show_corr_line_plot(x, slope, intercept, 'Year', 'Page Views')\n",
        "\n",
        "# Few esimated predictions here\n",
        "x_max = 2019\n",
        "x_est = x_max + 1\n",
        "y_est = round((slope * x_est + intercept), 2)\n",
        "\n",
        "print(f'Since there is a strong positive correlation between \\\n",
        "\\nYear and PageViews with r value: {r_value}, if for example:\\n')\n",
        "\n",
        "print(f'the Year increases from {x_max} to {x_est} \\\n",
        "\\nthen the number of PageViews are estimated to increase to {y_est} value.')\n",
        "print('')\n",
        "x_est = 2025\n",
        "y_est = round((slope * x_est + intercept), 2)\n",
        "\n",
        "print(f'the Year increases from {x_max} to {x_est} \\\n",
        "\\nthen the number of PageViews are estimated to increase to {y_est} value.')\n",
        "\n",
        "print('')\n",
        "x_est = 2030\n",
        "y_est = round((slope * x_est + intercept), 2)\n",
        "\n",
        "print(f'the Year increases from {x_max} to {x_est} \\\n",
        "\\nthen the number of PageViews are estimated to increase to {y_est} value.')"
      ],
      "metadata": {
        "colab": {
          "base_uri": "https://localhost:8080/",
          "height": 704
        },
        "id": "AWddtLOZYTva",
        "outputId": "9a77c8a6-0561-410e-8fde-8c85c376a395"
      },
      "execution_count": 12,
      "outputs": [
        {
          "output_type": "display_data",
          "data": {
            "text/plain": [
              "<Figure size 720x576 with 1 Axes>"
            ],
            "image/png": "[encoded data removed]"
          },
          "metadata": {
            "needs_background": "light"
          }
        },
        {
          "output_type": "stream",
          "name": "stdout",
          "text": [
            "Since there is a strong positive correlation between \n",
            "Year and PageViews with r value: 0.7932714276471907, if for example:\n",
            "\n",
            "the Year increases from 2019 to 2020 \n",
            "then the number of PageViews are estimated to increase to 121069.31 value.\n",
            "\n",
            "the Year increases from 2019 to 2025 \n",
            "then the number of PageViews are estimated to increase to 242996.9 value.\n",
            "\n",
            "the Year increases from 2019 to 2030 \n",
            "then the number of PageViews are estimated to increase to 364924.49 value.\n"
          ]
        }
      ]
    },
    {
      "cell_type": "markdown",
      "source": [
        "###Identifying The Trend\n",
        "Estimate the trend and show the extended graph:"
      ],
      "metadata": {
        "id": "gRjkS0P5GbK_"
      }
    },
    {
      "cell_type": "code",
      "source": [
        "# The function shows the extended correlation line\n",
        "def show_corr_line_extended_splot(x, x_extended_to, slope, intercept, xlabel=None, ylabel=None):\n",
        "  import matplotlib.pyplot as plt\n",
        "  import seaborn as sns\n",
        "  \n",
        "  y = slope*x + intercept\n",
        "  # Draw the regression line and show the graph\n",
        "  plt.figure(figsize = (10,8))\n",
        "  chart = sns.regplot(x=x, y=y, color='blue')\n",
        "  chart.set_xlabel(xlabel)\n",
        "  chart.set_ylabel(ylabel)\n",
        "  #plt.plot(x, y, color='blue')\n",
        "  year = [year for year in range(x[len(x)-1], x_extended_to + 1, 1)]\n",
        "  page_v = [round((slope * year[i] + intercept), 2) for i in range(0, len(year), 1)]\n",
        "  #chart2 = sns.regplot(x=year, y=page_v)\n",
        "  plt.plot(year, page_v, color='red')\n",
        "  labels = ['Original','Estimated Predictions']\n",
        "  plt.legend(labels)\n",
        "  plt.title('The Regression Line & The Estimated Page Views')\n",
        "  plt.show()\n",
        "\n",
        "# Show the result\n",
        "show_corr_line_extended_splot(x, 2030, slope, intercept, 'Year', 'Page Views')"
      ],
      "metadata": {
        "colab": {
          "base_uri": "https://localhost:8080/",
          "height": 513
        },
        "id": "Qoqr8g6qBHMR",
        "outputId": "8a6afe24-6513-45c5-9a49-db7d3b8e3797"
      },
      "execution_count": 13,
      "outputs": [
        {
          "output_type": "display_data",
          "data": {
            "text/plain": [
              "<Figure size 720x576 with 1 Axes>"
            ],
            "image/png": "[encoded data removed]"
          },
          "metadata": {
            "needs_background": "light"
          }
        }
      ]
    },
    {
      "cell_type": "markdown",
      "source": [
        "# Reflect\n",
        "This project helped me learn a number of ways that the data could be visualised, how get the statistical information about the data and how to report it. I did not find any difficulties in accomplishing the above tasks."
      ],
      "metadata": {
        "id": "NkL5dw6ulp6K"
      }
    }
  ]
}