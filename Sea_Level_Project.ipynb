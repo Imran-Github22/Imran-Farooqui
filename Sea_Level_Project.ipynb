{
  "nbformat": 4,
  "nbformat_minor": 0,
  "metadata": {
    "colab": {
      "name": "Sea-Level-Project.ipynb",
      "provenance": [],
      "collapsed_sections": [],
      "include_colab_link": true
    },
    "kernelspec": {
      "name": "python3",
      "display_name": "Python 3"
    },
    "language_info": {
      "name": "python"
    }
  },
  "cells": [
    {
      "cell_type": "markdown",
      "metadata": {
        "id": "view-in-github",
        "colab_type": "text"
      },
      "source": [
        "<a href=\"https://colab.research.google.com/github/Imran-Github22/Programming-For-Data/blob/main/Sea_Level_Project.ipynb\" target=\"_parent\"><img src=\"https://colab.research.google.com/assets/colab-badge.svg\" alt=\"Open In Colab\"/></a>"
      ]
    },
    {
      "cell_type": "markdown",
      "source": [
        "# Using numpy to look for a correlation between time data and sea level rise\n",
        "---\n",
        "\n",
        "### Data Source\n",
        "Global Average Absolute Sea Level Change, 1880-2014 from the US Environmental Protection Agency using data from CSIRO, 2015; NOAA, 2015.\n",
        "https://datahub.io/core/sea-level-rise\n",
        "\n",
        "The data describes annual sea levels from 1880 to 2013.  Measures are adjusted using two standards: Commonwealth Scientific and Industrial Research Organisation(CSIRO) and National Oceanic and Atmospheric Administration (NOAA)  \n",
        "\n",
        "Raw Data file:  https://raw.githubusercontent.com/freeCodeCamp/boilerplate-sea-level-predictor/master/epa-sea-level.csv\n",
        "\n",
        "For this exercise:\n",
        "*  import the pandas library\n",
        "*  import the numpy library\n",
        "*  read the csv dataset containing data on sea-levels from the year 1880 to 2013 into a dataframe (df)\n",
        "*  use df.head() and df.info() to inspect the data and the column data types\n",
        "\n"
      ],
      "metadata": {
        "id": "jBYNdCdQ9_cu"
      }
    },
    {
      "cell_type": "code",
      "source": [
        "def create_dataset():\n",
        "  import pandas as pd\n",
        "  url = 'https://raw.githubusercontent.com/freeCodeCamp/boilerplate-sea-level-predictor/master/epa-sea-level.csv'\n",
        "  df = pd.read_csv(url)\n",
        "  return df\n",
        "\n",
        "df = create_dataset()\n",
        "print(df.head(), df.tail(), df.info())"
      ],
      "metadata": {
        "id": "r1XUCWHV_Cj9",
        "colab": {
          "base_uri": "https://localhost:8080/"
        },
        "outputId": "07260b81-7d0b-4b2b-d622-a3eb9185e4fc"
      },
      "execution_count": 1,
      "outputs": [
        {
          "output_type": "stream",
          "name": "stdout",
          "text": [
            "<class 'pandas.core.frame.DataFrame'>\n",
            "RangeIndex: 134 entries, 0 to 133\n",
            "Data columns (total 5 columns):\n",
            " #   Column                    Non-Null Count  Dtype  \n",
            "---  ------                    --------------  -----  \n",
            " 0   Year                      134 non-null    int64  \n",
            " 1   CSIRO Adjusted Sea Level  134 non-null    float64\n",
            " 2   Lower Error Bound         134 non-null    float64\n",
            " 3   Upper Error Bound         134 non-null    float64\n",
            " 4   NOAA Adjusted Sea Level   21 non-null     float64\n",
            "dtypes: float64(4), int64(1)\n",
            "memory usage: 5.4 KB\n",
            "   Year  CSIRO Adjusted Sea Level  ...  Upper Error Bound  NOAA Adjusted Sea Level\n",
            "0  1880                  0.000000  ...           0.952756                      NaN\n",
            "1  1881                  0.220472  ...           1.173228                      NaN\n",
            "2  1882                 -0.440945  ...           0.464567                      NaN\n",
            "3  1883                 -0.232283  ...           0.665354                      NaN\n",
            "4  1884                  0.590551  ...           1.464567                      NaN\n",
            "\n",
            "[5 rows x 5 columns]      Year  CSIRO Adjusted Sea Level  ...  Upper Error Bound  NOAA Adjusted Sea Level\n",
            "129  2009                  8.586614  ...           8.862205                 8.046354\n",
            "130  2010                  8.901575  ...           9.185039                 8.122973\n",
            "131  2011                  8.964567  ...           9.267717                 8.053065\n",
            "132  2012                  9.326772  ...           9.661417                 8.457058\n",
            "133  2013                  8.980315  ...           9.338583                 8.546648\n",
            "\n",
            "[5 rows x 5 columns] None\n"
          ]
        }
      ]
    },
    {
      "cell_type": "markdown",
      "source": [
        "### Then\n",
        "---\n",
        "1.  Calculate some statistics on the level array, eg:\n",
        "*  mean\n",
        "*  standard deviation\n",
        "*  total \n",
        "\n",
        "2.  Use the fact that the arrays are aligned (e.g. the first number in the level array is linked to the first year in the year array and display:\n",
        "\n",
        "*  the year with the biggest rise in level\n",
        "*  the year with the lowest rise in level\n",
        "\n",
        "*(**Hint**:  to do this you can use a new numpy function np.where() )*\n",
        " ```\n",
        "np.where(array == value_to_find)\n",
        "```\n",
        "*There is some reference material [here](https://thispointer.com/find-the-index-of-a-value-in-numpy-array/)*\n",
        "\n",
        "**Note**: ```np.where(...)``` will return a tuple containing all indexes where that value was found.  You can print all, or you can print the first value (it is likely that there will only be one in this case) using [0][0].  *With the correct code you should get an answer of 2012*\n",
        "\n",
        "\n",
        "3.  Calculate the Pearson product-moment correlation coefficient between year and the rise in sea level.  (*Expected output:  0.98 when rounded to 2 decimal places*)"
      ],
      "metadata": {
        "id": "3cf1YPgnBSc2"
      }
    },
    {
      "cell_type": "code",
      "source": [
        "def show_sea_level_stats(sea_levels, years):\n",
        "  import numpy as np\n",
        "  sea_level_arr = np.array(sea_levels, dtype=np.float64)\n",
        "  # Lets remove the NaNs from the array first.\n",
        "  nan_sea_level_arr = np.isnan(sea_level_arr)\n",
        "  sea_level_arr = sea_level_arr[~nan_sea_level_arr]\n",
        "\n",
        "  # Calculate the stats\n",
        "  sea_level_arr_mean = sea_level_arr.mean()\n",
        "  sea_level_arr_std = sea_level_arr.std()\n",
        "  sea_level_arr_total = sea_level_arr.sum()\n",
        "  biggest_sea_rise_year = years.iloc[np.where(sea_level_arr == sea_level_arr.max())[0][0]]\n",
        "  lowest_sea_rise_year = years.iloc[np.where(sea_level_arr == sea_level_arr.min())[0][0]]\n",
        "  coef = np.corrcoef(sea_level_arr, years.to_numpy()[~nan_sea_level_arr])\n",
        "\n",
        "  # Retrieve the name of the Standard used\n",
        "  standard_name = sea_levels.name.split()[0]\n",
        "\n",
        "  # Print out the stats\n",
        "  print('='*70)\n",
        "  print(standard_name)\n",
        "  print('-'*70) \n",
        "  print('Mean:                                            ', sea_level_arr_mean)\n",
        "  print('Standard Deviation:                              ', sea_level_arr_std)\n",
        "  print('Total:                                           ', sea_level_arr_total)\n",
        "  print('Biggest Sea Rise Year:                           ', biggest_sea_rise_year)\n",
        "  print('Lowest Sea Rise Year:                            ', lowest_sea_rise_year)\n",
        "  print('Pearson product-moment correlation coefficient:  ', round(coef[0][1], 2))\n",
        "  print('')\n",
        "\n",
        "show_sea_level_stats(df['CSIRO Adjusted Sea Level'], df['Year'])\n",
        "show_sea_level_stats(df['NOAA Adjusted Sea Level'], df['Year'])\n"
      ],
      "metadata": {
        "colab": {
          "base_uri": "https://localhost:8080/"
        },
        "id": "xUIGb-2khdvB",
        "outputId": "7a815d80-de23-4d18-8481-5c33f6e90f84"
      },
      "execution_count": 4,
      "outputs": [
        {
          "output_type": "stream",
          "name": "stdout",
          "text": [
            "======================================================================\n",
            "CSIRO\n",
            "----------------------------------------------------------------------\n",
            "Mean:                                             3.650340811880598\n",
            "Standard Deviation:                               2.476399631426498\n",
            "Total:                                            489.1456687920001\n",
            "Biggest Sea Rise Year:                            2012\n",
            "Lowest Sea Rise Year:                             1882\n",
            "Pearson product-moment correlation coefficient:   0.98\n",
            "\n",
            "======================================================================\n",
            "NOAA\n",
            "----------------------------------------------------------------------\n",
            "Mean:                                             7.363745767333332\n",
            "Standard Deviation:                               0.6743841109052331\n",
            "Total:                                            154.63866111399997\n",
            "Biggest Sea Rise Year:                            1900\n",
            "Lowest Sea Rise Year:                             1880\n",
            "Pearson product-moment correlation coefficient:   0.99\n",
            "\n"
          ]
        }
      ]
    },
    {
      "cell_type": "markdown",
      "metadata": {
        "id": "yQyytEbnZ1lw"
      },
      "source": [
        "# Reflection\n",
        "----\n",
        "\n",
        "## What skills have you demonstrated in completing this notebook?"
      ]
    },
    {
      "cell_type": "markdown",
      "metadata": {
        "id": "MM00hR5aZk1-"
      },
      "source": [
        "Your answer: Working with Numpy Arrays, converting the datatypes to Numpy data types and generating the stats using the Numpy array's statistical methods."
      ]
    },
    {
      "cell_type": "markdown",
      "metadata": {
        "id": "Zgexd27sZ1ly"
      },
      "source": [
        "## What caused you the most difficulty?"
      ]
    },
    {
      "cell_type": "markdown",
      "metadata": {
        "id": "-Y_nrVBwaGXr"
      },
      "source": [
        "Your answer: Initially, I found it difficult to deal with NaN values in the Numpy array."
      ]
    }
  ]
}