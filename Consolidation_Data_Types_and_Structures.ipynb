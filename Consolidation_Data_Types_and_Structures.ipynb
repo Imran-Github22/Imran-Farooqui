{
  "nbformat": 4,
  "nbformat_minor": 0,
  "metadata": {
    "colab": {
      "name": "Consolidation - Data Types and Structures.ipynb",
      "provenance": [],
      "collapsed_sections": [],
      "include_colab_link": true
    },
    "kernelspec": {
      "name": "python3",
      "display_name": "Python 3"
    },
    "language_info": {
      "name": "python"
    }
  },
  "cells": [
    {
      "cell_type": "markdown",
      "metadata": {
        "id": "view-in-github",
        "colab_type": "text"
      },
      "source": [
        "<a href=\"https://colab.research.google.com/github/Imran-Github22/Programming-For-Data/blob/main/Consolidation_Data_Types_and_Structures.ipynb\" target=\"_parent\"><img src=\"https://colab.research.google.com/assets/colab-badge.svg\" alt=\"Open In Colab\"/></a>"
      ]
    },
    {
      "cell_type": "markdown",
      "metadata": {
        "id": "7iQyKP-SQiw1"
      },
      "source": [
        "# Consolidation Exercises and Challenges for Data Types and Data Structures\n",
        "\n",
        "\n",
        "---\n"
      ]
    },
    {
      "cell_type": "markdown",
      "metadata": {
        "id": "Vi93h5I4QnKs"
      },
      "source": [
        "This set of exercises focuses on:\n",
        "* lists and tuples\n",
        "* dictionaries\n",
        "* datetime library\n",
        "* working with strings\n",
        "\n",
        "The following challenges present more complex problems and challenges to develop your skills."
      ]
    },
    {
      "cell_type": "markdown",
      "metadata": {
        "id": "MIDLi7CNR034"
      },
      "source": [
        "---\n",
        "### Exercise 1 - String repetition\n",
        "\n",
        "Write a function called repeat_two_letters() which will:\n",
        "\n",
        "*  ask the user to enter a word\n",
        "*  assign the last two letters of the word to a variable called **last_two**\n",
        "*  assign a string made of 5 copies of `last_two` (*Hint*: `last_two` * 5 will do it) to a variable called five_copies\n",
        "*  print five_copies\n"
      ]
    },
    {
      "cell_type": "code",
      "metadata": {
        "id": "gS6GJdXbQfHp",
        "colab": {
          "base_uri": "https://localhost:8080/"
        },
        "outputId": "e62f27b5-0c22-40fa-d930-10a15f0fa4f9"
      },
      "source": [
        "def repeat_last_two_letters(word):\n",
        "  # add your code below here to input a word and make a string of the last 2 letters.\n",
        "  last_two = word[-2:] * 5\n",
        "  print(last_two)\n",
        "  return(last_two)\n",
        "\n",
        "# run and test repeat_last_two_letters(\"Data\")\n",
        "actual = repeat_last_two_letters(\"Data\")\n",
        "expected = \"tatatatata\"\n",
        "if actual == expected:\n",
        "  print(\"Test passed\", actual)\n",
        "else:\n",
        "  print(\"Test failed\", \"expected\", expected, \"got\", actual)"
      ],
      "execution_count": 17,
      "outputs": [
        {
          "output_type": "stream",
          "name": "stdout",
          "text": [
            "tatatatata\n",
            "Test passed tatatatata\n"
          ]
        }
      ]
    },
    {
      "cell_type": "markdown",
      "metadata": {
        "id": "Yy24sL0bUtpF"
      },
      "source": [
        "---\n",
        "###Exercise 2 - converting String to lower case\n",
        "\n",
        "Write a function called convert_three_upper(month) which will:\n",
        "\n",
        "*  assign the value “january” to a variable called month\n",
        "*  assign the first three characters of month to a variable called month_short\n",
        "*  convert month_short to upper case and store the result back in month_short\n",
        "*  assign the rest of the characters to a variable called month_rest\n",
        "*  join month_short and month_rest together and store the result back into the variable month\n",
        "*  return month"
      ]
    },
    {
      "cell_type": "code",
      "metadata": {
        "id": "YqlQqPIqUtyr",
        "colab": {
          "base_uri": "https://localhost:8080/"
        },
        "outputId": "99097854-2a4b-4db4-f26e-067829edf20c"
      },
      "source": [
        "def convert_three_upper(month):\n",
        "  # add your code below here to find first 3 chars of a month and capitalise it\n",
        "  month_short = month[:3]\n",
        "  month_short = month_short.upper()\n",
        "  month_rest = month[3:]\n",
        "  month = month_short + month_rest\n",
        "  return month\n",
        "  \n",
        "# run and test convert_three_upper(\"january\")\n",
        "actual = convert_three_upper(\"january\")\n",
        "expected = \"JANuary\"\n",
        "if actual == expected:\n",
        "  print(\"Test passed\", actual)\n",
        "else:\n",
        "  print(\"Test failed\", \"expected\", expected, \"got\", actual)"
      ],
      "execution_count": 18,
      "outputs": [
        {
          "output_type": "stream",
          "name": "stdout",
          "text": [
            "Test passed JANuary\n"
          ]
        }
      ]
    },
    {
      "cell_type": "markdown",
      "metadata": {
        "id": "YnRHf1-tJn9V"
      },
      "source": [
        "---\n",
        "###Exercise 3 - item tuples\n",
        "\n",
        "Write a function which will:\n",
        "\n",
        "create a new dictionary containing the colour codes for red, green, blue, black and white\n",
        "* 'red' - '#FF0000'\n",
        "* 'green' - '#008000'\n",
        "* 'blue' - '#0000FF'\n",
        "* 'black' - '#000000'\n",
        "* 'white' - '#FFFFFF'\n",
        "\n",
        "print the key/value pairs of a dictionary as a list of tuples\n",
        "\n",
        "*Hint: iterate through `colours.items()`*"
      ]
    },
    {
      "cell_type": "code",
      "metadata": {
        "id": "a1-FD3uXJrTp",
        "colab": {
          "base_uri": "https://localhost:8080/"
        },
        "outputId": "b6a288c3-a479-4a18-b8f9-44d5e7f88fe4"
      },
      "source": [
        "def list_item_tuples():\n",
        "  # write a function that will create a dictionary entry containig the colour codes & print key/value pairs\n",
        "  colours = {'red':'#FF0000', 'green' : '#008000', 'blue' : '#0000FF', 'black' : '#000000', 'white' : '#FFFFFF'}\n",
        "  print(colours.items())\n",
        "\n",
        "\n",
        "# run the function list_item_tuples() and test by observation\n",
        "list_item_tuples()"
      ],
      "execution_count": 19,
      "outputs": [
        {
          "output_type": "stream",
          "name": "stdout",
          "text": [
            "dict_items([('red', '#FF0000'), ('green', '#008000'), ('blue', '#0000FF'), ('black', '#000000'), ('white', '#FFFFFF')])\n"
          ]
        }
      ]
    },
    {
      "cell_type": "markdown",
      "metadata": {
        "id": "X-GWuDxOJ9fB"
      },
      "source": [
        "---\n",
        "###Exercise 4 - check if empty\n",
        "\n",
        "Taken from https://w3resource.com\n",
        "\n",
        "Write a function which will check if a dictionary is empty or not\n",
        "\n",
        "*Hint: you can use `bool(dictionary_name)`, if the dictionary is empty then `bool(dictionary_name)` will be false*\n",
        "\n",
        "Test 1 sample data: {}\n",
        "\n",
        "Expected output: Dictionary is empty\n",
        "\n",
        "Test 2 sample data:\n",
        "{\"name\":\"Groucho\", \"occupation\":\"comedian\"}\n",
        "\n",
        "Expected output:\n",
        "Dictionary is not empty"
      ]
    },
    {
      "cell_type": "code",
      "metadata": {
        "id": "jg-1GShUJ98h",
        "colab": {
          "base_uri": "https://localhost:8080/"
        },
        "outputId": "197b6be9-480e-48d2-c8b9-699b3ebef1cd"
      },
      "source": [
        "def check_dict_empty(dict):\n",
        "  # write a function to check if a dictionary is empty or not    \n",
        "#    colour_codes = {\n",
        "#      'red':'#FF0000',\n",
        " #     'green':'#008000' ,\n",
        " #     'blue': '#0000FF',\n",
        " #     'black':'#000000',\n",
        " #     'white':'#FFFFFF'\n",
        " #   }\n",
        "    return bool(dict)\n",
        "\n",
        "# run and test the function check_dict_empty(dict) with an empty dictionary\n",
        "actual = check_dict_empty({})\n",
        "expected = False\n",
        "if actual == expected:\n",
        "  print(\"Test 1 passed\", actual)\n",
        "else:\n",
        "  print(\"Test 1 failed\", \"expected\", expected, \"got\", actual)\n",
        "\n",
        "# run and test the function check_dict_empty(dict) with a non-empty dictionary\n",
        "actual = check_dict_empty({'red':'#FF0000','green':'#008000','blue': '#0000FF','black':'#000000','white':'#FFFFFF'})\n",
        "expected = True\n",
        "if actual == expected:\n",
        "  print(\"Test 2 passed\", actual)\n",
        "else:\n",
        "  print(\"Test 2 failed\", \"expected\", expected, \"got\", actual)"
      ],
      "execution_count": 20,
      "outputs": [
        {
          "output_type": "stream",
          "name": "stdout",
          "text": [
            "Test 1 passed False\n",
            "Test 2 passed True\n"
          ]
        }
      ]
    },
    {
      "cell_type": "markdown",
      "metadata": {
        "id": "nGLU8ZXmJstt"
      },
      "source": [
        "---\n",
        "###Before you do the next 2 consolidation exercises..\n",
        "\n",
        "run the code below:"
      ]
    },
    {
      "cell_type": "code",
      "metadata": {
        "id": "Z0zVYmQJJtBd"
      },
      "source": [
        "from random import randint, choice\n",
        "\n",
        "def get_num_list():\n",
        "  num_list = [randint(1,50) for n in range(100)] #num_list = [randint(1,100) for n in range(1000)]\n",
        "  return num_list\n",
        "\n",
        "def get_protected_characteristics():\n",
        "  characteristics_tuple = ('age','disability','gender reassignment','marriage and civil partnership','pregnancy and maternity','race','religion or belief','sex','sexual orientation')\n",
        "  return characteristics_tuple\n",
        "\n",
        "def get_protected_characteristic_list(protected_characteristics):\n",
        "  char_list = [choice(protected_characteristics) for ch in range(randint(1,5000))]\n",
        "  return char_list\n",
        "\n",
        "nums = get_num_list()\n",
        "protected_characteristics = get_protected_characteristics()\n",
        "characteristics = get_protected_characteristic_list(protected_characteristics)\n"
      ],
      "execution_count": 21,
      "outputs": []
    },
    {
      "cell_type": "markdown",
      "metadata": {
        "id": "kecDmuKLGTge"
      },
      "source": [
        "---\n",
        "###Exercise 5 - characteristic counts\n",
        "\n",
        "Write a function which will:\n",
        "*  iterate through the `protected_characteristics` tuple and for each **characteristic**:\n",
        "*   *   count the number of occurrences of that `characteristic` in the `characteristics` list\n",
        "*   *   print the `protected_characteristic` and the **count**  \n",
        "\n",
        "**Example expected output**:\n",
        "\n",
        "age 100  \n",
        "disability 120  \n",
        "gender reassignment 120  \n",
        "marriage and civil partnership 111  \n",
        "pregnancy and maternity 103  \n",
        "race 106  \n",
        "religion or belief 95  \n",
        "sex 110  \n",
        "sexual orientation 113  \n",
        "\n",
        "Extra learning:  you can read [here](https://thispointer.com/python-how-to-pad-strings-with-zero-space-or-some-other-character/) how to justify the printed characteristic so that the output is organised into two columns as shown below:  \n",
        "![tabulated output](https://drive.google.com/uc?id=1CCXfX6K5ZeDefnq7vUsqxCDmqvcfY8Mz)\n",
        "\n",
        "\n"
      ]
    },
    {
      "cell_type": "code",
      "metadata": {
        "id": "3B0RaPcDG19c",
        "colab": {
          "base_uri": "https://localhost:8080/"
        },
        "outputId": "bc07b65a-10ef-467d-efa0-60dd069a6133"
      },
      "source": [
        "def count_characteristics():\n",
        "  #add code here\n",
        "  print(\"Protected characteristic     Frequency\")\n",
        "  for item in protected_characteristics:\n",
        "    print(item, \"  \", characteristics.count(item))\n",
        "\n",
        "  \n",
        "# run the count_characteristics() function and observe the result\n",
        "count_characteristics()"
      ],
      "execution_count": 22,
      "outputs": [
        {
          "output_type": "stream",
          "name": "stdout",
          "text": [
            "Protected characteristic     Frequency\n",
            "age    465\n",
            "disability    472\n",
            "gender reassignment    480\n",
            "marriage and civil partnership    513\n",
            "pregnancy and maternity    486\n",
            "race    480\n",
            "religion or belief    480\n",
            "sex    526\n",
            "sexual orientation    510\n"
          ]
        }
      ]
    },
    {
      "cell_type": "markdown",
      "metadata": {
        "id": "jDiO1xYYG1iS"
      },
      "source": [
        "---\n",
        "###Exercise 6 - characteristics statistics\n",
        "\n",
        "Assuming that the `characteristics` list may have been taken from a study of cases that have been taken to court in relation to the Equality Act.  \n",
        "\n",
        "Write a function with the parameter characteristic (a single protected characteristic) which will:\n",
        "*   return the characteristic, its frequency and the percentage that this frequency is of the whole population."
      ]
    },
    {
      "cell_type": "code",
      "metadata": {
        "id": "KKAI_tYvGVL9",
        "colab": {
          "base_uri": "https://localhost:8080/"
        },
        "outputId": "10338ecc-19c0-4a80-c607-ac70fcdaf2a4"
      },
      "source": [
        "def get_characteristic_frequency(characteristic):\n",
        "  #add code here to find the frequency and percentage of the whole\n",
        "  freq = characteristics.count(characteristic)\n",
        "  pFreq = freq / len(characteristics) * 100\n",
        "  return str(characteristic) + \", \" + str(freq) + \", \" + str(round(pFreq, 2)) + \"%\" \n",
        "\n",
        "\n",
        "# run the function get_characteristic_frequency(\"gender reassignment\") and observe the results\n",
        "print(get_characteristic_frequency(\"gender reassignment\"))"
      ],
      "execution_count": 23,
      "outputs": [
        {
          "output_type": "stream",
          "name": "stdout",
          "text": [
            "gender reassignment, 480, 10.88%\n"
          ]
        }
      ]
    },
    {
      "cell_type": "markdown",
      "metadata": {
        "id": "22Rhwx2Sb1Ey"
      },
      "source": [
        "---\n",
        "### Optional extra practice\n",
        "\n",
        "There are some similar and some more challenging exercises [here](https://www.w3resource.com/python-exercises/date-time-exercise/) if you would like to practice more. The site has its own editor."
      ]
    }
  ]
}