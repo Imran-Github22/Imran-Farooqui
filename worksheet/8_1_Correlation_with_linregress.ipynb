{
  "nbformat": 4,
  "nbformat_minor": 0,
  "metadata": {
    "colab": {
      "name": "8.1. Correlation with linregress",
      "provenance": [],
      "collapsed_sections": [],
      "include_colab_link": true
    },
    "kernelspec": {
      "name": "python3",
      "display_name": "Python 3"
    },
    "language_info": {
      "name": "python"
    }
  },
  "cells": [
    {
      "cell_type": "markdown",
      "metadata": {
        "id": "view-in-github",
        "colab_type": "text"
      },
      "source": [
        "<a href=\"https://colab.research.google.com/github/Imran-Github22/Programming-For-Data/blob/main/8_1_Correlation_with_linregress.ipynb\" target=\"_parent\"><img src=\"https://colab.research.google.com/assets/colab-badge.svg\" alt=\"Open In Colab\"/></a>"
      ]
    },
    {
      "cell_type": "markdown",
      "metadata": {
        "id": "rM0pH87Y4dOV"
      },
      "source": [
        "# Describing the data relatively and visually\n",
        "---\n",
        "\n",
        "This worksheet introduces **scipy** library\n",
        "\n",
        "A library of functions for interpolating, optimising, linear regression, etc  \n",
        "\n",
        "---\n",
        "\n",
        "A dataset will be read into a dataframe, cleaned, wrangled and so prepared for summarising and the telling of stories through visualisations and summaries.\n",
        "\n",
        "So far we have covered statistical measures over an individual series.  Linear regression reports correlation between the values in two series.\n",
        "\n",
        "To get the results of a linear regression:  \n",
        "*  import the `linregress` function from the `scipy.stats` package \n",
        "*  run the `linregress` function with the two axes assigning the result to a variable (e.g. `regression`) \n",
        "\n",
        "The result of the linregress function is a set of variables:  \n",
        "*  `slope`, `intercept` - the gradient and y-intercept of the regression line (the line of best fit between the two series) are in `regression.slope` and `regression.intercept`\n",
        "*  `rvalue` - the correlation coefficient - this indicates how closely the line drawn from the linear regression data fits the actual data, the closer to 1 the better the fit\n",
        "*  `pvalue` - the probability of error if the regression line is extended to predict\n",
        "*  the standard error is in `regression.stderr` and is the average distance of each data point from the lineof best fit \n",
        "\n",
        "\n",
        "Further information [here](https://docs.scipy.org/doc/scipy/reference/generated/scipy.stats.linregress.html)\n"
      ]
    },
    {
      "cell_type": "markdown",
      "metadata": {
        "id": "A60PQ510HHMQ"
      },
      "source": [
        "### Exercise 1 - is age closely related to income?\n",
        "---\n",
        "\n",
        "Use linear regression to compare the columns 'Age' and 'Income' in the data set 'Income-Data' at this url:  \n",
        "https://github.com/futureCodersSE/working-with-data/blob/main/Data%20sets/Income-Data.xlsx?raw=true  \n",
        "\n",
        "To do this:\n",
        "*  import the pandas library  \n",
        "\n",
        "\n",
        "*  import the **linregress** function from the library **scipy.stats**  (`from scipy.stats import linregress`)  \n",
        "\n",
        "\n",
        "*  open the Excel file at the url above, using the sheet_name '`county-level`', reading the data into a dataframe called **county_level_df**  \n",
        "\n",
        "\n",
        "*  create a variable called **x** and assign the '`Age`' column of the `county_level_df` dataframe   \n",
        "\n",
        "\n",
        "*  create a variable called **y** and assign the '`Income`' column of the `county_level_df` dataframe   \n",
        "\n",
        "\n",
        "*  create a variable called **regression** and assign the result of running the linregress function with `x`, `y` as its parameters ( `linregress(x,y)` )   \n",
        "\n",
        "\n",
        "*  display the regression  \n",
        "(*Expected output:  LinregressResult(slope=-0.31433084434233205, intercept=72.78388856978748, rvalue=-0.14787411576068246, pvalue=0.5581637648902298, stderr=0.5255739814332189*)  \n",
        "\n",
        "\n",
        "*  display the slope (`regression.slope`)  \n",
        "(*Expected output: -0.31433084434233205 - this indicates that the line plotting Age against Income slopes downward implying that income reduces with age*)  \n",
        "\n",
        "\n",
        "*  display the intercept (`regression.intercept`)  \n",
        "(*Expected output: 72.78388856978748 - this indicates that income level starts at 72.78388856978748 and reduces from there by age*)    \n",
        "\n",
        "\n",
        "*  display the rvalue (which indicates how closely income follows age and whether it goes up as age goes up or goes down as age goes up "
      ]
    },
    {
      "cell_type": "code",
      "metadata": {
        "id": "B7-yqi8n4Z3s",
        "colab": {
          "base_uri": "https://localhost:8080/",
          "height": 86
        },
        "outputId": "6809c5df-5022-42ec-c435-918dffda0a37"
      },
      "source": [
        "from numpy.lib.function_base import disp\n",
        "#from scipy.stats import linregress\n",
        "url = 'https://github.com/futureCodersSE/working-with-data/blob/main/Data%20sets/Income-Data.xlsx?raw=true'\n",
        "\n",
        "def create_dataframe(url, db_type='csv', sheetname=None):\n",
        "  import pandas as pd\n",
        "  if db_type == 'csv':\n",
        "    df = pd.read_csv(url)\n",
        "  elif db_type == 'excel':\n",
        "    if sheetname == None:\n",
        "      df = pd.read_excel(url)\n",
        "    else:\n",
        "      df = pd.read_excel(url, sheet_name=sheetname)\n",
        "  else:\n",
        "    df = pd.read_csv(url)\n",
        "  return df\n",
        "\n",
        "def show_regression(x, y):\n",
        "  from scipy.stats import linregress\n",
        "  # Calculate regression for the variables\n",
        "  regression = linregress(x,y)\n",
        "  # Get slope value\n",
        "  slope = regression.slope\n",
        "  # Get intercept value\n",
        "  intercept = regression.intercept\n",
        "  # Get r value\n",
        "  r_value = regression.rvalue\n",
        "  # Get p value\n",
        "  p_value = regression.pvalue\n",
        "  # Return and display the values\n",
        "  return regression, slope, intercept, r_value, p_value\n",
        "\n",
        "# Create the DataFrame\n",
        "county_level_df = create_dataframe(url, 'excel', 'county-level')\n",
        "# Create x, y variables\n",
        "x = county_level_df['Age']\n",
        "y = county_level_df['Income']\n",
        "# Show regression\n",
        "regr_values, slope, intercept, r_value, p_value =  show_regression(x, y)\n",
        "\n",
        "display(regr_values)\n",
        "display(slope)\n",
        "display(intercept)\n",
        "display(r_value)"
      ],
      "execution_count": 1,
      "outputs": [
        {
          "output_type": "display_data",
          "data": {
            "text/plain": [
              "LinregressResult(slope=-0.31433084434233205, intercept=72.78388856978748, rvalue=-0.14787411576068246, pvalue=0.5581637648902298, stderr=0.5255739814332189)"
            ]
          },
          "metadata": {}
        },
        {
          "output_type": "display_data",
          "data": {
            "text/plain": [
              "-0.31433084434233205"
            ]
          },
          "metadata": {}
        },
        {
          "output_type": "display_data",
          "data": {
            "text/plain": [
              "72.78388856978748"
            ]
          },
          "metadata": {}
        },
        {
          "output_type": "display_data",
          "data": {
            "text/plain": [
              "-0.14787411576068246"
            ]
          },
          "metadata": {}
        }
      ]
    },
    {
      "cell_type": "markdown",
      "metadata": {
        "id": "AXiD7hVyQEe9"
      },
      "source": [
        "### Exercise 2 - Could Population predict Income?  \n",
        "---\n",
        "\n",
        "Repeat the steps in exercise 1 to see if there is a clearer correlation between Population and Income.  \n",
        "\n",
        "Add a statement in the text cell to describe your findings.\n",
        "\n",
        "**Expected output**:   \n",
        "0.013558605755058871\n"
      ]
    },
    {
      "cell_type": "code",
      "metadata": {
        "id": "S349ZIiIQSvy",
        "colab": {
          "base_uri": "https://localhost:8080/"
        },
        "outputId": "bc3584a0-3e9e-4739-eb0e-5a0ac6c15b83"
      },
      "source": [
        "# Reassign the x variable\n",
        "county_level_df = county_level_df.sort_values(by=['Population'], ascending=True)\n",
        "x = county_level_df['Population']\n",
        "y = county_level_df['Income']\n",
        "# Show the regression\n",
        "show_regression(x, y)"
      ],
      "execution_count": 2,
      "outputs": [
        {
          "output_type": "execute_result",
          "data": {
            "text/plain": [
              "(LinregressResult(slope=0.05737132629483762, intercept=60.95698211316883, rvalue=0.11644142628402862, pvalue=0.6454275157910035, stderr=0.12233846479490115),\n",
              " 0.05737132629483762,\n",
              " 60.95698211316883,\n",
              " 0.11644142628402862,\n",
              " 0.6454275157910035)"
            ]
          },
          "metadata": {},
          "execution_count": 2
        }
      ]
    },
    {
      "cell_type": "markdown",
      "metadata": {
        "id": "KHLucNuAXiyJ"
      },
      "source": [
        "There is positive but weak correlation between Population and Income suggesting as the Population increases the Income increases."
      ]
    },
    {
      "cell_type": "markdown",
      "metadata": {
        "id": "zZXvmsL2SbA-"
      },
      "source": [
        "### Exercise 3 - Does Stress predict Wellbeing?\n",
        "---\n",
        "\n",
        "Repeat the steps in Exercises 1 & 2 to see if you can find a statistically significant result.\n",
        "\n",
        "Add a statement in the text cell to describe your findings\n",
        "\n",
        "* Read the dataset: \"https://github.com/lilaceri/Working-with-data-/blob/b157a2feceb7709cf82426932385706d65446270/Data%20Sets%20for%20code%20divisio/Positive_Psychology_2017.csv?raw=true\"\n",
        "\n",
        "* perform linear regression  \n",
        "* look at r_squared and pvalue to get an idea of how predictive and significant these variables are\n",
        "\n",
        "* save slope and intercepts in variables for later \n",
        "\n",
        "Challenge:  \n",
        "Write a function that checks the significance of a regression and displays a message indicating the result.\n",
        "\n",
        "**Test output**:  \n",
        "LinregressResult(slope=-0.6279050248852254, intercept=37.713488379900454, rvalue=-0.6713959740851134, pvalue=6.084540561441803e-07, stderr=0.10694652962765022)  \n",
        "r sqr = 0.4507725540176983  \n",
        "model is significant, p < .05:  6.084540561441803e-07  "
      ]
    },
    {
      "cell_type": "code",
      "metadata": {
        "id": "pbZf_2dITkqX",
        "colab": {
          "base_uri": "https://localhost:8080/",
          "height": 69
        },
        "outputId": "36aca3a8-69f4-46c4-cbb9-e02f2240aa59"
      },
      "source": [
        "# Create the DataFrame\n",
        "url = 'https://github.com/lilaceri/Working-with-data-/blob/b157a2feceb7709cf82426932385706d65446270/Data%20Sets%20for%20code%20divisio/Positive_Psychology_2017.csv?raw=true'\n",
        "well_df = create_dataframe(url)\n",
        "\n",
        "well_df.sort_values(by=['Stress'], ascending=True, inplace=True)\n",
        "# Create x, y variable\n",
        "x = well_df['Stress']\n",
        "y = well_df['Wellbeing']\n",
        "\n",
        "# Regression\n",
        "regr_values, slope, intercept, r_value, p_value = show_regression(x,y)\n",
        "\n",
        "# Check the significance of the regression\n",
        "def show_significance(p_value):\n",
        "  if p_value < 0.05:\n",
        "    print(f'The model is significant since the p value: {p_value} < 0.05')\n",
        "  else:\n",
        "    print(f'The model is insignificant since the p value: {p_value} >= 0.05')\n",
        "\n",
        "# R squared\n",
        "r_sqr = r_value * r_value\n",
        "\n",
        "# Display result\n",
        "display(regr_values)\n",
        "print(f'r_sqr: {r_sqr}')\n",
        "show_significance(p_value)\n",
        "\n"
      ],
      "execution_count": 3,
      "outputs": [
        {
          "output_type": "display_data",
          "data": {
            "text/plain": [
              "LinregressResult(slope=-0.6279050248852258, intercept=37.71348837990046, rvalue=-0.6713959740851138, pvalue=6.084540561441725e-07, stderr=0.1069465296276502)"
            ]
          },
          "metadata": {}
        },
        {
          "output_type": "stream",
          "name": "stdout",
          "text": [
            "r_sqr: 0.4507725540176987\n",
            "The model is significant since the p value: 6.084540561441725e-07 < 0.05\n"
          ]
        }
      ]
    },
    {
      "cell_type": "markdown",
      "source": [
        "# Create some charts and make some predictions from regressions\n",
        "\n",
        "1.  Using what you know from completing the Visualisation worksheets (matplotlib and Seaborn), plot the various regression results in a set of charts.\n",
        "2.  Use the slope and intercept to calculate a prediction for a reasonable value (e.g. predict an income for a given age using the slope and intercept from the regression to calculate income from the formula `age * slope + intercept`"
      ],
      "metadata": {
        "id": "ZZPFyMur8gxM"
      }
    },
    {
      "cell_type": "code",
      "metadata": {
        "id": "9puphgbB1tUY",
        "colab": {
          "base_uri": "https://localhost:8080/",
          "height": 348
        },
        "outputId": "1bf7465d-499c-4c4f-f719-63735b4490f9"
      },
      "source": [
        "# Draw the plot\n",
        "def show_corr_scatterplot(x, y, slope, intercept, xlabel=None, ylabel=None):\n",
        "  import matplotlib.pyplot as plt  \n",
        "  # Draw the scatter graph\n",
        "  plt.scatter(x,y)\n",
        "  plt.xlabel(xlabel)\n",
        "  plt.ylabel(ylabel)\n",
        "  # Draw the regression line and show the graph\n",
        "  plt.plot(x, slope*x + intercept, color='red')\n",
        "  plt.show()\n",
        "\n",
        "\n",
        "# Create the Wellbeing DataFrame and sort values\n",
        "url = 'https://github.com/lilaceri/Working-with-data-/blob/b157a2feceb7709cf82426932385706d65446270/Data%20Sets%20for%20code%20divisio/Positive_Psychology_2017.csv?raw=true'\n",
        "well_df = create_dataframe(url)\n",
        "well_df.drop_duplicates(inplace=True)\n",
        "well_df.sort_values(by=['Stress'], ascending=True, inplace=True)\n",
        "\n",
        "# Create x, y variable\n",
        "x = well_df['Stress']\n",
        "y = well_df['Wellbeing']\n",
        "\n",
        "# Get regression values\n",
        "regr_values, slope, intercept, r_value, p_value = show_regression(x,y)\n",
        "\n",
        "# Display\n",
        "show_corr_scatterplot(x, y, slope, intercept, x.name, y.name)\n",
        "\n",
        "# Few esimated predictions here\n",
        "x_max = x.max()\n",
        "x_est = x_max + 10\n",
        "y_est = round((slope * x_est + intercept), 2)\n",
        "\n",
        "print(f'Since there is a strong negative correlation between \\\n",
        "\\nStress and Wellbeing with r value: {r_value}, \\\n",
        "\\nif for example, the Stress level increases from {x_max} level to {x_est} level \\\n",
        "\\nthen the Wellbeing is estimated to decrease to {y_est} points.')"
      ],
      "execution_count": 7,
      "outputs": [
        {
          "output_type": "display_data",
          "data": {
            "image/png": "[encoded data removed]",
            "text/plain": [
              "<Figure size 432x288 with 1 Axes>"
            ]
          },
          "metadata": {
            "needs_background": "light"
          }
        },
        {
          "output_type": "stream",
          "name": "stdout",
          "text": [
            "Since there is a strong negative correlation between \n",
            "Stress and Wellbeing with r value: -0.6713959740851138, \n",
            "if for example, the Stress level increases from 37 level to 47 level \n",
            "then the Wellbeing is estimated to decrease to 8.2 points.\n"
          ]
        }
      ]
    },
    {
      "cell_type": "code",
      "source": [
        "url = 'https://github.com/futureCodersSE/working-with-data/blob/main/Data%20sets/Income-Data.xlsx?raw=true'\n",
        "county_level_df = create_dataframe(url, db_type='excel', sheetname='county-level')\n",
        "# Create x, y variable\n",
        "x = county_level_df['Age']\n",
        "y = county_level_df['Income']\n",
        "\n",
        "# Get regression values\n",
        "regr_values, slope, intercept, r_value, p_value = show_regression(x,y)\n",
        "# Display\n",
        "show_corr_scatterplot(x, y, slope, intercept, x.name, y.name)\n",
        "\n",
        "# Few esimated predictions here\n",
        "x_max = x.max()\n",
        "x_est = x_max + 10\n",
        "y_est = round((slope * x_est + intercept), 2)\n",
        "\n",
        "print(f'Since there is a weak negative correlation between \\\n",
        "\\nAge and Income with r value: {r_value}, \\\n",
        "\\nif for example, the Age increases from {x_max} years to {x_est} years \\\n",
        "\\nthen the Income is estimated to decrease to {y_est} points.')"
      ],
      "metadata": {
        "colab": {
          "base_uri": "https://localhost:8080/",
          "height": 348
        },
        "id": "SiUbR2pTeE8e",
        "outputId": "73a88d12-8f4a-4495-e48a-070eaa722502"
      },
      "execution_count": 5,
      "outputs": [
        {
          "output_type": "display_data",
          "data": {
            "image/png": "[encoded data removed]",
            "text/plain": [
              "<Figure size 432x288 with 1 Axes>"
            ]
          },
          "metadata": {
            "needs_background": "light"
          }
        },
        {
          "output_type": "stream",
          "name": "stdout",
          "text": [
            "Since there is a weak negative correlation between \n",
            "Age and Income with r value: -0.14787411576068246, \n",
            "if for example, the Age increases from 42.0 years to 52.0 years \n",
            "then the Income is estimated to decrease to 56.44 points.\n"
          ]
        }
      ]
    },
    {
      "cell_type": "markdown",
      "metadata": {
        "id": "FWli4XMmsAPo"
      },
      "source": [
        "# Further reference on linear regression\n",
        "\n",
        "[at statisticalsolutions.com](https://www.statisticssolutions.com/free-resources/directory-of-statistical-analyses/what-is-linear-regression/)"
      ]
    }
  ]
}