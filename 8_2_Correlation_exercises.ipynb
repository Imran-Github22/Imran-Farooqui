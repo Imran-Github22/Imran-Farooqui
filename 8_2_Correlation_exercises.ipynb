{
  "nbformat": 4,
  "nbformat_minor": 0,
  "metadata": {
    "kernelspec": {
      "display_name": "Python 3",
      "language": "python",
      "name": "python3"
    },
    "language_info": {
      "codemirror_mode": {
        "name": "ipython",
        "version": 3
      },
      "file_extension": ".py",
      "mimetype": "text/x-python",
      "name": "python",
      "nbconvert_exporter": "python",
      "pygments_lexer": "ipython3",
      "version": "3.8.5"
    },
    "colab": {
      "name": "8.2. Correlation exercises.ipynb",
      "provenance": [],
      "collapsed_sections": [],
      "include_colab_link": true
    }
  },
  "cells": [
    {
      "cell_type": "markdown",
      "metadata": {
        "id": "view-in-github",
        "colab_type": "text"
      },
      "source": [
        "<a href=\"https://colab.research.google.com/github/Imran-Github22/Programming-For-Data/blob/main/8_2_Correlation_exercises.ipynb\" target=\"_parent\"><img src=\"https://colab.research.google.com/assets/colab-badge.svg\" alt=\"Open In Colab\"/></a>"
      ]
    },
    {
      "cell_type": "markdown",
      "metadata": {
        "id": "7raIDLBmCVNJ"
      },
      "source": [
        "# Describing the data relatively\n",
        "---\n",
        "This worksheet has a set of exercises for practising using the linregress function.  The function will run a linear regression algorithm (or model) to produce data that can be used for predictions."
      ]
    },
    {
      "cell_type": "markdown",
      "metadata": {
        "id": "DVgw-x5VCVNN"
      },
      "source": [
        "### Exercise 1 - Clean the data \n",
        "---\n",
        "Using the positive psychology dataset - \"https://github.com/lilaceri/Working-with-data-/blob/b157a2feceb7709cf82426932385706d65446270/Data%20Sets%20for%20code%20divisio/Positive_Psychology_2017.csv?raw=true\"\n",
        "* Read the data and display info \n",
        "* Visually check the summary to see which columns have null values\n",
        "* Remove columns with a significant number of null values\n",
        "\n",
        "**Expected Output**\n",
        "```\n",
        "<class 'pandas.core.frame.DataFrame'>\n",
        "RangeIndex: 44 entries, 0 to 43\n",
        "Data columns (total 13 columns):\n",
        " #   Column       Non-Null Count  Dtype  \n",
        "---  ------       --------------  -----  \n",
        " 0   Age          44 non-null     int64  \n",
        " 1   English      44 non-null     object \n",
        " 2   sex          44 non-null     object \n",
        " 3   origin       44 non-null     object \n",
        " 4   Ukresidence  44 non-null     float64\n",
        " 5   MAAS         44 non-null     float64\n",
        " 6   Resilliance  44 non-null     int64  \n",
        " 7   Wellbeing    44 non-null     int64  \n",
        " 8   Stress       44 non-null     int64  \n",
        " 9   selfesteem   44 non-null     int64  \n",
        " 10  LoC          44 non-null     int64  \n",
        " 11  sleep        44 non-null     int64  \n",
        " 12  Year         44 non-null     int64  \n",
        "dtypes: float64(2), int64(8), object(3)\n",
        "memory usage: 4.6+ KB\n",
        "```"
      ]
    },
    {
      "cell_type": "code",
      "metadata": {
        "id": "_U5CsP0ECVNO",
        "colab": {
          "base_uri": "https://localhost:8080/",
          "height": 798
        },
        "outputId": "ed8c044c-b13c-470b-cee7-724456dafdfb"
      },
      "source": [
        "from numpy.lib.function_base import disp\n",
        "from scipy.stats import linregress\n",
        "url = 'https://github.com/lilaceri/Working-with-data-/blob/b157a2feceb7709cf82426932385706d65446270/Data%20Sets%20for%20code%20divisio/Positive_Psychology_2017.csv?raw=true'\n",
        "\n",
        "def create_dataframe(url, db_type='csv', sheetname=None):\n",
        "  import pandas as pd\n",
        "  if db_type == 'csv':\n",
        "    df = pd.read_csv(url)\n",
        "  elif db_type == 'excel':\n",
        "    if sheetname == None:\n",
        "      df = pd.read_excel(url)\n",
        "    else:\n",
        "      df = pd.read_excel(url, sheet_name=sheetname)\n",
        "  else:\n",
        "    df = pd.read_csv(url)\n",
        "  return df\n",
        "\n",
        "# Create the DataFrame\n",
        "psyc_df = create_dataframe(url)\n",
        "# Display info of the original DataFrame\n",
        "display(psyc_df.info())\n",
        "# Drop the column that has the most Nulls\n",
        "psyc_df = psyc_df.drop(columns=['firstlanguage'])\n",
        "\n",
        "print('')\n",
        "print('Cleaned DataFrame:')\n",
        "display(psyc_df.info())"
      ],
      "execution_count": 1,
      "outputs": [
        {
          "output_type": "stream",
          "name": "stdout",
          "text": [
            "<class 'pandas.core.frame.DataFrame'>\n",
            "RangeIndex: 44 entries, 0 to 43\n",
            "Data columns (total 14 columns):\n",
            " #   Column         Non-Null Count  Dtype  \n",
            "---  ------         --------------  -----  \n",
            " 0   Age            44 non-null     int64  \n",
            " 1   English        44 non-null     object \n",
            " 2   firstlanguage  18 non-null     object \n",
            " 3   sex            44 non-null     object \n",
            " 4   origin         44 non-null     object \n",
            " 5   Ukresidence    44 non-null     float64\n",
            " 6   MAAS           44 non-null     float64\n",
            " 7   Resilliance    44 non-null     int64  \n",
            " 8   Wellbeing      44 non-null     int64  \n",
            " 9   Stress         44 non-null     int64  \n",
            " 10  selfesteem     44 non-null     int64  \n",
            " 11  LoC            44 non-null     int64  \n",
            " 12  sleep          44 non-null     int64  \n",
            " 13  Year           44 non-null     int64  \n",
            "dtypes: float64(2), int64(8), object(4)\n",
            "memory usage: 4.9+ KB\n"
          ]
        },
        {
          "output_type": "display_data",
          "data": {
            "text/plain": [
              "None"
            ]
          },
          "metadata": {}
        },
        {
          "output_type": "stream",
          "name": "stdout",
          "text": [
            "\n",
            "Cleaned DataFrame:\n",
            "<class 'pandas.core.frame.DataFrame'>\n",
            "RangeIndex: 44 entries, 0 to 43\n",
            "Data columns (total 13 columns):\n",
            " #   Column       Non-Null Count  Dtype  \n",
            "---  ------       --------------  -----  \n",
            " 0   Age          44 non-null     int64  \n",
            " 1   English      44 non-null     object \n",
            " 2   sex          44 non-null     object \n",
            " 3   origin       44 non-null     object \n",
            " 4   Ukresidence  44 non-null     float64\n",
            " 5   MAAS         44 non-null     float64\n",
            " 6   Resilliance  44 non-null     int64  \n",
            " 7   Wellbeing    44 non-null     int64  \n",
            " 8   Stress       44 non-null     int64  \n",
            " 9   selfesteem   44 non-null     int64  \n",
            " 10  LoC          44 non-null     int64  \n",
            " 11  sleep        44 non-null     int64  \n",
            " 12  Year         44 non-null     int64  \n",
            "dtypes: float64(2), int64(8), object(3)\n",
            "memory usage: 4.6+ KB\n"
          ]
        },
        {
          "output_type": "display_data",
          "data": {
            "text/plain": [
              "None"
            ]
          },
          "metadata": {}
        }
      ]
    },
    {
      "cell_type": "markdown",
      "metadata": {
        "id": "w5_G1iWYCVNP"
      },
      "source": [
        "### Exercise 2 - Check for outliers \n",
        "---\n",
        "We briefly mentioned outliers in the R and stats presentation. An outlier is an abnormal value in the data that is either extremely high or low compared to the rest of the data. Outliers can skew results. \n",
        "\n",
        "A value is considered to be an outlier if it is any of:\n",
        "*  greater than `Q3 + 1.5 * interquartile_range`\n",
        "*  less than `Q1 - 1.5 * interquartile_range`\n",
        "*  more than 2 standard deviations from the mean\n",
        "\n",
        "Q3 = value at 75% of data, Q1 = value at 25% of the data, IQR is the interquartile range, the difference between Q3 and Q1.  \n",
        "\n",
        "We can check for outliers using a Box plot, in which:\n",
        "\n",
        "*  the upper line on the boxplots arm (whisker) is `Q3 + 1.5 * IQR`\n",
        "*  the lower line on the boxplots arm (whisker) is `Q1 - 1.5 * IQR`\n",
        "*  the middle line of the box is the median\n",
        "*  the top of the box is Q3\n",
        "*  the bottom of the box is Q1\n",
        "*  outliers are shown as circles or dots, either above or below the whiskers\n",
        "\n",
        "1. Using either matplotlib or Seaborn, create a boxplot of `Wellbeing` and a separate boxplot of `selfesteem`\n",
        "2. use `plt.show()` to separate the graphs \n",
        "3. Can you see any outliers? Are they high or low?\n",
        "\n",
        "**Expected Output**\n",
        "\n",
        "https://docs.google.com/presentation/d/e/2PACX-1vQBji5MrvtdeXCtP2PJzhPLKqXXuLMYjy4nCIzXpJLoye38IzetN5amZd6pU9e4io3bTUvE6Slg_hIk/pub?start=false&loop=false&delayms=3000\n"
      ]
    },
    {
      "cell_type": "code",
      "metadata": {
        "id": "sLT4pozqCVNQ",
        "colab": {
          "base_uri": "https://localhost:8080/",
          "height": 513
        },
        "outputId": "b3c0b97c-25fd-42ba-8eff-65dcaccc6e0f"
      },
      "source": [
        "# Draw the plot\n",
        "def show_boxplot(x, xlabel=None, ylabel=None):\n",
        "  import matplotlib.pyplot as plt  \n",
        "  # Draw the Boxplot\n",
        "  plt.boxplot(x=x)\n",
        "  plt.xlabel(xlabel)\n",
        "  plt.ylabel(ylabel)\n",
        "  plt.show()\n",
        "\n",
        "# Create the variables\n",
        "w = psyc_df['Wellbeing']\n",
        "s = psyc_df['selfesteem']\n",
        "\n",
        "# Show the boxplot\n",
        "show_boxplot(w, '', 'Wellbeing')\n",
        "show_boxplot(s, '' , 'Self Esteem')"
      ],
      "execution_count": 2,
      "outputs": [
        {
          "output_type": "display_data",
          "data": {
            "image/png": "[encoded data removed]",
            "text/plain": [
              "<Figure size 432x288 with 1 Axes>"
            ]
          },
          "metadata": {
            "needs_background": "light"
          }
        },
        {
          "output_type": "display_data",
          "data": {
            "image/png": "[encoded data removed]",
            "text/plain": [
              "<Figure size 432x288 with 1 Axes>"
            ]
          },
          "metadata": {
            "needs_background": "light"
          }
        }
      ]
    },
    {
      "cell_type": "markdown",
      "metadata": {
        "id": "8VCT8LnOCVNQ"
      },
      "source": [
        "### Exercise 3 - Removing outliers\n",
        "---\n",
        "Create a function called `remove_outliers(df, column)` to remove outliers from a given column in a given dataframe.  Use the function to remove outliers from the `Wellbeing` column.  Then use the function to remove the outliers from the `selfesteem` columns. \n",
        "\n",
        "The function will:\n",
        "\n",
        "1. Store the values for Q1 and Q3 in 2 separate variables   *Hint: you can use `.quantile(0.75)` and `.quantile(0.25)` to get Q3 and Q1 respectively*  \n",
        "2. Calculate the interquartile range(IQR) using `Q3` - `Q1`  \n",
        "3. Create a variable which will store the value for the `upper_limit` (`Q3 + 1.5 * IQR`)  \n",
        "4. Create another variable which assigns the value for the `lower_limit` (`Q1  - 1.5 * IQR`)  \n",
        "5. Filter all rows where values are NOT outliers into a new dataframe called `df_normal`\n",
        "6. Return `df_normal`\n",
        "\n",
        "Run the function twice, once for each column.\n",
        "Show the info for the resulting dataframe\n",
        "\n",
        "**Test output**:  \n",
        "```\n",
        "<class 'pandas.core.frame.DataFrame'>\n",
        "Int64Index: 41 entries, 0 to 43\n",
        "Data columns (total 13 columns):\n",
        " #   Column       Non-Null Count  Dtype  \n",
        "---  ------       --------------  -----  \n",
        " 0   Age          41 non-null     int64  \n",
        " 1   English      41 non-null     object \n",
        " 2   sex          41 non-null     object \n",
        " 3   origin       41 non-null     object \n",
        " 4   Ukresidence  41 non-null     float64\n",
        " 5   MAAS         41 non-null     float64\n",
        " 6   Resilliance  41 non-null     int64  \n",
        " 7   Wellbeing    41 non-null     int64  \n",
        " 8   Stress       41 non-null     int64  \n",
        " 9   selfesteem   41 non-null     int64  \n",
        " 10  LoC          41 non-null     int64  \n",
        " 11  sleep        41 non-null     int64  \n",
        " 12  Year         41 non-null     int64  \n",
        "dtypes: float64(2), int64(8), object(3)\n",
        "memory usage: 4.5+ KB\n",
        "```\n"
      ]
    },
    {
      "cell_type": "code",
      "metadata": {
        "id": "wFvT_TtjCVNR",
        "colab": {
          "base_uri": "https://localhost:8080/",
          "height": 1000
        },
        "outputId": "c7b13085-ae86-4b95-8af3-702af30fe01e"
      },
      "source": [
        "def remove_outliers(df, column):\n",
        "  # Get the quantiles Q1 and Q3\n",
        "  Q1 = df[column].quantile(0.25)\n",
        "  Q3 = df[column].quantile(0.75)\n",
        "  # Calculate the interquartile range IQR = (Q3 - Q1)\n",
        "  IQR = Q3 - Q1\n",
        "  # Calculate the lower and upper limits \n",
        "  upper_limit = Q3 + 1.5 * IQR\n",
        "  lower_limit = Q1 - 1.5 * IQR\n",
        "  # Filter all the rows for the column below the lower_limit\n",
        "  df_t = df[df[column] >= lower_limit]\n",
        "  # Filter all the rows for the column above the upper_limit\n",
        "  df_normal = df_t[df_t[column] <= upper_limit]\n",
        "  return df_normal\n",
        "\n",
        "def show_cleanup_stats(df, column):\n",
        "  # Remove any Outliers from the column\n",
        "  df_rec_nums = len(df)\n",
        "  df_normal = remove_outliers(df, column)\n",
        "  normal_df_rec_nums = len(df_normal)\n",
        "  num_outliers = df_rec_nums - normal_df_rec_nums\n",
        "  print(f\"{num_outliers} outliers found and eliminated from the '{column}' column\")\n",
        "  return df_normal, num_outliers\n",
        "\n",
        "# Recursively check the column for any outliers\n",
        "def get_recurs_clean(df, column, ol=1):\n",
        "  if ol <= 0:\n",
        "    return df\n",
        "  df_normal, oln = show_cleanup_stats(df, column)\n",
        "  return get_recurs_clean(df=df_normal, column=column, ol=oln) \n",
        "\n",
        "# Further clean the DataFrame through pass filtering\n",
        "def get_pass_filtering(df, column_a, column_b):\n",
        "  # Through the first pass filtering\n",
        "  df_normal = get_recurs_clean(df, column_a)\n",
        "  df_normal = get_recurs_clean(df_normal, column_b)\n",
        "  # Through the second pass filtering\n",
        "  i = 0\n",
        "  while i <=1:  \n",
        "    df_normal = get_recurs_clean(df_normal, column_a)\n",
        "    df_normal = get_recurs_clean(df_normal, column_b)\n",
        "    i+=1\n",
        "  return df_normal\n",
        "\n",
        "df_normal = get_pass_filtering(psyc_df, 'Wellbeing', 'selfesteem')\n",
        "display(df_normal.info())\n",
        "\n",
        "# Create the variables\n",
        "w = df_normal['Wellbeing']\n",
        "s = df_normal['selfesteem']\n",
        "\n",
        "# Show the boxplot\n",
        "show_boxplot(w, '', 'Wellbeing')\n",
        "show_boxplot(s, '' , 'Self Esteem')"
      ],
      "execution_count": 3,
      "outputs": [
        {
          "output_type": "stream",
          "name": "stdout",
          "text": [
            "1 outliers found and eliminated from the 'Wellbeing' column\n",
            "2 outliers found and eliminated from the 'Wellbeing' column\n",
            "1 outliers found and eliminated from the 'Wellbeing' column\n",
            "0 outliers found and eliminated from the 'Wellbeing' column\n",
            "1 outliers found and eliminated from the 'selfesteem' column\n",
            "0 outliers found and eliminated from the 'selfesteem' column\n",
            "1 outliers found and eliminated from the 'Wellbeing' column\n",
            "0 outliers found and eliminated from the 'Wellbeing' column\n",
            "0 outliers found and eliminated from the 'selfesteem' column\n",
            "0 outliers found and eliminated from the 'Wellbeing' column\n",
            "0 outliers found and eliminated from the 'selfesteem' column\n",
            "<class 'pandas.core.frame.DataFrame'>\n",
            "Int64Index: 38 entries, 0 to 42\n",
            "Data columns (total 13 columns):\n",
            " #   Column       Non-Null Count  Dtype  \n",
            "---  ------       --------------  -----  \n",
            " 0   Age          38 non-null     int64  \n",
            " 1   English      38 non-null     object \n",
            " 2   sex          38 non-null     object \n",
            " 3   origin       38 non-null     object \n",
            " 4   Ukresidence  38 non-null     float64\n",
            " 5   MAAS         38 non-null     float64\n",
            " 6   Resilliance  38 non-null     int64  \n",
            " 7   Wellbeing    38 non-null     int64  \n",
            " 8   Stress       38 non-null     int64  \n",
            " 9   selfesteem   38 non-null     int64  \n",
            " 10  LoC          38 non-null     int64  \n",
            " 11  sleep        38 non-null     int64  \n",
            " 12  Year         38 non-null     int64  \n",
            "dtypes: float64(2), int64(8), object(3)\n",
            "memory usage: 4.2+ KB\n"
          ]
        },
        {
          "output_type": "display_data",
          "data": {
            "text/plain": [
              "None"
            ]
          },
          "metadata": {}
        },
        {
          "output_type": "display_data",
          "data": {
            "image/png": "[encoded data removed]",
            "text/plain": [
              "<Figure size 432x288 with 1 Axes>"
            ]
          },
          "metadata": {
            "needs_background": "light"
          }
        },
        {
          "output_type": "display_data",
          "data": {
            "image/png": "[encoded data removed]",
            "text/plain": [
              "<Figure size 432x288 with 1 Axes>"
            ]
          },
          "metadata": {
            "needs_background": "light"
          }
        }
      ]
    },
    {
      "cell_type": "markdown",
      "metadata": {
        "id": "wRs6sfE-CVNR"
      },
      "source": [
        "### Exercise 4 - Checking for normality\n",
        "---\n",
        "\n",
        "Linear regressions assume that the data is normally distributed (Gaussian) and therefore has the bell curved shape and a similar mean and median (this would be true if the mean was centred like it is in Gaussian data). \n",
        "\n",
        "1. Use Seaborn's **distplot** to check the shape of the `Wellbeing` and `selfesteem` columns.  Do they look normally distributed (Gaussian)?\n",
        "\n",
        "`sns.distplot(dataframe['column'])`\n",
        "\n",
        "*Hint: if you add, `bins= ...` as a parameter, you can set the number of bins (bars) in your chart*\n",
        "\n",
        "2. Compare the mean and median of `Wellbeing` - are they similar? \n",
        "3. Compare the mean and median of `selfesteem` - are they similar?\n",
        "\n",
        "\n",
        "\n"
      ]
    },
    {
      "cell_type": "code",
      "metadata": {
        "id": "HOxGYfg-CVNS",
        "colab": {
          "base_uri": "https://localhost:8080/",
          "height": 386
        },
        "outputId": "410d12e9-8f56-4feb-cbfa-3fa2ab2a3da1"
      },
      "source": [
        "def show_distplot(df, column):\n",
        "  import seaborn as sns\n",
        "  chart = sns.distplot(df[column])\n",
        "  return chart\n",
        "\n",
        "show_distplot(df_normal, 'Wellbeing')\n",
        "\n",
        "show_distplot(df_normal, 'selfesteem')"
      ],
      "execution_count": 4,
      "outputs": [
        {
          "output_type": "stream",
          "name": "stderr",
          "text": [
            "/usr/local/lib/python3.7/dist-packages/seaborn/distributions.py:2619: FutureWarning: `distplot` is a deprecated function and will be removed in a future version. Please adapt your code to use either `displot` (a figure-level function with similar flexibility) or `histplot` (an axes-level function for histograms).\n",
            "  warnings.warn(msg, FutureWarning)\n",
            "/usr/local/lib/python3.7/dist-packages/seaborn/distributions.py:2619: FutureWarning: `distplot` is a deprecated function and will be removed in a future version. Please adapt your code to use either `displot` (a figure-level function with similar flexibility) or `histplot` (an axes-level function for histograms).\n",
            "  warnings.warn(msg, FutureWarning)\n"
          ]
        },
        {
          "output_type": "execute_result",
          "data": {
            "text/plain": [
              "<matplotlib.axes._subplots.AxesSubplot at 0x7fd29ffcd650>"
            ]
          },
          "metadata": {},
          "execution_count": 4
        },
        {
          "output_type": "display_data",
          "data": {
            "image/png": "[encoded data removed]",
            "text/plain": [
              "<Figure size 432x288 with 1 Axes>"
            ]
          },
          "metadata": {
            "needs_background": "light"
          }
        }
      ]
    },
    {
      "cell_type": "markdown",
      "metadata": {
        "id": "9nIUQF5TCVNT"
      },
      "source": [
        "### Exercise 5 - Check which variables are most highly correlated\n",
        "---\n",
        "Using the `dataframe.corr()` function and Seaborn's heatmap, create a correlation heatmap matrix to check which variables are most highly correlated.\n",
        "\n",
        "A correlation matrix finds the correlation coefficient between every variable pair combination in a set of variables.  A correlation heatmap shows the degree of correlation between variables using a colour scale.\n",
        "\n",
        "*The matrix and heatmap will always show the correlation coefficients between each variable and itself, which will have a correlation coefficient of 1.*\n",
        "  \n",
        "Values closest to 1 mean the variables are positively correlated with each other with 1 meaning 100% correlated\n",
        "\n",
        "\n",
        "Values close to -1 mean the variables are negatively correlated with each other with -1 meaning 100% negatively correlated\n",
        "\n",
        "1. create the correlation matrix assigning it to a variable called **correlation_matrix** using the .corr() function and rounding to 2 decimal places:\n",
        "\n",
        "  `correlation_matrix = dataframe.corr().round(2)`\n",
        "\n",
        "*This will create a matrix similar to the linear regression matrix created in the numpy worksheet, but with more than two variables.*\n",
        "\n",
        "2. create a heatmap of the correlation matrix using:\n",
        "\n",
        " `sns.heatmap(data=data_variable, annot=True)`\n",
        "\n",
        "*Hint: Use `annot = True` to print the correlation values inside the square*\n",
        "\n",
        "3. Which variables are the most highly correlated with each other (closest to 1 or -1)?"
      ]
    },
    {
      "cell_type": "code",
      "metadata": {
        "id": "GyYYASZvCVNT",
        "colab": {
          "base_uri": "https://localhost:8080/",
          "height": 363
        },
        "outputId": "4a8d5ce8-9330-48eb-a94b-91369a8ff39b"
      },
      "source": [
        "# Create and show the correlation martrix\n",
        "def show_correlation_matrix(df):\n",
        "  corr_matrix = df.corr().round(2)\n",
        "  return corr_matrix\n",
        "\n",
        "correlation_matrix = show_correlation_matrix(df_normal)\n",
        "display(correlation_matrix)"
      ],
      "execution_count": 5,
      "outputs": [
        {
          "output_type": "display_data",
          "data": {
            "text/html": [
              "\n",
              "  <div id=\"df-eb70480e-dad5-4dda-b13e-b5427ce2649b\">\n",
              "    <div class=\"colab-df-container\">\n",
              "      <div>\n",
              "<style scoped>\n",
              "    .dataframe tbody tr th:only-of-type {\n",
              "        vertical-align: middle;\n",
              "    }\n",
              "\n",
              "    .dataframe tbody tr th {\n",
              "        vertical-align: top;\n",
              "    }\n",
              "\n",
              "    .dataframe thead th {\n",
              "        text-align: right;\n",
              "    }\n",
              "</style>\n",
              "<table border=\"1\" class=\"dataframe\">\n",
              "  <thead>\n",
              "    <tr style=\"text-align: right;\">\n",
              "      <th></th>\n",
              "      <th>Age</th>\n",
              "      <th>Ukresidence</th>\n",
              "      <th>MAAS</th>\n",
              "      <th>Resilliance</th>\n",
              "      <th>Wellbeing</th>\n",
              "      <th>Stress</th>\n",
              "      <th>selfesteem</th>\n",
              "      <th>LoC</th>\n",
              "      <th>sleep</th>\n",
              "      <th>Year</th>\n",
              "    </tr>\n",
              "  </thead>\n",
              "  <tbody>\n",
              "    <tr>\n",
              "      <th>Age</th>\n",
              "      <td>1.00</td>\n",
              "      <td>0.15</td>\n",
              "      <td>0.18</td>\n",
              "      <td>0.09</td>\n",
              "      <td>0.02</td>\n",
              "      <td>0.15</td>\n",
              "      <td>-0.07</td>\n",
              "      <td>0.32</td>\n",
              "      <td>-0.13</td>\n",
              "      <td>NaN</td>\n",
              "    </tr>\n",
              "    <tr>\n",
              "      <th>Ukresidence</th>\n",
              "      <td>0.15</td>\n",
              "      <td>1.00</td>\n",
              "      <td>0.17</td>\n",
              "      <td>0.11</td>\n",
              "      <td>0.14</td>\n",
              "      <td>-0.15</td>\n",
              "      <td>-0.05</td>\n",
              "      <td>-0.20</td>\n",
              "      <td>0.30</td>\n",
              "      <td>NaN</td>\n",
              "    </tr>\n",
              "    <tr>\n",
              "      <th>MAAS</th>\n",
              "      <td>0.18</td>\n",
              "      <td>0.17</td>\n",
              "      <td>1.00</td>\n",
              "      <td>0.39</td>\n",
              "      <td>0.02</td>\n",
              "      <td>-0.16</td>\n",
              "      <td>0.16</td>\n",
              "      <td>-0.26</td>\n",
              "      <td>0.38</td>\n",
              "      <td>NaN</td>\n",
              "    </tr>\n",
              "    <tr>\n",
              "      <th>Resilliance</th>\n",
              "      <td>0.09</td>\n",
              "      <td>0.11</td>\n",
              "      <td>0.39</td>\n",
              "      <td>1.00</td>\n",
              "      <td>0.38</td>\n",
              "      <td>-0.46</td>\n",
              "      <td>0.45</td>\n",
              "      <td>-0.46</td>\n",
              "      <td>0.20</td>\n",
              "      <td>NaN</td>\n",
              "    </tr>\n",
              "    <tr>\n",
              "      <th>Wellbeing</th>\n",
              "      <td>0.02</td>\n",
              "      <td>0.14</td>\n",
              "      <td>0.02</td>\n",
              "      <td>0.38</td>\n",
              "      <td>1.00</td>\n",
              "      <td>-0.59</td>\n",
              "      <td>0.54</td>\n",
              "      <td>-0.21</td>\n",
              "      <td>0.29</td>\n",
              "      <td>NaN</td>\n",
              "    </tr>\n",
              "    <tr>\n",
              "      <th>Stress</th>\n",
              "      <td>0.15</td>\n",
              "      <td>-0.15</td>\n",
              "      <td>-0.16</td>\n",
              "      <td>-0.46</td>\n",
              "      <td>-0.59</td>\n",
              "      <td>1.00</td>\n",
              "      <td>-0.65</td>\n",
              "      <td>0.36</td>\n",
              "      <td>-0.30</td>\n",
              "      <td>NaN</td>\n",
              "    </tr>\n",
              "    <tr>\n",
              "      <th>selfesteem</th>\n",
              "      <td>-0.07</td>\n",
              "      <td>-0.05</td>\n",
              "      <td>0.16</td>\n",
              "      <td>0.45</td>\n",
              "      <td>0.54</td>\n",
              "      <td>-0.65</td>\n",
              "      <td>1.00</td>\n",
              "      <td>-0.41</td>\n",
              "      <td>0.22</td>\n",
              "      <td>NaN</td>\n",
              "    </tr>\n",
              "    <tr>\n",
              "      <th>LoC</th>\n",
              "      <td>0.32</td>\n",
              "      <td>-0.20</td>\n",
              "      <td>-0.26</td>\n",
              "      <td>-0.46</td>\n",
              "      <td>-0.21</td>\n",
              "      <td>0.36</td>\n",
              "      <td>-0.41</td>\n",
              "      <td>1.00</td>\n",
              "      <td>-0.24</td>\n",
              "      <td>NaN</td>\n",
              "    </tr>\n",
              "    <tr>\n",
              "      <th>sleep</th>\n",
              "      <td>-0.13</td>\n",
              "      <td>0.30</td>\n",
              "      <td>0.38</td>\n",
              "      <td>0.20</td>\n",
              "      <td>0.29</td>\n",
              "      <td>-0.30</td>\n",
              "      <td>0.22</td>\n",
              "      <td>-0.24</td>\n",
              "      <td>1.00</td>\n",
              "      <td>NaN</td>\n",
              "    </tr>\n",
              "    <tr>\n",
              "      <th>Year</th>\n",
              "      <td>NaN</td>\n",
              "      <td>NaN</td>\n",
              "      <td>NaN</td>\n",
              "      <td>NaN</td>\n",
              "      <td>NaN</td>\n",
              "      <td>NaN</td>\n",
              "      <td>NaN</td>\n",
              "      <td>NaN</td>\n",
              "      <td>NaN</td>\n",
              "      <td>NaN</td>\n",
              "    </tr>\n",
              "  </tbody>\n",
              "</table>\n",
              "</div>\n",
              "      <button class=\"colab-df-convert\" onclick=\"convertToInteractive('df-eb70480e-dad5-4dda-b13e-b5427ce2649b')\"\n",
              "              title=\"Convert this dataframe to an interactive table.\"\n",
              "              style=\"display:none;\">\n",
              "        \n",
              "  <svg xmlns=\"http://www.w3.org/2000/svg\" height=\"24px\"viewBox=\"0 0 24 24\"\n",
              "       width=\"24px\">\n",
              "    <path d=\"M0 0h24v24H0V0z\" fill=\"none\"/>\n",
              "    <path d=\"M18.56 5.44l.94 2.06.94-2.06 2.06-.94-2.06-.94-.94-2.06-.94 2.06-2.06.94zm-11 1L8.5 8.5l.94-2.06 2.06-.94-2.06-.94L8.5 2.5l-.94 2.06-2.06.94zm10 10l.94 2.06.94-2.06 2.06-.94-2.06-.94-.94-2.06-.94 2.06-2.06.94z\"/><path d=\"M17.41 7.96l-1.37-1.37c-.4-.4-.92-.59-1.43-.59-.52 0-1.04.2-1.43.59L10.3 9.45l-7.72 7.72c-.78.78-.78 2.05 0 2.83L4 21.41c.39.39.9.59 1.41.59.51 0 1.02-.2 1.41-.59l7.78-7.78 2.81-2.81c.8-.78.8-2.07 0-2.86zM5.41 20L4 18.59l7.72-7.72 1.47 1.35L5.41 20z\"/>\n",
              "  </svg>\n",
              "      </button>\n",
              "      \n",
              "  <style>\n",
              "    .colab-df-container {\n",
              "      display:flex;\n",
              "      flex-wrap:wrap;\n",
              "      gap: 12px;\n",
              "    }\n",
              "\n",
              "    .colab-df-convert {\n",
              "      background-color: #E8F0FE;\n",
              "      border: none;\n",
              "      border-radius: 50%;\n",
              "      cursor: pointer;\n",
              "      display: none;\n",
              "      fill: #1967D2;\n",
              "      height: 32px;\n",
              "      padding: 0 0 0 0;\n",
              "      width: 32px;\n",
              "    }\n",
              "\n",
              "    .colab-df-convert:hover {\n",
              "      background-color: #E2EBFA;\n",
              "      box-shadow: 0px 1px 2px rgba(60, 64, 67, 0.3), 0px 1px 3px 1px rgba(60, 64, 67, 0.15);\n",
              "      fill: #174EA6;\n",
              "    }\n",
              "\n",
              "    [theme=dark] .colab-df-convert {\n",
              "      background-color: #3B4455;\n",
              "      fill: #D2E3FC;\n",
              "    }\n",
              "\n",
              "    [theme=dark] .colab-df-convert:hover {\n",
              "      background-color: #434B5C;\n",
              "      box-shadow: 0px 1px 3px 1px rgba(0, 0, 0, 0.15);\n",
              "      filter: drop-shadow(0px 1px 2px rgba(0, 0, 0, 0.3));\n",
              "      fill: #FFFFFF;\n",
              "    }\n",
              "  </style>\n",
              "\n",
              "      <script>\n",
              "        const buttonEl =\n",
              "          document.querySelector('#df-eb70480e-dad5-4dda-b13e-b5427ce2649b button.colab-df-convert');\n",
              "        buttonEl.style.display =\n",
              "          google.colab.kernel.accessAllowed ? 'block' : 'none';\n",
              "\n",
              "        async function convertToInteractive(key) {\n",
              "          const element = document.querySelector('#df-eb70480e-dad5-4dda-b13e-b5427ce2649b');\n",
              "          const dataTable =\n",
              "            await google.colab.kernel.invokeFunction('convertToInteractive',\n",
              "                                                     [key], {});\n",
              "          if (!dataTable) return;\n",
              "\n",
              "          const docLinkHtml = 'Like what you see? Visit the ' +\n",
              "            '<a target=\"_blank\" href=https://colab.research.google.com/notebooks/data_table.ipynb>data table notebook</a>'\n",
              "            + ' to learn more about interactive tables.';\n",
              "          element.innerHTML = '';\n",
              "          dataTable['output_type'] = 'display_data';\n",
              "          await google.colab.output.renderOutput(dataTable, element);\n",
              "          const docLink = document.createElement('div');\n",
              "          docLink.innerHTML = docLinkHtml;\n",
              "          element.appendChild(docLink);\n",
              "        }\n",
              "      </script>\n",
              "    </div>\n",
              "  </div>\n",
              "  "
            ],
            "text/plain": [
              "              Age  Ukresidence  MAAS  ...   LoC  sleep  Year\n",
              "Age          1.00         0.15  0.18  ...  0.32  -0.13   NaN\n",
              "Ukresidence  0.15         1.00  0.17  ... -0.20   0.30   NaN\n",
              "MAAS         0.18         0.17  1.00  ... -0.26   0.38   NaN\n",
              "Resilliance  0.09         0.11  0.39  ... -0.46   0.20   NaN\n",
              "Wellbeing    0.02         0.14  0.02  ... -0.21   0.29   NaN\n",
              "Stress       0.15        -0.15 -0.16  ...  0.36  -0.30   NaN\n",
              "selfesteem  -0.07        -0.05  0.16  ... -0.41   0.22   NaN\n",
              "LoC          0.32        -0.20 -0.26  ...  1.00  -0.24   NaN\n",
              "sleep       -0.13         0.30  0.38  ... -0.24   1.00   NaN\n",
              "Year          NaN          NaN   NaN  ...   NaN    NaN   NaN\n",
              "\n",
              "[10 rows x 10 columns]"
            ]
          },
          "metadata": {}
        }
      ]
    },
    {
      "cell_type": "code",
      "source": [
        "# Create and show the heatmap\n",
        "def show_heatmap(df):\n",
        "  import seaborn as sns\n",
        "  chart = sns.heatmap (data=correlation_matrix, annot=True)\n",
        "\n",
        "show_heatmap(df_normal)"
      ],
      "metadata": {
        "colab": {
          "base_uri": "https://localhost:8080/",
          "height": 321
        },
        "id": "eNYeimrvkiB_",
        "outputId": "3d15f347-f4fc-40c5-905d-97d8c0d6b94c"
      },
      "execution_count": 6,
      "outputs": [
        {
          "output_type": "display_data",
          "data": {
            "image/png": "[encoded data removed]",
            "text/plain": [
              "<Figure size 432x288 with 2 Axes>"
            ]
          },
          "metadata": {
            "needs_background": "light"
          }
        }
      ]
    },
    {
      "cell_type": "markdown",
      "source": [
        "The 'Strees' and the 'selfesteem' are the two most higly correlated variables with a negative correlation figure of -0.65."
      ],
      "metadata": {
        "id": "GJ4BvixansBN"
      }
    },
    {
      "cell_type": "markdown",
      "metadata": {
        "id": "jZgZHqbHCVNU"
      },
      "source": [
        "### Exercise 6 - Linear regression \n",
        "---\n",
        "Using the `linregress` function, perform a linear regression on the Wellbeing and selfesteem columns   \n",
        "To do this:\n",
        "\n",
        "1. `from scipy.stats import linregress`\n",
        "2. create a variable 'x' which stores the Wellbeing column\n",
        "3. create a variable 'y' which stores the selfesteem column\n",
        "4. create a variable called regression and assign the result of running the linregress function with x, y as its parameters ( linregress(x,y) )\n",
        "5. display the regression\n",
        "6. display the slope (regression.slope)\n",
        "7. display the y-intercept\n",
        "8. display the r^2 value (rvalue**2)\n",
        "9. display the pvalue \n"
      ]
    },
    {
      "cell_type": "code",
      "metadata": {
        "id": "5SpVEyHZCVNU",
        "colab": {
          "base_uri": "https://localhost:8080/",
          "height": 121
        },
        "outputId": "5704c280-8a27-4ec7-d95d-53e34ba08677"
      },
      "source": [
        "def get_regression(x, y):\n",
        "  from scipy.stats import linregress\n",
        "  # Calculate regression for the variables\n",
        "  regression = linregress(x,y)\n",
        "  # Get slope value\n",
        "  slope = regression.slope\n",
        "  # Get intercept value\n",
        "  intercept = regression.intercept\n",
        "  # Get r value\n",
        "  r_value = regression.rvalue\n",
        "  # Get p value\n",
        "  p_value = regression.pvalue\n",
        "  # Return and display the values\n",
        "  return regression, slope, intercept, r_value, p_value\n",
        "\n",
        "def show_regression(x, y):\n",
        "  # Show regression\n",
        "  regression, slope, intercept, r_value, p_value =  get_regression(x, y)\n",
        "  display(regression)\n",
        "  print(f'slope:        {slope}')\n",
        "  print(f'intercept:    {intercept}')\n",
        "  print(f'r value:      {r_value}')\n",
        "  r_sqr = r_value * r_value\n",
        "  print(f'r^2 value:    {r_sqr}')\n",
        "  print(f'p value:      {p_value}')\n",
        "\n",
        "# Create x, y variables\n",
        "x = df_normal['selfesteem']\n",
        "y = df_normal['Wellbeing']\n",
        "show_regression(x, y)"
      ],
      "execution_count": 7,
      "outputs": [
        {
          "output_type": "display_data",
          "data": {
            "text/plain": [
              "LinregressResult(slope=0.7022711142654365, intercept=11.837473385379703, rvalue=0.5404239144691151, pvalue=0.0004608825728611857, stderr=0.18222914316575428)"
            ]
          },
          "metadata": {}
        },
        {
          "output_type": "stream",
          "name": "stdout",
          "text": [
            "slope:        0.7022711142654365\n",
            "intercept:    11.837473385379703\n",
            "r value:      0.5404239144691151\n",
            "r^2 value:    0.29205800733012144\n",
            "p value:      0.0004608825728611857\n"
          ]
        }
      ]
    },
    {
      "cell_type": "markdown",
      "metadata": {
        "id": "ordhi_WUCVNU"
      },
      "source": [
        "### Exercise 7 - understanding the output \n",
        "---\n",
        "The r^2 value (rvalue**2) helps us understand how much our independent variable (x) is predicting our dependent variable (y). The closer to 1 the rvalue is the more  the change in Y is explained by X. So an rvalue of 0.7 means that 70% of Y's variance can be explained by X. \n",
        "\n",
        "Our pvalue shows how significant our model is, if the pvalue is < 0.05 then the model is significant. \n",
        "\n",
        "On this basis, write below the findings of the above regression.\n",
        "* is the model significant?\n",
        "* how much is the change in y explained by x? "
      ]
    },
    {
      "cell_type": "markdown",
      "metadata": {
        "id": "wVCxB73eCVNV"
      },
      "source": [
        "**Write about the findings here**: "
      ]
    },
    {
      "cell_type": "markdown",
      "metadata": {
        "id": "z7TcYPrOCVNV"
      },
      "source": [
        "### Exercise 8 - Linear regression with other variables \n",
        "---\n",
        "\n",
        "Referring back to the correlation heatmap..  \n",
        "*  Repeat Exercise 6 but with the variables that were the most highly correlated according to the heatmap.   \n",
        "* write a comment comparing the results of this regression with the one you created in exercise 6"
      ]
    },
    {
      "cell_type": "code",
      "metadata": {
        "id": "WHJi2r8zCVNV",
        "colab": {
          "base_uri": "https://localhost:8080/",
          "height": 121
        },
        "outputId": "876ecf96-49c8-47f6-af2e-a46c3fe114e7"
      },
      "source": [
        "# Create x, y variables\n",
        "x = df_normal['Stress']\n",
        "y = df_normal['selfesteem']\n",
        "show_regression(x, y)"
      ],
      "execution_count": 8,
      "outputs": [
        {
          "output_type": "display_data",
          "data": {
            "text/plain": [
              "LinregressResult(slope=-0.34911734164070585, intercept=27.653167185877457, rvalue=-0.6453778726515037, pvalue=1.2153933598082418e-05, stderr=0.06886869318001401)"
            ]
          },
          "metadata": {}
        },
        {
          "output_type": "stream",
          "name": "stdout",
          "text": [
            "slope:        -0.34911734164070585\n",
            "intercept:    27.653167185877457\n",
            "r value:      -0.6453778726515037\n",
            "r^2 value:    0.4165125985081805\n",
            "p value:      1.2153933598082418e-05\n"
          ]
        }
      ]
    },
    {
      "cell_type": "markdown",
      "metadata": {
        "id": "SaFhxdjEzKNL"
      },
      "source": [
        "**Comment here**: The 'Stress' and 'selfesteem' variables have higher / stronger correlation between them with a negative correlation figure of round -0.65 meaning that 65% of DV's variance can be explained by IV. Since the pvalue of 1.22^-5 < 0.05 that shows our model is statistical significant."
      ]
    },
    {
      "cell_type": "markdown",
      "metadata": {
        "id": "dvvgY68hCVNW"
      },
      "source": [
        "### Exercise 9 - Plotting a line of best fit \n",
        "---\n",
        "To create a line of best fit we use y = slope\\*x + intercept. \n",
        "\n",
        "Using matplotlib (dont forget to import it):\n",
        "\n",
        "* create a scatter graph between Wellbeing and selfesteem \n",
        "* plot a line of best fit using the results in exercise 6  (y = slope * x + intercept)  "
      ]
    },
    {
      "cell_type": "code",
      "metadata": {
        "id": "KVT8QqYCCVNW",
        "colab": {
          "base_uri": "https://localhost:8080/",
          "height": 295
        },
        "outputId": "cf9a9d13-7a70-4570-8346-abac5cd8de31"
      },
      "source": [
        "# Draw the plot\n",
        "def show_corr_scatterplot(x, y, slope, intercept, xlabel=None, ylabel=None):\n",
        "  import matplotlib.pyplot as plt  \n",
        "  # Draw the scatter graph\n",
        "  plt.scatter(x,y)\n",
        "  plt.title('The Line of Best Fit')\n",
        "  plt.xlabel(xlabel)\n",
        "  plt.ylabel(ylabel)\n",
        "  # Draw the regression line and show the graph\n",
        "  y = slope*x + intercept\n",
        "  plt.plot(x, y, color='red')\n",
        "  plt.show()\n",
        "\n",
        "# Create x, y variables\n",
        "x = df_normal['selfesteem']\n",
        "y = df_normal['Wellbeing']\n",
        "\n",
        "# Get regression values\n",
        "regr_values, slope, intercept, r_value, p_value = get_regression(x,y)\n",
        "\n",
        "# Display\n",
        "show_corr_scatterplot(x, y, slope, intercept, 'Self Esteem', y.name)"
      ],
      "execution_count": 9,
      "outputs": [
        {
          "output_type": "display_data",
          "data": {
            "image/png": "[encoded data removed]",
            "text/plain": [
              "<Figure size 432x288 with 1 Axes>"
            ]
          },
          "metadata": {
            "needs_background": "light"
          }
        }
      ]
    },
    {
      "cell_type": "markdown",
      "metadata": {
        "id": "-KcUIkXHCVNW"
      },
      "source": [
        "### Exercise 10 - using Seaborn to plot a regression line \n",
        "---\n",
        "\n",
        "Use Seaborn's `regplot` function to create a scatter graph with line of best fit of the variables you used in Exercise 8.\n",
        "\n",
        "* Compare the 'Wellbeing' and 'selfesteem' graph to the graph you created in Exercise 9"
      ]
    },
    {
      "cell_type": "code",
      "metadata": {
        "id": "-xVsVD4GCVNX",
        "colab": {
          "base_uri": "https://localhost:8080/",
          "height": 295
        },
        "outputId": "6d029ad7-c2ab-4c77-d1a7-ddaf94c7d53f"
      },
      "source": [
        "def show_sn_corr_scatterplot(x, y, slope, intercept, xlabel=None, ylabel=None):\n",
        "  import seaborn as sns\n",
        "  # Draw the scatter plot\n",
        "  chart = sns.scatterplot(x=x,y=y)\n",
        "  # Plot and show regression\n",
        "  chart = sns.regplot(x=x, y=(slope*x + intercept), color='red')\n",
        "  chart.set_title('The Line of Best Fit')\n",
        "  chart.set_xlabel(xlabel)\n",
        "  chart.set_ylabel(ylabel)\n",
        "\n",
        "# Create x, y variables\n",
        "x = df_normal['selfesteem']\n",
        "y = df_normal['Wellbeing']\n",
        "\n",
        "# Get regression values\n",
        "regr_values, slope, intercept, r_value, p_value = get_regression(x,y)\n",
        "\n",
        "# Display\n",
        "show_sn_corr_scatterplot(x, y, slope, intercept, 'Self Esteem', y.name)"
      ],
      "execution_count": 10,
      "outputs": [
        {
          "output_type": "display_data",
          "data": {
            "image/png": "[encoded data removed]",
            "text/plain": [
              "<Figure size 432x288 with 1 Axes>"
            ]
          },
          "metadata": {
            "needs_background": "light"
          }
        }
      ]
    },
    {
      "cell_type": "markdown",
      "source": [
        "Both graphs show the line of best fit on a scatter graph but the Seaborn version highlights the data points that lie exactly on the best fit line."
      ],
      "metadata": {
        "id": "t6eqjElQxiM_"
      }
    }
  ]
}